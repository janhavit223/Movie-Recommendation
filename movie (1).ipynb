{
  "nbformat": 4,
  "nbformat_minor": 0,
  "metadata": {
    "colab": {
      "provenance": []
    },
    "kernelspec": {
      "name": "python3",
      "display_name": "Python 3"
    },
    "language_info": {
      "name": "python"
    }
  },
  "cells": [
    {
      "cell_type": "markdown",
      "source": [
        "MOVIE RECOMMENDATION SYSTEM"
      ],
      "metadata": {
        "id": "f4zeuvIJ9N2F"
      }
    },
    {
      "cell_type": "markdown",
      "source": [
        "**Objective**"
      ],
      "metadata": {
        "id": "R9xD1XEf9X_4"
      }
    },
    {
      "cell_type": "markdown",
      "source": [
        "A recommendation system: A recommender system is a class of machine learning that uses data to help predict, narrow down, and find what people are looking for among an exponentially growing number of options.\n",
        "\n",
        "The primary goal of movie recommendation systems is to filter and predict only those movies that a corresponding user is most likely to want to watch."
      ],
      "metadata": {
        "id": "YPupeB6x9_zs"
      }
    },
    {
      "cell_type": "markdown",
      "source": [
        "Import Library"
      ],
      "metadata": {
        "id": "ecyvobNm-Rot"
      }
    },
    {
      "cell_type": "code",
      "source": [
        "import pandas as pd\n",
        "import numpy as np"
      ],
      "metadata": {
        "id": "fOMBE71c90pu"
      },
      "execution_count": null,
      "outputs": []
    },
    {
      "cell_type": "markdown",
      "source": [
        "Import Data"
      ],
      "metadata": {
        "id": "BfabJbkj_DcQ"
      }
    },
    {
      "cell_type": "code",
      "source": [
        "df = pd.read_csv('/content/Movies Recommendation.csv')"
      ],
      "metadata": {
        "id": "OL706l_Klr9h"
      },
      "execution_count": null,
      "outputs": []
    },
    {
      "cell_type": "code",
      "source": [
        "df.head()"
      ],
      "metadata": {
        "colab": {
          "base_uri": "https://localhost:8080/",
          "height": 716
        },
        "id": "SDWeiDDzCR8c",
        "outputId": "6d70c53f-8381-4db7-da07-a7699f8c7cfc"
      },
      "execution_count": null,
      "outputs": [
        {
          "output_type": "execute_result",
          "data": {
            "text/plain": [
              "   Movie_ID      Movie_Title                       Movie_Genre Movie_Language  \\\n",
              "0         1       Four Rooms                      Crime Comedy             en   \n",
              "1         2        Star Wars  Adventure Action Science Fiction             en   \n",
              "2         3     Finding Nemo                  Animation Family             en   \n",
              "3         4     Forrest Gump              Comedy Drama Romance             en   \n",
              "4         5  American Beauty                             Drama             en   \n",
              "\n",
              "   Movie_Budget  Movie_Popularity Movie_Release_Date  Movie_Revenue  \\\n",
              "0       4000000         22.876230         09-12-1995        4300000   \n",
              "1      11000000        126.393695         25-05-1977      775398007   \n",
              "2      94000000         85.688789         30-05-2003      940335536   \n",
              "3      55000000        138.133331         06-07-1994      677945399   \n",
              "4      15000000         80.878605         15-09-1999      356296601   \n",
              "\n",
              "   Movie_Runtime  Movie_Vote  ...  \\\n",
              "0           98.0         6.5  ...   \n",
              "1          121.0         8.1  ...   \n",
              "2          100.0         7.6  ...   \n",
              "3          142.0         8.2  ...   \n",
              "4          122.0         7.9  ...   \n",
              "\n",
              "                                      Movie_Homepage  \\\n",
              "0                                                NaN   \n",
              "1  http://www.starwars.com/films/star-wars-episod...   \n",
              "2              http://movies.disney.com/finding-nemo   \n",
              "3                                                NaN   \n",
              "4                      http://www.dreamworks.com/ab/   \n",
              "\n",
              "                                      Movie_Keywords  \\\n",
              "0          hotel new year's eve witch bet hotel room   \n",
              "1        android galaxy hermit death star lightsaber   \n",
              "2  father son relationship harbor underwater fish...   \n",
              "3  vietnam veteran hippie mentally disabled runni...   \n",
              "4  male nudity female nudity adultery midlife cri...   \n",
              "\n",
              "                                      Movie_Overview  \\\n",
              "0  It's Ted the Bellhop's first night on the job....   \n",
              "1  Princess Leia is captured and held hostage by ...   \n",
              "2  Nemo, an adventurous young clownfish, is unexp...   \n",
              "3  A man with a low IQ has accomplished great thi...   \n",
              "4  Lester Burnham, a depressed suburban father in...   \n",
              "\n",
              "                              Movie_Production_House  \\\n",
              "0  [{\"name\": \"Miramax Films\", \"id\": 14}, {\"name\":...   \n",
              "1  [{\"name\": \"Lucasfilm\", \"id\": 1}, {\"name\": \"Twe...   \n",
              "2     [{\"name\": \"Pixar Animation Studios\", \"id\": 3}]   \n",
              "3          [{\"name\": \"Paramount Pictures\", \"id\": 4}]   \n",
              "4  [{\"name\": \"DreamWorks SKG\", \"id\": 27}, {\"name\"...   \n",
              "\n",
              "                            Movie_Production_Country  \\\n",
              "0  [{\"iso_3166_1\": \"US\", \"name\": \"United States o...   \n",
              "1  [{\"iso_3166_1\": \"US\", \"name\": \"United States o...   \n",
              "2  [{\"iso_3166_1\": \"US\", \"name\": \"United States o...   \n",
              "3  [{\"iso_3166_1\": \"US\", \"name\": \"United States o...   \n",
              "4  [{\"iso_3166_1\": \"US\", \"name\": \"United States o...   \n",
              "\n",
              "                      Movie_Spoken_Language  \\\n",
              "0  [{\"iso_639_1\": \"en\", \"name\": \"English\"}]   \n",
              "1  [{\"iso_639_1\": \"en\", \"name\": \"English\"}]   \n",
              "2  [{\"iso_639_1\": \"en\", \"name\": \"English\"}]   \n",
              "3  [{\"iso_639_1\": \"en\", \"name\": \"English\"}]   \n",
              "4  [{\"iso_639_1\": \"en\", \"name\": \"English\"}]   \n",
              "\n",
              "                                       Movie_Tagline  \\\n",
              "0  Twelve outrageous guests. Four scandalous requ...   \n",
              "1       A long time ago in a galaxy far, far away...   \n",
              "2  There are 3.7 trillion fish in the ocean, they...   \n",
              "3  The world will never be the same, once you've ...   \n",
              "4                                       Look closer.   \n",
              "\n",
              "                                          Movie_Cast  \\\n",
              "0  Tim Roth Antonio Banderas Jennifer Beals Madon...   \n",
              "1  Mark Hamill Harrison Ford Carrie Fisher Peter ...   \n",
              "2  Albert Brooks Ellen DeGeneres Alexander Gould ...   \n",
              "3  Tom Hanks Robin Wright Gary Sinise Mykelti Wil...   \n",
              "4  Kevin Spacey Annette Bening Thora Birch Wes Be...   \n",
              "\n",
              "                                          Movie_Crew   Movie_Director  \n",
              "0  [{'name': 'Allison Anders', 'gender': 1, 'depa...   Allison Anders  \n",
              "1  [{'name': 'George Lucas', 'gender': 2, 'depart...     George Lucas  \n",
              "2  [{'name': 'Andrew Stanton', 'gender': 2, 'depa...   Andrew Stanton  \n",
              "3  [{'name': 'Alan Silvestri', 'gender': 2, 'depa...  Robert Zemeckis  \n",
              "4  [{'name': 'Thomas Newman', 'gender': 2, 'depar...       Sam Mendes  \n",
              "\n",
              "[5 rows x 21 columns]"
            ],
            "text/html": [
              "\n",
              "  <div id=\"df-4667a16b-254a-455c-8a87-1e17f0f38a7d\">\n",
              "    <div class=\"colab-df-container\">\n",
              "      <div>\n",
              "<style scoped>\n",
              "    .dataframe tbody tr th:only-of-type {\n",
              "        vertical-align: middle;\n",
              "    }\n",
              "\n",
              "    .dataframe tbody tr th {\n",
              "        vertical-align: top;\n",
              "    }\n",
              "\n",
              "    .dataframe thead th {\n",
              "        text-align: right;\n",
              "    }\n",
              "</style>\n",
              "<table border=\"1\" class=\"dataframe\">\n",
              "  <thead>\n",
              "    <tr style=\"text-align: right;\">\n",
              "      <th></th>\n",
              "      <th>Movie_ID</th>\n",
              "      <th>Movie_Title</th>\n",
              "      <th>Movie_Genre</th>\n",
              "      <th>Movie_Language</th>\n",
              "      <th>Movie_Budget</th>\n",
              "      <th>Movie_Popularity</th>\n",
              "      <th>Movie_Release_Date</th>\n",
              "      <th>Movie_Revenue</th>\n",
              "      <th>Movie_Runtime</th>\n",
              "      <th>Movie_Vote</th>\n",
              "      <th>...</th>\n",
              "      <th>Movie_Homepage</th>\n",
              "      <th>Movie_Keywords</th>\n",
              "      <th>Movie_Overview</th>\n",
              "      <th>Movie_Production_House</th>\n",
              "      <th>Movie_Production_Country</th>\n",
              "      <th>Movie_Spoken_Language</th>\n",
              "      <th>Movie_Tagline</th>\n",
              "      <th>Movie_Cast</th>\n",
              "      <th>Movie_Crew</th>\n",
              "      <th>Movie_Director</th>\n",
              "    </tr>\n",
              "  </thead>\n",
              "  <tbody>\n",
              "    <tr>\n",
              "      <th>0</th>\n",
              "      <td>1</td>\n",
              "      <td>Four Rooms</td>\n",
              "      <td>Crime Comedy</td>\n",
              "      <td>en</td>\n",
              "      <td>4000000</td>\n",
              "      <td>22.876230</td>\n",
              "      <td>09-12-1995</td>\n",
              "      <td>4300000</td>\n",
              "      <td>98.0</td>\n",
              "      <td>6.5</td>\n",
              "      <td>...</td>\n",
              "      <td>NaN</td>\n",
              "      <td>hotel new year's eve witch bet hotel room</td>\n",
              "      <td>It's Ted the Bellhop's first night on the job....</td>\n",
              "      <td>[{\"name\": \"Miramax Films\", \"id\": 14}, {\"name\":...</td>\n",
              "      <td>[{\"iso_3166_1\": \"US\", \"name\": \"United States o...</td>\n",
              "      <td>[{\"iso_639_1\": \"en\", \"name\": \"English\"}]</td>\n",
              "      <td>Twelve outrageous guests. Four scandalous requ...</td>\n",
              "      <td>Tim Roth Antonio Banderas Jennifer Beals Madon...</td>\n",
              "      <td>[{'name': 'Allison Anders', 'gender': 1, 'depa...</td>\n",
              "      <td>Allison Anders</td>\n",
              "    </tr>\n",
              "    <tr>\n",
              "      <th>1</th>\n",
              "      <td>2</td>\n",
              "      <td>Star Wars</td>\n",
              "      <td>Adventure Action Science Fiction</td>\n",
              "      <td>en</td>\n",
              "      <td>11000000</td>\n",
              "      <td>126.393695</td>\n",
              "      <td>25-05-1977</td>\n",
              "      <td>775398007</td>\n",
              "      <td>121.0</td>\n",
              "      <td>8.1</td>\n",
              "      <td>...</td>\n",
              "      <td>http://www.starwars.com/films/star-wars-episod...</td>\n",
              "      <td>android galaxy hermit death star lightsaber</td>\n",
              "      <td>Princess Leia is captured and held hostage by ...</td>\n",
              "      <td>[{\"name\": \"Lucasfilm\", \"id\": 1}, {\"name\": \"Twe...</td>\n",
              "      <td>[{\"iso_3166_1\": \"US\", \"name\": \"United States o...</td>\n",
              "      <td>[{\"iso_639_1\": \"en\", \"name\": \"English\"}]</td>\n",
              "      <td>A long time ago in a galaxy far, far away...</td>\n",
              "      <td>Mark Hamill Harrison Ford Carrie Fisher Peter ...</td>\n",
              "      <td>[{'name': 'George Lucas', 'gender': 2, 'depart...</td>\n",
              "      <td>George Lucas</td>\n",
              "    </tr>\n",
              "    <tr>\n",
              "      <th>2</th>\n",
              "      <td>3</td>\n",
              "      <td>Finding Nemo</td>\n",
              "      <td>Animation Family</td>\n",
              "      <td>en</td>\n",
              "      <td>94000000</td>\n",
              "      <td>85.688789</td>\n",
              "      <td>30-05-2003</td>\n",
              "      <td>940335536</td>\n",
              "      <td>100.0</td>\n",
              "      <td>7.6</td>\n",
              "      <td>...</td>\n",
              "      <td>http://movies.disney.com/finding-nemo</td>\n",
              "      <td>father son relationship harbor underwater fish...</td>\n",
              "      <td>Nemo, an adventurous young clownfish, is unexp...</td>\n",
              "      <td>[{\"name\": \"Pixar Animation Studios\", \"id\": 3}]</td>\n",
              "      <td>[{\"iso_3166_1\": \"US\", \"name\": \"United States o...</td>\n",
              "      <td>[{\"iso_639_1\": \"en\", \"name\": \"English\"}]</td>\n",
              "      <td>There are 3.7 trillion fish in the ocean, they...</td>\n",
              "      <td>Albert Brooks Ellen DeGeneres Alexander Gould ...</td>\n",
              "      <td>[{'name': 'Andrew Stanton', 'gender': 2, 'depa...</td>\n",
              "      <td>Andrew Stanton</td>\n",
              "    </tr>\n",
              "    <tr>\n",
              "      <th>3</th>\n",
              "      <td>4</td>\n",
              "      <td>Forrest Gump</td>\n",
              "      <td>Comedy Drama Romance</td>\n",
              "      <td>en</td>\n",
              "      <td>55000000</td>\n",
              "      <td>138.133331</td>\n",
              "      <td>06-07-1994</td>\n",
              "      <td>677945399</td>\n",
              "      <td>142.0</td>\n",
              "      <td>8.2</td>\n",
              "      <td>...</td>\n",
              "      <td>NaN</td>\n",
              "      <td>vietnam veteran hippie mentally disabled runni...</td>\n",
              "      <td>A man with a low IQ has accomplished great thi...</td>\n",
              "      <td>[{\"name\": \"Paramount Pictures\", \"id\": 4}]</td>\n",
              "      <td>[{\"iso_3166_1\": \"US\", \"name\": \"United States o...</td>\n",
              "      <td>[{\"iso_639_1\": \"en\", \"name\": \"English\"}]</td>\n",
              "      <td>The world will never be the same, once you've ...</td>\n",
              "      <td>Tom Hanks Robin Wright Gary Sinise Mykelti Wil...</td>\n",
              "      <td>[{'name': 'Alan Silvestri', 'gender': 2, 'depa...</td>\n",
              "      <td>Robert Zemeckis</td>\n",
              "    </tr>\n",
              "    <tr>\n",
              "      <th>4</th>\n",
              "      <td>5</td>\n",
              "      <td>American Beauty</td>\n",
              "      <td>Drama</td>\n",
              "      <td>en</td>\n",
              "      <td>15000000</td>\n",
              "      <td>80.878605</td>\n",
              "      <td>15-09-1999</td>\n",
              "      <td>356296601</td>\n",
              "      <td>122.0</td>\n",
              "      <td>7.9</td>\n",
              "      <td>...</td>\n",
              "      <td>http://www.dreamworks.com/ab/</td>\n",
              "      <td>male nudity female nudity adultery midlife cri...</td>\n",
              "      <td>Lester Burnham, a depressed suburban father in...</td>\n",
              "      <td>[{\"name\": \"DreamWorks SKG\", \"id\": 27}, {\"name\"...</td>\n",
              "      <td>[{\"iso_3166_1\": \"US\", \"name\": \"United States o...</td>\n",
              "      <td>[{\"iso_639_1\": \"en\", \"name\": \"English\"}]</td>\n",
              "      <td>Look closer.</td>\n",
              "      <td>Kevin Spacey Annette Bening Thora Birch Wes Be...</td>\n",
              "      <td>[{'name': 'Thomas Newman', 'gender': 2, 'depar...</td>\n",
              "      <td>Sam Mendes</td>\n",
              "    </tr>\n",
              "  </tbody>\n",
              "</table>\n",
              "<p>5 rows × 21 columns</p>\n",
              "</div>\n",
              "      <button class=\"colab-df-convert\" onclick=\"convertToInteractive('df-4667a16b-254a-455c-8a87-1e17f0f38a7d')\"\n",
              "              title=\"Convert this dataframe to an interactive table.\"\n",
              "              style=\"display:none;\">\n",
              "        \n",
              "  <svg xmlns=\"http://www.w3.org/2000/svg\" height=\"24px\"viewBox=\"0 0 24 24\"\n",
              "       width=\"24px\">\n",
              "    <path d=\"M0 0h24v24H0V0z\" fill=\"none\"/>\n",
              "    <path d=\"M18.56 5.44l.94 2.06.94-2.06 2.06-.94-2.06-.94-.94-2.06-.94 2.06-2.06.94zm-11 1L8.5 8.5l.94-2.06 2.06-.94-2.06-.94L8.5 2.5l-.94 2.06-2.06.94zm10 10l.94 2.06.94-2.06 2.06-.94-2.06-.94-.94-2.06-.94 2.06-2.06.94z\"/><path d=\"M17.41 7.96l-1.37-1.37c-.4-.4-.92-.59-1.43-.59-.52 0-1.04.2-1.43.59L10.3 9.45l-7.72 7.72c-.78.78-.78 2.05 0 2.83L4 21.41c.39.39.9.59 1.41.59.51 0 1.02-.2 1.41-.59l7.78-7.78 2.81-2.81c.8-.78.8-2.07 0-2.86zM5.41 20L4 18.59l7.72-7.72 1.47 1.35L5.41 20z\"/>\n",
              "  </svg>\n",
              "      </button>\n",
              "      \n",
              "  <style>\n",
              "    .colab-df-container {\n",
              "      display:flex;\n",
              "      flex-wrap:wrap;\n",
              "      gap: 12px;\n",
              "    }\n",
              "\n",
              "    .colab-df-convert {\n",
              "      background-color: #E8F0FE;\n",
              "      border: none;\n",
              "      border-radius: 50%;\n",
              "      cursor: pointer;\n",
              "      display: none;\n",
              "      fill: #1967D2;\n",
              "      height: 32px;\n",
              "      padding: 0 0 0 0;\n",
              "      width: 32px;\n",
              "    }\n",
              "\n",
              "    .colab-df-convert:hover {\n",
              "      background-color: #E2EBFA;\n",
              "      box-shadow: 0px 1px 2px rgba(60, 64, 67, 0.3), 0px 1px 3px 1px rgba(60, 64, 67, 0.15);\n",
              "      fill: #174EA6;\n",
              "    }\n",
              "\n",
              "    [theme=dark] .colab-df-convert {\n",
              "      background-color: #3B4455;\n",
              "      fill: #D2E3FC;\n",
              "    }\n",
              "\n",
              "    [theme=dark] .colab-df-convert:hover {\n",
              "      background-color: #434B5C;\n",
              "      box-shadow: 0px 1px 3px 1px rgba(0, 0, 0, 0.15);\n",
              "      filter: drop-shadow(0px 1px 2px rgba(0, 0, 0, 0.3));\n",
              "      fill: #FFFFFF;\n",
              "    }\n",
              "  </style>\n",
              "\n",
              "      <script>\n",
              "        const buttonEl =\n",
              "          document.querySelector('#df-4667a16b-254a-455c-8a87-1e17f0f38a7d button.colab-df-convert');\n",
              "        buttonEl.style.display =\n",
              "          google.colab.kernel.accessAllowed ? 'block' : 'none';\n",
              "\n",
              "        async function convertToInteractive(key) {\n",
              "          const element = document.querySelector('#df-4667a16b-254a-455c-8a87-1e17f0f38a7d');\n",
              "          const dataTable =\n",
              "            await google.colab.kernel.invokeFunction('convertToInteractive',\n",
              "                                                     [key], {});\n",
              "          if (!dataTable) return;\n",
              "\n",
              "          const docLinkHtml = 'Like what you see? Visit the ' +\n",
              "            '<a target=\"_blank\" href=https://colab.research.google.com/notebooks/data_table.ipynb>data table notebook</a>'\n",
              "            + ' to learn more about interactive tables.';\n",
              "          element.innerHTML = '';\n",
              "          dataTable['output_type'] = 'display_data';\n",
              "          await google.colab.output.renderOutput(dataTable, element);\n",
              "          const docLink = document.createElement('div');\n",
              "          docLink.innerHTML = docLinkHtml;\n",
              "          element.appendChild(docLink);\n",
              "        }\n",
              "      </script>\n",
              "    </div>\n",
              "  </div>\n",
              "  "
            ]
          },
          "metadata": {},
          "execution_count": 4
        }
      ]
    },
    {
      "cell_type": "code",
      "source": [
        "df.info()"
      ],
      "metadata": {
        "colab": {
          "base_uri": "https://localhost:8080/"
        },
        "id": "p8NkiXLiCwZQ",
        "outputId": "23ed65d7-b0c2-49d3-cb16-b677160b916f"
      },
      "execution_count": null,
      "outputs": [
        {
          "output_type": "stream",
          "name": "stdout",
          "text": [
            "<class 'pandas.core.frame.DataFrame'>\n",
            "RangeIndex: 4760 entries, 0 to 4759\n",
            "Data columns (total 21 columns):\n",
            " #   Column                    Non-Null Count  Dtype  \n",
            "---  ------                    --------------  -----  \n",
            " 0   Movie_ID                  4760 non-null   int64  \n",
            " 1   Movie_Title               4760 non-null   object \n",
            " 2   Movie_Genre               4760 non-null   object \n",
            " 3   Movie_Language            4760 non-null   object \n",
            " 4   Movie_Budget              4760 non-null   int64  \n",
            " 5   Movie_Popularity          4760 non-null   float64\n",
            " 6   Movie_Release_Date        4760 non-null   object \n",
            " 7   Movie_Revenue             4760 non-null   int64  \n",
            " 8   Movie_Runtime             4758 non-null   float64\n",
            " 9   Movie_Vote                4760 non-null   float64\n",
            " 10  Movie_Vote_Count          4760 non-null   int64  \n",
            " 11  Movie_Homepage            1699 non-null   object \n",
            " 12  Movie_Keywords            4373 non-null   object \n",
            " 13  Movie_Overview            4757 non-null   object \n",
            " 14  Movie_Production_House    4760 non-null   object \n",
            " 15  Movie_Production_Country  4760 non-null   object \n",
            " 16  Movie_Spoken_Language     4760 non-null   object \n",
            " 17  Movie_Tagline             3942 non-null   object \n",
            " 18  Movie_Cast                4733 non-null   object \n",
            " 19  Movie_Crew                4760 non-null   object \n",
            " 20  Movie_Director            4738 non-null   object \n",
            "dtypes: float64(3), int64(4), object(14)\n",
            "memory usage: 781.1+ KB\n"
          ]
        }
      ]
    },
    {
      "cell_type": "code",
      "source": [
        "df.describe()"
      ],
      "metadata": {
        "colab": {
          "base_uri": "https://localhost:8080/",
          "height": 364
        },
        "id": "P6MP3ccAFnee",
        "outputId": "ee61161e-d251-4ae1-e287-288f5b2d5c58"
      },
      "execution_count": null,
      "outputs": [
        {
          "output_type": "execute_result",
          "data": {
            "text/plain": [
              "          Movie_ID  Movie_Budget  Movie_Popularity  Movie_Revenue  \\\n",
              "count  4760.000000  4.760000e+03       4760.000000   4.760000e+03   \n",
              "mean   2382.566387  2.920129e+07         21.599510   8.263743e+07   \n",
              "std    1377.270159  4.075620e+07         31.887919   1.630554e+08   \n",
              "min       1.000000  0.000000e+00          0.000372   0.000000e+00   \n",
              "25%    1190.750000  9.257500e+05          4.807074   0.000000e+00   \n",
              "50%    2380.500000  1.500000e+07         13.119058   1.944716e+07   \n",
              "75%    3572.250000  4.000000e+07         28.411929   9.341276e+07   \n",
              "max    4788.000000  3.800000e+08        875.581305   2.787965e+09   \n",
              "\n",
              "       Movie_Runtime   Movie_Vote  Movie_Vote_Count  \n",
              "count    4758.000000  4760.000000       4760.000000  \n",
              "mean      107.184111     6.113866        692.508403  \n",
              "std        21.960332     1.141294       1235.007337  \n",
              "min         0.000000     0.000000          0.000000  \n",
              "25%        94.000000     5.600000         55.000000  \n",
              "50%       104.000000     6.200000        238.000000  \n",
              "75%       118.000000     6.800000        740.250000  \n",
              "max       338.000000    10.000000      13752.000000  "
            ],
            "text/html": [
              "\n",
              "  <div id=\"df-9bb9bab3-75b5-49eb-a668-334ea179fe79\">\n",
              "    <div class=\"colab-df-container\">\n",
              "      <div>\n",
              "<style scoped>\n",
              "    .dataframe tbody tr th:only-of-type {\n",
              "        vertical-align: middle;\n",
              "    }\n",
              "\n",
              "    .dataframe tbody tr th {\n",
              "        vertical-align: top;\n",
              "    }\n",
              "\n",
              "    .dataframe thead th {\n",
              "        text-align: right;\n",
              "    }\n",
              "</style>\n",
              "<table border=\"1\" class=\"dataframe\">\n",
              "  <thead>\n",
              "    <tr style=\"text-align: right;\">\n",
              "      <th></th>\n",
              "      <th>Movie_ID</th>\n",
              "      <th>Movie_Budget</th>\n",
              "      <th>Movie_Popularity</th>\n",
              "      <th>Movie_Revenue</th>\n",
              "      <th>Movie_Runtime</th>\n",
              "      <th>Movie_Vote</th>\n",
              "      <th>Movie_Vote_Count</th>\n",
              "    </tr>\n",
              "  </thead>\n",
              "  <tbody>\n",
              "    <tr>\n",
              "      <th>count</th>\n",
              "      <td>4760.000000</td>\n",
              "      <td>4.760000e+03</td>\n",
              "      <td>4760.000000</td>\n",
              "      <td>4.760000e+03</td>\n",
              "      <td>4758.000000</td>\n",
              "      <td>4760.000000</td>\n",
              "      <td>4760.000000</td>\n",
              "    </tr>\n",
              "    <tr>\n",
              "      <th>mean</th>\n",
              "      <td>2382.566387</td>\n",
              "      <td>2.920129e+07</td>\n",
              "      <td>21.599510</td>\n",
              "      <td>8.263743e+07</td>\n",
              "      <td>107.184111</td>\n",
              "      <td>6.113866</td>\n",
              "      <td>692.508403</td>\n",
              "    </tr>\n",
              "    <tr>\n",
              "      <th>std</th>\n",
              "      <td>1377.270159</td>\n",
              "      <td>4.075620e+07</td>\n",
              "      <td>31.887919</td>\n",
              "      <td>1.630554e+08</td>\n",
              "      <td>21.960332</td>\n",
              "      <td>1.141294</td>\n",
              "      <td>1235.007337</td>\n",
              "    </tr>\n",
              "    <tr>\n",
              "      <th>min</th>\n",
              "      <td>1.000000</td>\n",
              "      <td>0.000000e+00</td>\n",
              "      <td>0.000372</td>\n",
              "      <td>0.000000e+00</td>\n",
              "      <td>0.000000</td>\n",
              "      <td>0.000000</td>\n",
              "      <td>0.000000</td>\n",
              "    </tr>\n",
              "    <tr>\n",
              "      <th>25%</th>\n",
              "      <td>1190.750000</td>\n",
              "      <td>9.257500e+05</td>\n",
              "      <td>4.807074</td>\n",
              "      <td>0.000000e+00</td>\n",
              "      <td>94.000000</td>\n",
              "      <td>5.600000</td>\n",
              "      <td>55.000000</td>\n",
              "    </tr>\n",
              "    <tr>\n",
              "      <th>50%</th>\n",
              "      <td>2380.500000</td>\n",
              "      <td>1.500000e+07</td>\n",
              "      <td>13.119058</td>\n",
              "      <td>1.944716e+07</td>\n",
              "      <td>104.000000</td>\n",
              "      <td>6.200000</td>\n",
              "      <td>238.000000</td>\n",
              "    </tr>\n",
              "    <tr>\n",
              "      <th>75%</th>\n",
              "      <td>3572.250000</td>\n",
              "      <td>4.000000e+07</td>\n",
              "      <td>28.411929</td>\n",
              "      <td>9.341276e+07</td>\n",
              "      <td>118.000000</td>\n",
              "      <td>6.800000</td>\n",
              "      <td>740.250000</td>\n",
              "    </tr>\n",
              "    <tr>\n",
              "      <th>max</th>\n",
              "      <td>4788.000000</td>\n",
              "      <td>3.800000e+08</td>\n",
              "      <td>875.581305</td>\n",
              "      <td>2.787965e+09</td>\n",
              "      <td>338.000000</td>\n",
              "      <td>10.000000</td>\n",
              "      <td>13752.000000</td>\n",
              "    </tr>\n",
              "  </tbody>\n",
              "</table>\n",
              "</div>\n",
              "      <button class=\"colab-df-convert\" onclick=\"convertToInteractive('df-9bb9bab3-75b5-49eb-a668-334ea179fe79')\"\n",
              "              title=\"Convert this dataframe to an interactive table.\"\n",
              "              style=\"display:none;\">\n",
              "        \n",
              "  <svg xmlns=\"http://www.w3.org/2000/svg\" height=\"24px\"viewBox=\"0 0 24 24\"\n",
              "       width=\"24px\">\n",
              "    <path d=\"M0 0h24v24H0V0z\" fill=\"none\"/>\n",
              "    <path d=\"M18.56 5.44l.94 2.06.94-2.06 2.06-.94-2.06-.94-.94-2.06-.94 2.06-2.06.94zm-11 1L8.5 8.5l.94-2.06 2.06-.94-2.06-.94L8.5 2.5l-.94 2.06-2.06.94zm10 10l.94 2.06.94-2.06 2.06-.94-2.06-.94-.94-2.06-.94 2.06-2.06.94z\"/><path d=\"M17.41 7.96l-1.37-1.37c-.4-.4-.92-.59-1.43-.59-.52 0-1.04.2-1.43.59L10.3 9.45l-7.72 7.72c-.78.78-.78 2.05 0 2.83L4 21.41c.39.39.9.59 1.41.59.51 0 1.02-.2 1.41-.59l7.78-7.78 2.81-2.81c.8-.78.8-2.07 0-2.86zM5.41 20L4 18.59l7.72-7.72 1.47 1.35L5.41 20z\"/>\n",
              "  </svg>\n",
              "      </button>\n",
              "      \n",
              "  <style>\n",
              "    .colab-df-container {\n",
              "      display:flex;\n",
              "      flex-wrap:wrap;\n",
              "      gap: 12px;\n",
              "    }\n",
              "\n",
              "    .colab-df-convert {\n",
              "      background-color: #E8F0FE;\n",
              "      border: none;\n",
              "      border-radius: 50%;\n",
              "      cursor: pointer;\n",
              "      display: none;\n",
              "      fill: #1967D2;\n",
              "      height: 32px;\n",
              "      padding: 0 0 0 0;\n",
              "      width: 32px;\n",
              "    }\n",
              "\n",
              "    .colab-df-convert:hover {\n",
              "      background-color: #E2EBFA;\n",
              "      box-shadow: 0px 1px 2px rgba(60, 64, 67, 0.3), 0px 1px 3px 1px rgba(60, 64, 67, 0.15);\n",
              "      fill: #174EA6;\n",
              "    }\n",
              "\n",
              "    [theme=dark] .colab-df-convert {\n",
              "      background-color: #3B4455;\n",
              "      fill: #D2E3FC;\n",
              "    }\n",
              "\n",
              "    [theme=dark] .colab-df-convert:hover {\n",
              "      background-color: #434B5C;\n",
              "      box-shadow: 0px 1px 3px 1px rgba(0, 0, 0, 0.15);\n",
              "      filter: drop-shadow(0px 1px 2px rgba(0, 0, 0, 0.3));\n",
              "      fill: #FFFFFF;\n",
              "    }\n",
              "  </style>\n",
              "\n",
              "      <script>\n",
              "        const buttonEl =\n",
              "          document.querySelector('#df-9bb9bab3-75b5-49eb-a668-334ea179fe79 button.colab-df-convert');\n",
              "        buttonEl.style.display =\n",
              "          google.colab.kernel.accessAllowed ? 'block' : 'none';\n",
              "\n",
              "        async function convertToInteractive(key) {\n",
              "          const element = document.querySelector('#df-9bb9bab3-75b5-49eb-a668-334ea179fe79');\n",
              "          const dataTable =\n",
              "            await google.colab.kernel.invokeFunction('convertToInteractive',\n",
              "                                                     [key], {});\n",
              "          if (!dataTable) return;\n",
              "\n",
              "          const docLinkHtml = 'Like what you see? Visit the ' +\n",
              "            '<a target=\"_blank\" href=https://colab.research.google.com/notebooks/data_table.ipynb>data table notebook</a>'\n",
              "            + ' to learn more about interactive tables.';\n",
              "          element.innerHTML = '';\n",
              "          dataTable['output_type'] = 'display_data';\n",
              "          await google.colab.output.renderOutput(dataTable, element);\n",
              "          const docLink = document.createElement('div');\n",
              "          docLink.innerHTML = docLinkHtml;\n",
              "          element.appendChild(docLink);\n",
              "        }\n",
              "      </script>\n",
              "    </div>\n",
              "  </div>\n",
              "  "
            ]
          },
          "metadata": {},
          "execution_count": 19
        }
      ]
    },
    {
      "cell_type": "code",
      "source": [
        "df.shape"
      ],
      "metadata": {
        "colab": {
          "base_uri": "https://localhost:8080/"
        },
        "id": "-2koI0nECyB2",
        "outputId": "f4ae5464-30a5-4377-96bc-51b87191419b"
      },
      "execution_count": null,
      "outputs": [
        {
          "output_type": "execute_result",
          "data": {
            "text/plain": [
              "(4760, 21)"
            ]
          },
          "metadata": {},
          "execution_count": 8
        }
      ]
    },
    {
      "cell_type": "code",
      "source": [
        "df.columns"
      ],
      "metadata": {
        "colab": {
          "base_uri": "https://localhost:8080/"
        },
        "id": "AiSDmZrfC1GV",
        "outputId": "91ccef93-04da-464d-8c93-c2c89498b116"
      },
      "execution_count": null,
      "outputs": [
        {
          "output_type": "execute_result",
          "data": {
            "text/plain": [
              "Index(['Movie_ID', 'Movie_Title', 'Movie_Genre', 'Movie_Language',\n",
              "       'Movie_Budget', 'Movie_Popularity', 'Movie_Release_Date',\n",
              "       'Movie_Revenue', 'Movie_Runtime', 'Movie_Vote', 'Movie_Vote_Count',\n",
              "       'Movie_Homepage', 'Movie_Keywords', 'Movie_Overview',\n",
              "       'Movie_Production_House', 'Movie_Production_Country',\n",
              "       'Movie_Spoken_Language', 'Movie_Tagline', 'Movie_Cast', 'Movie_Crew',\n",
              "       'Movie_Director'],\n",
              "      dtype='object')"
            ]
          },
          "metadata": {},
          "execution_count": 10
        }
      ]
    },
    {
      "cell_type": "markdown",
      "source": [
        "Get feature selection"
      ],
      "metadata": {
        "id": "Npm_8uCUC6s8"
      }
    },
    {
      "cell_type": "code",
      "source": [
        "df_features = df[['Movie_Genre','Movie_Keywords','Movie_Tagline','Movie_Cast','Movie_Director']].fillna('')"
      ],
      "metadata": {
        "id": "4ZU3OqEIC9RT"
      },
      "execution_count": null,
      "outputs": []
    },
    {
      "cell_type": "code",
      "source": [
        "df_features.shape"
      ],
      "metadata": {
        "colab": {
          "base_uri": "https://localhost:8080/"
        },
        "id": "6yIoJyBvEE9Q",
        "outputId": "86bb7468-65ad-4e33-9171-aebc0561e005"
      },
      "execution_count": null,
      "outputs": [
        {
          "output_type": "execute_result",
          "data": {
            "text/plain": [
              "(4760, 5)"
            ]
          },
          "metadata": {},
          "execution_count": 13
        }
      ]
    },
    {
      "cell_type": "code",
      "source": [
        "df_features"
      ],
      "metadata": {
        "colab": {
          "base_uri": "https://localhost:8080/",
          "height": 1000
        },
        "id": "pW8tswHyEIDc",
        "outputId": "ebfab684-0740-4944-ac3e-f62cacd0673f"
      },
      "execution_count": null,
      "outputs": [
        {
          "output_type": "execute_result",
          "data": {
            "text/plain": [
              "                           Movie_Genre  \\\n",
              "0                         Crime Comedy   \n",
              "1     Adventure Action Science Fiction   \n",
              "2                     Animation Family   \n",
              "3                 Comedy Drama Romance   \n",
              "4                                Drama   \n",
              "...                                ...   \n",
              "4755                            Horror   \n",
              "4756               Comedy Family Drama   \n",
              "4757                    Thriller Drama   \n",
              "4758                            Family   \n",
              "4759                       Documentary   \n",
              "\n",
              "                                         Movie_Keywords  \\\n",
              "0             hotel new year's eve witch bet hotel room   \n",
              "1           android galaxy hermit death star lightsaber   \n",
              "2     father son relationship harbor underwater fish...   \n",
              "3     vietnam veteran hippie mentally disabled runni...   \n",
              "4     male nudity female nudity adultery midlife cri...   \n",
              "...                                                 ...   \n",
              "4755                                                      \n",
              "4756                                                      \n",
              "4757                     christian film sex trafficking   \n",
              "4758                                                      \n",
              "4759  music actors legendary perfomer classic hollyw...   \n",
              "\n",
              "                                          Movie_Tagline  \\\n",
              "0     Twelve outrageous guests. Four scandalous requ...   \n",
              "1          A long time ago in a galaxy far, far away...   \n",
              "2     There are 3.7 trillion fish in the ocean, they...   \n",
              "3     The world will never be the same, once you've ...   \n",
              "4                                          Look closer.   \n",
              "...                                                 ...   \n",
              "4755                The hot spot where Satan's waitin'.   \n",
              "4756           It’s better to stand out than to fit in.   \n",
              "4757           She never knew it could happen to her...   \n",
              "4758                                                      \n",
              "4759                                                      \n",
              "\n",
              "                                             Movie_Cast     Movie_Director  \n",
              "0     Tim Roth Antonio Banderas Jennifer Beals Madon...     Allison Anders  \n",
              "1     Mark Hamill Harrison Ford Carrie Fisher Peter ...       George Lucas  \n",
              "2     Albert Brooks Ellen DeGeneres Alexander Gould ...     Andrew Stanton  \n",
              "3     Tom Hanks Robin Wright Gary Sinise Mykelti Wil...    Robert Zemeckis  \n",
              "4     Kevin Spacey Annette Bening Thora Birch Wes Be...         Sam Mendes  \n",
              "...                                                 ...                ...  \n",
              "4755  Lisa Hart Carroll Michael Des Barres Paul Drak...         Pece Dingo  \n",
              "4756  Roni Akurati Brighton Sharbino Jason Lee Anjul...       Frank Lotito  \n",
              "4757  Nicole Smolen Kim Baldwin Ariana Stephens Brys...       Jaco Booyens  \n",
              "4758                                                                        \n",
              "4759                                    Tony Oppedisano  Simon Napier-Bell  \n",
              "\n",
              "[4760 rows x 5 columns]"
            ],
            "text/html": [
              "\n",
              "  <div id=\"df-fc2c34e1-ffb3-49da-9210-295470775b27\">\n",
              "    <div class=\"colab-df-container\">\n",
              "      <div>\n",
              "<style scoped>\n",
              "    .dataframe tbody tr th:only-of-type {\n",
              "        vertical-align: middle;\n",
              "    }\n",
              "\n",
              "    .dataframe tbody tr th {\n",
              "        vertical-align: top;\n",
              "    }\n",
              "\n",
              "    .dataframe thead th {\n",
              "        text-align: right;\n",
              "    }\n",
              "</style>\n",
              "<table border=\"1\" class=\"dataframe\">\n",
              "  <thead>\n",
              "    <tr style=\"text-align: right;\">\n",
              "      <th></th>\n",
              "      <th>Movie_Genre</th>\n",
              "      <th>Movie_Keywords</th>\n",
              "      <th>Movie_Tagline</th>\n",
              "      <th>Movie_Cast</th>\n",
              "      <th>Movie_Director</th>\n",
              "    </tr>\n",
              "  </thead>\n",
              "  <tbody>\n",
              "    <tr>\n",
              "      <th>0</th>\n",
              "      <td>Crime Comedy</td>\n",
              "      <td>hotel new year's eve witch bet hotel room</td>\n",
              "      <td>Twelve outrageous guests. Four scandalous requ...</td>\n",
              "      <td>Tim Roth Antonio Banderas Jennifer Beals Madon...</td>\n",
              "      <td>Allison Anders</td>\n",
              "    </tr>\n",
              "    <tr>\n",
              "      <th>1</th>\n",
              "      <td>Adventure Action Science Fiction</td>\n",
              "      <td>android galaxy hermit death star lightsaber</td>\n",
              "      <td>A long time ago in a galaxy far, far away...</td>\n",
              "      <td>Mark Hamill Harrison Ford Carrie Fisher Peter ...</td>\n",
              "      <td>George Lucas</td>\n",
              "    </tr>\n",
              "    <tr>\n",
              "      <th>2</th>\n",
              "      <td>Animation Family</td>\n",
              "      <td>father son relationship harbor underwater fish...</td>\n",
              "      <td>There are 3.7 trillion fish in the ocean, they...</td>\n",
              "      <td>Albert Brooks Ellen DeGeneres Alexander Gould ...</td>\n",
              "      <td>Andrew Stanton</td>\n",
              "    </tr>\n",
              "    <tr>\n",
              "      <th>3</th>\n",
              "      <td>Comedy Drama Romance</td>\n",
              "      <td>vietnam veteran hippie mentally disabled runni...</td>\n",
              "      <td>The world will never be the same, once you've ...</td>\n",
              "      <td>Tom Hanks Robin Wright Gary Sinise Mykelti Wil...</td>\n",
              "      <td>Robert Zemeckis</td>\n",
              "    </tr>\n",
              "    <tr>\n",
              "      <th>4</th>\n",
              "      <td>Drama</td>\n",
              "      <td>male nudity female nudity adultery midlife cri...</td>\n",
              "      <td>Look closer.</td>\n",
              "      <td>Kevin Spacey Annette Bening Thora Birch Wes Be...</td>\n",
              "      <td>Sam Mendes</td>\n",
              "    </tr>\n",
              "    <tr>\n",
              "      <th>...</th>\n",
              "      <td>...</td>\n",
              "      <td>...</td>\n",
              "      <td>...</td>\n",
              "      <td>...</td>\n",
              "      <td>...</td>\n",
              "    </tr>\n",
              "    <tr>\n",
              "      <th>4755</th>\n",
              "      <td>Horror</td>\n",
              "      <td></td>\n",
              "      <td>The hot spot where Satan's waitin'.</td>\n",
              "      <td>Lisa Hart Carroll Michael Des Barres Paul Drak...</td>\n",
              "      <td>Pece Dingo</td>\n",
              "    </tr>\n",
              "    <tr>\n",
              "      <th>4756</th>\n",
              "      <td>Comedy Family Drama</td>\n",
              "      <td></td>\n",
              "      <td>It’s better to stand out than to fit in.</td>\n",
              "      <td>Roni Akurati Brighton Sharbino Jason Lee Anjul...</td>\n",
              "      <td>Frank Lotito</td>\n",
              "    </tr>\n",
              "    <tr>\n",
              "      <th>4757</th>\n",
              "      <td>Thriller Drama</td>\n",
              "      <td>christian film sex trafficking</td>\n",
              "      <td>She never knew it could happen to her...</td>\n",
              "      <td>Nicole Smolen Kim Baldwin Ariana Stephens Brys...</td>\n",
              "      <td>Jaco Booyens</td>\n",
              "    </tr>\n",
              "    <tr>\n",
              "      <th>4758</th>\n",
              "      <td>Family</td>\n",
              "      <td></td>\n",
              "      <td></td>\n",
              "      <td></td>\n",
              "      <td></td>\n",
              "    </tr>\n",
              "    <tr>\n",
              "      <th>4759</th>\n",
              "      <td>Documentary</td>\n",
              "      <td>music actors legendary perfomer classic hollyw...</td>\n",
              "      <td></td>\n",
              "      <td>Tony Oppedisano</td>\n",
              "      <td>Simon Napier-Bell</td>\n",
              "    </tr>\n",
              "  </tbody>\n",
              "</table>\n",
              "<p>4760 rows × 5 columns</p>\n",
              "</div>\n",
              "      <button class=\"colab-df-convert\" onclick=\"convertToInteractive('df-fc2c34e1-ffb3-49da-9210-295470775b27')\"\n",
              "              title=\"Convert this dataframe to an interactive table.\"\n",
              "              style=\"display:none;\">\n",
              "        \n",
              "  <svg xmlns=\"http://www.w3.org/2000/svg\" height=\"24px\"viewBox=\"0 0 24 24\"\n",
              "       width=\"24px\">\n",
              "    <path d=\"M0 0h24v24H0V0z\" fill=\"none\"/>\n",
              "    <path d=\"M18.56 5.44l.94 2.06.94-2.06 2.06-.94-2.06-.94-.94-2.06-.94 2.06-2.06.94zm-11 1L8.5 8.5l.94-2.06 2.06-.94-2.06-.94L8.5 2.5l-.94 2.06-2.06.94zm10 10l.94 2.06.94-2.06 2.06-.94-2.06-.94-.94-2.06-.94 2.06-2.06.94z\"/><path d=\"M17.41 7.96l-1.37-1.37c-.4-.4-.92-.59-1.43-.59-.52 0-1.04.2-1.43.59L10.3 9.45l-7.72 7.72c-.78.78-.78 2.05 0 2.83L4 21.41c.39.39.9.59 1.41.59.51 0 1.02-.2 1.41-.59l7.78-7.78 2.81-2.81c.8-.78.8-2.07 0-2.86zM5.41 20L4 18.59l7.72-7.72 1.47 1.35L5.41 20z\"/>\n",
              "  </svg>\n",
              "      </button>\n",
              "      \n",
              "  <style>\n",
              "    .colab-df-container {\n",
              "      display:flex;\n",
              "      flex-wrap:wrap;\n",
              "      gap: 12px;\n",
              "    }\n",
              "\n",
              "    .colab-df-convert {\n",
              "      background-color: #E8F0FE;\n",
              "      border: none;\n",
              "      border-radius: 50%;\n",
              "      cursor: pointer;\n",
              "      display: none;\n",
              "      fill: #1967D2;\n",
              "      height: 32px;\n",
              "      padding: 0 0 0 0;\n",
              "      width: 32px;\n",
              "    }\n",
              "\n",
              "    .colab-df-convert:hover {\n",
              "      background-color: #E2EBFA;\n",
              "      box-shadow: 0px 1px 2px rgba(60, 64, 67, 0.3), 0px 1px 3px 1px rgba(60, 64, 67, 0.15);\n",
              "      fill: #174EA6;\n",
              "    }\n",
              "\n",
              "    [theme=dark] .colab-df-convert {\n",
              "      background-color: #3B4455;\n",
              "      fill: #D2E3FC;\n",
              "    }\n",
              "\n",
              "    [theme=dark] .colab-df-convert:hover {\n",
              "      background-color: #434B5C;\n",
              "      box-shadow: 0px 1px 3px 1px rgba(0, 0, 0, 0.15);\n",
              "      filter: drop-shadow(0px 1px 2px rgba(0, 0, 0, 0.3));\n",
              "      fill: #FFFFFF;\n",
              "    }\n",
              "  </style>\n",
              "\n",
              "      <script>\n",
              "        const buttonEl =\n",
              "          document.querySelector('#df-fc2c34e1-ffb3-49da-9210-295470775b27 button.colab-df-convert');\n",
              "        buttonEl.style.display =\n",
              "          google.colab.kernel.accessAllowed ? 'block' : 'none';\n",
              "\n",
              "        async function convertToInteractive(key) {\n",
              "          const element = document.querySelector('#df-fc2c34e1-ffb3-49da-9210-295470775b27');\n",
              "          const dataTable =\n",
              "            await google.colab.kernel.invokeFunction('convertToInteractive',\n",
              "                                                     [key], {});\n",
              "          if (!dataTable) return;\n",
              "\n",
              "          const docLinkHtml = 'Like what you see? Visit the ' +\n",
              "            '<a target=\"_blank\" href=https://colab.research.google.com/notebooks/data_table.ipynb>data table notebook</a>'\n",
              "            + ' to learn more about interactive tables.';\n",
              "          element.innerHTML = '';\n",
              "          dataTable['output_type'] = 'display_data';\n",
              "          await google.colab.output.renderOutput(dataTable, element);\n",
              "          const docLink = document.createElement('div');\n",
              "          docLink.innerHTML = docLinkHtml;\n",
              "          element.appendChild(docLink);\n",
              "        }\n",
              "      </script>\n",
              "    </div>\n",
              "  </div>\n",
              "  "
            ]
          },
          "metadata": {},
          "execution_count": 14
        }
      ]
    },
    {
      "cell_type": "code",
      "source": [
        "X = df_features['Movie_Genre'] + '' + df_features['Movie_Keywords'] + ' ' + df_features['Movie_Tagline'] + '' + df_features['Movie_Cast'] + '' + df_features['Movie_Director']"
      ],
      "metadata": {
        "id": "K3sAjNxhENRX"
      },
      "execution_count": null,
      "outputs": []
    },
    {
      "cell_type": "code",
      "source": [
        "X"
      ],
      "metadata": {
        "colab": {
          "base_uri": "https://localhost:8080/"
        },
        "id": "G5sdUcpjFZ0A",
        "outputId": "ea414364-480c-4e9a-9c27-62a945e7bcdc"
      },
      "execution_count": null,
      "outputs": [
        {
          "output_type": "execute_result",
          "data": {
            "text/plain": [
              "0       Crime Comedyhotel new year's eve witch bet hot...\n",
              "1       Adventure Action Science Fictionandroid galaxy...\n",
              "2       Animation Familyfather son relationship harbor...\n",
              "3       Comedy Drama Romancevietnam veteran hippie men...\n",
              "4       Dramamale nudity female nudity adultery midlif...\n",
              "                              ...                        \n",
              "4755    Horror The hot spot where Satan's waitin'.Lisa...\n",
              "4756    Comedy Family Drama It’s better to stand out t...\n",
              "4757    Thriller Dramachristian film sex trafficking S...\n",
              "4758                                              Family \n",
              "4759    Documentarymusic actors legendary perfomer cla...\n",
              "Length: 4760, dtype: object"
            ]
          },
          "metadata": {},
          "execution_count": 17
        }
      ]
    },
    {
      "cell_type": "code",
      "source": [
        "X.shape"
      ],
      "metadata": {
        "colab": {
          "base_uri": "https://localhost:8080/"
        },
        "id": "MIgSjLr9Fbvs",
        "outputId": "292ddf94-f37c-4081-d63c-85196f4f5c25"
      },
      "execution_count": null,
      "outputs": [
        {
          "output_type": "execute_result",
          "data": {
            "text/plain": [
              "(4760,)"
            ]
          },
          "metadata": {},
          "execution_count": 18
        }
      ]
    },
    {
      "cell_type": "code",
      "source": [
        "# Step 4 : train test split\n",
        "from sklearn.model_selection import train_test_split\n",
        "X_train, X_test = train_test_split(X, train_size=0.7, random_state=2529)"
      ],
      "metadata": {
        "id": "hZ79zeAyOknY"
      },
      "execution_count": null,
      "outputs": []
    },
    {
      "cell_type": "code",
      "source": [
        "X_train.shape, X_test.shape"
      ],
      "metadata": {
        "colab": {
          "base_uri": "https://localhost:8080/"
        },
        "id": "mhfdiQX5PEcL",
        "outputId": "018b7e17-78b8-4105-c48f-d02c9ea5a04c"
      },
      "execution_count": null,
      "outputs": [
        {
          "output_type": "execute_result",
          "data": {
            "text/plain": [
              "((3332, 23793), (1428, 23793))"
            ]
          },
          "metadata": {},
          "execution_count": 60
        }
      ]
    },
    {
      "cell_type": "markdown",
      "source": [
        "Get feature Text Conversions to tokens"
      ],
      "metadata": {
        "id": "FJpjNOsmFfAJ"
      }
    },
    {
      "cell_type": "code",
      "source": [
        "from sklearn.feature_extraction.text import TfidfVectorizer"
      ],
      "metadata": {
        "id": "UXGayBoNFuV1"
      },
      "execution_count": null,
      "outputs": []
    },
    {
      "cell_type": "code",
      "source": [
        "tfidf = TfidfVectorizer()"
      ],
      "metadata": {
        "id": "I90aySK2F2Hm"
      },
      "execution_count": null,
      "outputs": []
    },
    {
      "cell_type": "code",
      "source": [
        "X = tfidf.fit_transform(X)"
      ],
      "metadata": {
        "id": "Xcuq9AYoF8jz"
      },
      "execution_count": null,
      "outputs": []
    },
    {
      "cell_type": "code",
      "source": [
        "X.shape"
      ],
      "metadata": {
        "colab": {
          "base_uri": "https://localhost:8080/"
        },
        "id": "KVa1uqpXGBLj",
        "outputId": "0358b215-89a8-4e0e-904c-951ed936a46c"
      },
      "execution_count": null,
      "outputs": [
        {
          "output_type": "execute_result",
          "data": {
            "text/plain": [
              "(4760, 23793)"
            ]
          },
          "metadata": {},
          "execution_count": 23
        }
      ]
    },
    {
      "cell_type": "code",
      "source": [
        "print(X)"
      ],
      "metadata": {
        "colab": {
          "base_uri": "https://localhost:8080/"
        },
        "id": "RbCZSvQVGDC0",
        "outputId": "d76e7bee-6772-44f9-c0d2-535bb1f32258"
      },
      "execution_count": null,
      "outputs": [
        {
          "output_type": "stream",
          "name": "stdout",
          "text": [
            "  (0, 852)\t0.16217249683336685\n",
            "  (0, 21402)\t0.1957195158049675\n",
            "  (0, 13674)\t0.14124528295872352\n",
            "  (0, 13427)\t0.1712160112849373\n",
            "  (0, 1817)\t0.18025952573650775\n",
            "  (0, 11358)\t0.0988350581246672\n",
            "  (0, 1594)\t0.14124528295872352\n",
            "  (0, 1006)\t0.13766899231333668\n",
            "  (0, 18283)\t0.1422367373383193\n",
            "  (0, 21330)\t0.11235434200282547\n",
            "  (0, 12875)\t0.08749958532574936\n",
            "  (0, 15653)\t0.062057722304633696\n",
            "  (0, 23133)\t0.17528252058679097\n",
            "  (0, 8264)\t0.08582179830177389\n",
            "  (0, 23086)\t0.10613790405866935\n",
            "  (0, 11440)\t0.13319322288674884\n",
            "  (0, 20802)\t0.09730528545238074\n",
            "  (0, 15745)\t0.07239084741433557\n",
            "  (0, 5361)\t0.11985903592984133\n",
            "  (0, 8124)\t0.11429504819312693\n",
            "  (0, 10217)\t0.19680948308476473\n",
            "  (0, 10925)\t0.1467726505080627\n",
            "  (0, 1959)\t0.1957195158049675\n",
            "  (0, 13087)\t0.153970744582032\n",
            "  (0, 15749)\t0.08224550765638705\n",
            "  :\t:\n",
            "  (4757, 9644)\t0.21830021697895316\n",
            "  (4757, 19177)\t0.16534759252826392\n",
            "  (4757, 19050)\t0.16310345137799656\n",
            "  (4757, 15405)\t0.18854241579183778\n",
            "  (4757, 8074)\t0.12577403371941828\n",
            "  (4757, 12156)\t0.2357585844526793\n",
            "  (4757, 10034)\t0.17173558080547904\n",
            "  (4757, 12044)\t0.17849495780797606\n",
            "  (4757, 20915)\t0.10698214459605472\n",
            "  (4757, 21364)\t0.09781388196944436\n",
            "  (4757, 11134)\t0.11539174587760775\n",
            "  (4757, 15342)\t0.14579429647497183\n",
            "  (4758, 7373)\t1.0\n",
            "  (4759, 15777)\t0.3301866073009095\n",
            "  (4759, 19424)\t0.3301866073009095\n",
            "  (4759, 16330)\t0.3301866073009095\n",
            "  (4759, 5931)\t0.3301866073009095\n",
            "  (4759, 301)\t0.3149298387433153\n",
            "  (4759, 12690)\t0.3149298387433153\n",
            "  (4759, 3881)\t0.27359145206697794\n",
            "  (4759, 10379)\t0.2569662483000291\n",
            "  (4759, 15183)\t0.30410498918216633\n",
            "  (4759, 8403)\t0.21220479182655572\n",
            "  (4759, 21422)\t0.20687479150919763\n",
            "  (4759, 1952)\t0.2106033662683427\n"
          ]
        }
      ]
    },
    {
      "cell_type": "markdown",
      "source": [
        "Get Similarity Score using Cosine Similarity"
      ],
      "metadata": {
        "id": "UL_c36AhGSLf"
      }
    },
    {
      "cell_type": "code",
      "source": [
        "from sklearn.metrics.pairwise import cosine_similarity"
      ],
      "metadata": {
        "id": "pkEkBGNyGWq1"
      },
      "execution_count": null,
      "outputs": []
    },
    {
      "cell_type": "code",
      "source": [
        "Similarity_Score = cosine_similarity(X)"
      ],
      "metadata": {
        "id": "f0YgoLUrGG7O"
      },
      "execution_count": null,
      "outputs": []
    },
    {
      "cell_type": "code",
      "source": [
        "Similarity_Score"
      ],
      "metadata": {
        "colab": {
          "base_uri": "https://localhost:8080/"
        },
        "id": "8kOuVx5oGltB",
        "outputId": "7d673363-80b5-4c04-f75e-56729e5b02da"
      },
      "execution_count": null,
      "outputs": [
        {
          "output_type": "execute_result",
          "data": {
            "text/plain": [
              "array([[1.        , 0.01336343, 0.03473927, ..., 0.        , 0.        ,\n",
              "        0.        ],\n",
              "       [0.01336343, 1.        , 0.00783257, ..., 0.        , 0.        ,\n",
              "        0.        ],\n",
              "       [0.03473927, 0.00783257, 1.        , ..., 0.        , 0.        ,\n",
              "        0.        ],\n",
              "       ...,\n",
              "       [0.        , 0.        , 0.        , ..., 1.        , 0.        ,\n",
              "        0.        ],\n",
              "       [0.        , 0.        , 0.        , ..., 0.        , 1.        ,\n",
              "        0.        ],\n",
              "       [0.        , 0.        , 0.        , ..., 0.        , 0.        ,\n",
              "        1.        ]])"
            ]
          },
          "metadata": {},
          "execution_count": 27
        }
      ]
    },
    {
      "cell_type": "code",
      "source": [
        "Similarity_Score.shape"
      ],
      "metadata": {
        "colab": {
          "base_uri": "https://localhost:8080/"
        },
        "id": "Xv1QoVmKGpnh",
        "outputId": "7362ed46-f68c-4b9b-860f-acaf33d330f5"
      },
      "execution_count": null,
      "outputs": [
        {
          "output_type": "execute_result",
          "data": {
            "text/plain": [
              "(4760, 4760)"
            ]
          },
          "metadata": {},
          "execution_count": 38
        }
      ]
    },
    {
      "cell_type": "markdown",
      "source": [
        "Get Movie Name as Input from User and Validate for closest spelling"
      ],
      "metadata": {
        "id": "aQKPMUngGr2h"
      }
    },
    {
      "cell_type": "code",
      "source": [
        "favourite_Movie_Name = input('enter your favourite movie:')"
      ],
      "metadata": {
        "colab": {
          "base_uri": "https://localhost:8080/"
        },
        "id": "FYpy15QlGyvK",
        "outputId": "9b290ebc-f22e-45f2-f0a2-0fdfbda3f5ed"
      },
      "execution_count": null,
      "outputs": [
        {
          "name": "stdout",
          "output_type": "stream",
          "text": [
            "enter your favourite movie:avatar\n"
          ]
        }
      ]
    },
    {
      "cell_type": "code",
      "source": [
        "All_Movies_Title_List = df['Movie_Title'].tolist()"
      ],
      "metadata": {
        "id": "AdLTw6TzHDql"
      },
      "execution_count": null,
      "outputs": []
    },
    {
      "cell_type": "code",
      "source": [
        "import difflib"
      ],
      "metadata": {
        "id": "WTvRH0XSHO7v"
      },
      "execution_count": null,
      "outputs": []
    },
    {
      "cell_type": "code",
      "source": [
        "Movie_Recommendation = difflib.get_close_matches(favourite_Movie_Name,All_Movies_Title_List)\n",
        "print(Movie_Recommendation)"
      ],
      "metadata": {
        "colab": {
          "base_uri": "https://localhost:8080/"
        },
        "id": "Rz98aDupHQhs",
        "outputId": "e66a139d-945d-4ffc-ef87-02f2a113b5f0"
      },
      "execution_count": null,
      "outputs": [
        {
          "output_type": "stream",
          "name": "stdout",
          "text": [
            "['Avatar']\n"
          ]
        }
      ]
    },
    {
      "cell_type": "code",
      "source": [
        "Close_match = Movie_Recommendation[0]\n",
        "print(Close_match)"
      ],
      "metadata": {
        "colab": {
          "base_uri": "https://localhost:8080/"
        },
        "id": "DIKJ0zcDHdhP",
        "outputId": "08f14a7a-c998-4f3d-93c3-b406f5702260"
      },
      "execution_count": null,
      "outputs": [
        {
          "output_type": "stream",
          "name": "stdout",
          "text": [
            "Avatar\n"
          ]
        }
      ]
    },
    {
      "cell_type": "code",
      "source": [
        "Index_of_Close_Match_Movie = df[df.Movie_Title == Close_match]['Movie_ID'].values[0]\n",
        "print(Index_of_Close_Match_Movie)"
      ],
      "metadata": {
        "colab": {
          "base_uri": "https://localhost:8080/"
        },
        "id": "gXo_IWDyH1Dy",
        "outputId": "b81d2c29-3175-4140-bd42-ffffffbc22bd"
      },
      "execution_count": null,
      "outputs": [
        {
          "output_type": "stream",
          "name": "stdout",
          "text": [
            "2692\n"
          ]
        }
      ]
    },
    {
      "cell_type": "code",
      "source": [
        "Recommendation_Score = list(enumerate(Similarity_Score[Index_of_Close_Match_Movie]))\n",
        "print(Recommendation_Score)"
      ],
      "metadata": {
        "colab": {
          "base_uri": "https://localhost:8080/"
        },
        "id": "FrKD0PmXIwzn",
        "outputId": "deac2794-c8f3-44ec-e690-df42c16422a5"
      },
      "execution_count": null,
      "outputs": [
        {
          "output_type": "stream",
          "name": "stdout",
          "text": [
            "[(0, 0.010889021910015177), (1, 0.0), (2, 0.0), (3, 0.008695527604947958), (4, 0.0), (5, 0.012337680813331624), (6, 0.0), (7, 0.013945546108617833), (8, 0.004024902255574166), (9, 0.005942520984648252), (10, 0.0), (11, 0.003820801591506587), (12, 0.003963793261534139), (13, 0.012981607796940853), (14, 0.0), (15, 0.022919790203472488), (16, 0.003124461939679868), (17, 0.0), (18, 0.003402162480166839), (19, 0.010003239686462797), (20, 0.0), (21, 0.013612612996216767), (22, 0.006350788900954586), (23, 0.003688401027502917), (24, 0.0), (25, 0.02795574651151725), (26, 0.0), (27, 0.0), (28, 0.0), (29, 0.023949075765741457), (30, 0.0), (31, 0.0033929026670746496), (32, 0.009253292391895537), (33, 0.01918272746417802), (34, 0.003803710666608712), (35, 0.005775471576051003), (36, 0.0), (37, 0.0), (38, 0.0), (39, 0.0), (40, 0.007128350811769669), (41, 0.003970717908687738), (42, 0.0), (43, 0.013622476284794804), (44, 0.03573049492522871), (45, 0.04716128465128405), (46, 0.013810960778408994), (47, 0.0), (48, 0.013458339348436966), (49, 0.0), (50, 0.0), (51, 0.012435184051398027), (52, 0.011508573716037331), (53, 0.0), (54, 0.0), (55, 0.0), (56, 0.006468943059960246), (57, 0.0106872887736284), (58, 0.0), (59, 0.0), (60, 0.008657647075805273), (61, 0.01792568994056482), (62, 0.06478196756609386), (63, 0.008530528165144814), (64, 0.0), (65, 0.03233415871984966), (66, 0.0), (67, 0.04166687000845678), (68, 0.021760558095648593), (69, 0.0), (70, 0.0), (71, 0.0036832305231296954), (72, 0.0), (73, 0.0), (74, 0.0039264580985121115), (75, 0.013118475923821588), (76, 0.0), (77, 0.0), (78, 0.005437292849805782), (79, 0.009814031995448868), (80, 0.0), (81, 0.0), (82, 0.010086354663245424), (83, 0.015287013558639007), (84, 0.02545940188641856), (85, 0.017917021934613607), (86, 0.012917051406030012), (87, 0.011638937722541279), (88, 0.012131853487417575), (89, 0.03771033901199241), (90, 0.0), (91, 0.0), (92, 0.0033208353852619927), (93, 0.0), (94, 0.0), (95, 0.0), (96, 0.0034298397493422593), (97, 0.0032182410026265177), (98, 0.0), (99, 0.0), (100, 0.0), (101, 0.0), (102, 0.0), (103, 0.0032352929132663448), (104, 0.010024974917630582), (105, 0.008730110328457774), (106, 0.016477470273275292), (107, 0.004028999450967344), (108, 0.03693421023607434), (109, 0.03348055292414477), (110, 0.08209379514905785), (111, 0.0034282723233091837), (112, 0.026769051436400307), (113, 0.008320026385264974), (114, 0.003542897726364996), (115, 0.0), (116, 0.020397452420443933), (117, 0.0), (118, 0.0), (119, 0.009719997504762662), (120, 0.012690587525255394), (121, 0.0033307596596505746), (122, 0.007874047035933415), (123, 0.018431432744726035), (124, 0.02285694375758577), (125, 0.0074040624536348175), (126, 0.032003633656604545), (127, 0.0034884607094024275), (128, 0.0), (129, 0.002577092667878157), (130, 0.011575357419691639), (131, 0.0066426151787075454), (132, 0.0032296539107920788), (133, 0.0), (134, 0.0), (135, 0.0), (136, 0.0033043939811667556), (137, 0.04843632355909984), (138, 0.022997894428538855), (139, 0.0), (140, 0.0), (141, 0.0), (142, 0.015734085734597482), (143, 0.0), (144, 0.014247352481577408), (145, 0.017355110261749716), (146, 0.0), (147, 0.016325758749419217), (148, 0.007828463357016292), (149, 0.010975120996976798), (150, 0.0), (151, 0.0), (152, 0.0), (153, 0.0), (154, 0.0), (155, 0.004779991852182319), (156, 0.0082017906676556), (157, 0.0), (158, 0.0), (159, 0.005123031029905381), (160, 0.013600960475468436), (161, 0.042929768436323026), (162, 0.00935070982781112), (163, 0.0), (164, 0.006156567454098105), (165, 0.003130209799145014), (166, 0.03203227056032631), (167, 0.0), (168, 0.005147173244346509), (169, 0.003706119697851928), (170, 0.008066151065478267), (171, 0.0), (172, 0.04188535271328498), (173, 0.010118763996862226), (174, 0.03421527355090221), (175, 0.020865640821739678), (176, 0.026924917912844442), (177, 0.005448648965456252), (178, 0.0038758400220328592), (179, 0.03124126776865904), (180, 0.00914924216690773), (181, 0.01697474583015195), (182, 0.006336490817206258), (183, 0.009286408175913028), (184, 0.0032820767132581323), (185, 0.039216009978332134), (186, 0.0), (187, 0.0), (188, 0.0), (189, 0.0), (190, 0.0031473755120183717), (191, 0.0), (192, 0.003898384246831764), (193, 0.029120486299854857), (194, 0.003062561345216124), (195, 0.0031039282753545622), (196, 0.0), (197, 0.009596604574338257), (198, 0.003710047529209943), (199, 0.017079832853740227), (200, 0.003356001184889027), (201, 0.00890740683814448), (202, 0.002415011219205911), (203, 0.014138814158386434), (204, 0.018856721964659217), (205, 0.0), (206, 0.0037914316417872844), (207, 0.009710248447895135), (208, 0.010898415437641175), (209, 0.01573121193499763), (210, 0.038835307811704176), (211, 0.0), (212, 0.01380536300832777), (213, 0.04819962256711177), (214, 0.0), (215, 0.003502160137434286), (216, 0.0037791843202362035), (217, 0.0), (218, 0.016660647418453016), (219, 0.0), (220, 0.0), (221, 0.0034572121495910404), (222, 0.014460543878677342), (223, 0.0), (224, 0.009472541626732691), (225, 0.0), (226, 0.0), (227, 0.04868840592791839), (228, 0.002814970442694523), (229, 0.0), (230, 0.006087204915620886), (231, 0.01320473479766071), (232, 0.006714078521556697), (233, 0.0), (234, 0.0), (235, 0.0), (236, 0.01161680640619965), (237, 0.0), (238, 0.0036747260945350748), (239, 0.0), (240, 0.024111841635512384), (241, 0.0), (242, 0.008828110799380935), (243, 0.007096667379292501), (244, 0.008446780500195898), (245, 0.0), (246, 0.0), (247, 0.0), (248, 0.0059522445987185025), (249, 0.0), (250, 0.025668157544839393), (251, 0.01626619098205543), (252, 0.014908760032829267), (253, 0.0), (254, 0.061943435050753726), (255, 0.0037738764163026514), (256, 0.0028775889357107506), (257, 0.0), (258, 0.0), (259, 0.0), (260, 0.0), (261, 0.017362613583821032), (262, 0.0), (263, 0.005978487968665559), (264, 0.0), (265, 0.0), (266, 0.007733437499800419), (267, 0.003148290394687791), (268, 0.0), (269, 0.0249400365289921), (270, 0.012485215161960633), (271, 0.00784995043180714), (272, 0.0), (273, 0.006233566420427482), (274, 0.004069133618586822), (275, 0.0), (276, 0.01148245346461057), (277, 0.005534486375712339), (278, 0.0), (279, 0.013701500080092969), (280, 0.010050162859239155), (281, 0.009581144789442454), (282, 0.02705241707540856), (283, 0.0072364212855207475), (284, 0.023920539365347486), (285, 0.00784716777678048), (286, 0.0032154238056360126), (287, 0.014222598904084116), (288, 0.00536746971180417), (289, 0.0), (290, 0.0), (291, 0.0), (292, 0.04685137165409145), (293, 0.0), (294, 0.0), (295, 0.0), (296, 0.012586323746983765), (297, 0.0), (298, 0.0), (299, 0.0), (300, 0.006004051764421911), (301, 0.006534276996233751), (302, 0.0), (303, 0.0), (304, 0.0), (305, 0.0), (306, 0.0), (307, 0.009222212213110996), (308, 0.0), (309, 0.008227296417716851), (310, 0.0), (311, 0.0), (312, 0.0), (313, 0.006495718500706038), (314, 0.0), (315, 0.0), (316, 0.0), (317, 0.011246374087843397), (318, 0.004060942388514648), (319, 0.0), (320, 0.0), (321, 0.006101921544676022), (322, 0.006253246556096754), (323, 0.0), (324, 0.0), (325, 0.0034150370118558163), (326, 0.0043504278760377515), (327, 0.005668466612612186), (328, 0.04421742181831983), (329, 0.012220772735766891), (330, 0.02033394175991501), (331, 0.0), (332, 0.009408892157145651), (333, 0.007696776580220431), (334, 0.021305966203521355), (335, 0.0), (336, 0.004725972307222274), (337, 0.0), (338, 0.0), (339, 0.0), (340, 0.0067866794916123276), (341, 0.006754431040848785), (342, 0.010742614144867175), (343, 0.01605380978714243), (344, 0.0), (345, 0.01703811333083883), (346, 0.0063058444019210335), (347, 0.0), (348, 0.0035583835740651782), (349, 0.003535440937801938), (350, 0.003920390174834662), (351, 0.0027962182365576164), (352, 0.0), (353, 0.010115164878597482), (354, 0.005769416068178529), (355, 0.0033566320582935003), (356, 0.009461327802811217), (357, 0.0032471039334836522), (358, 0.015924823933122955), (359, 0.0033486839922838027), (360, 0.008004697086890968), (361, 0.0), (362, 0.0), (363, 0.006790345262009093), (364, 0.018846173847216346), (365, 0.0), (366, 0.0), (367, 0.0), (368, 0.010083441791469597), (369, 0.006616719194003762), (370, 0.01217567912628795), (371, 0.023453463400251357), (372, 0.0034515618546378363), (373, 0.0034922021999336116), (374, 0.016042452569852456), (375, 0.0), (376, 0.0), (377, 0.0), (378, 0.0), (379, 0.0), (380, 0.0), (381, 0.02671629827347914), (382, 0.0), (383, 0.021302127573654905), (384, 0.027413574266396616), (385, 0.009421316255626975), (386, 0.0067620316455698215), (387, 0.03727734418392749), (388, 0.0034218602296128145), (389, 0.0), (390, 0.0), (391, 0.0), (392, 0.0), (393, 0.0), (394, 0.0), (395, 0.0), (396, 0.008454254450834203), (397, 0.0), (398, 0.023737679212404376), (399, 0.0), (400, 0.0035880045191178877), (401, 0.0), (402, 0.007605839982690965), (403, 0.008534467574580828), (404, 0.0), (405, 0.0), (406, 0.010076643755326742), (407, 0.013080780922207623), (408, 0.046034271807239575), (409, 0.01652010187963629), (410, 0.003358460617516455), (411, 0.0), (412, 0.041818865931412555), (413, 0.006662363954529783), (414, 0.004754826484392224), (415, 0.0), (416, 0.003341552368301847), (417, 0.0), (418, 0.009048783103083892), (419, 0.004182419823381859), (420, 0.0), (421, 0.02792423346504972), (422, 0.0), (423, 0.0), (424, 0.026219873668844308), (425, 0.0), (426, 0.0), (427, 0.0), (428, 0.009118589838735359), (429, 0.013039669141910421), (430, 0.03032000014956309), (431, 0.0041812985205430435), (432, 0.0), (433, 0.013427035641061427), (434, 0.011469715854709546), (435, 0.007026261071817139), (436, 0.004060869829954962), (437, 0.015962425886881317), (438, 0.0389774618746654), (439, 0.0), (440, 0.0), (441, 0.008381506876972818), (442, 0.018209154431781695), (443, 0.004150109366358791), (444, 0.0), (445, 0.005544071883572258), (446, 0.00629650476742165), (447, 0.008605160787713126), (448, 0.004205474456195134), (449, 0.0058921752204129305), (450, 0.013290610874660203), (451, 0.0), (452, 0.012575439005802259), (453, 0.0029486112224929905), (454, 0.0), (455, 0.04438228742927689), (456, 0.0038143876282678876), (457, 0.0033124136818181438), (458, 0.013582782012839426), (459, 0.02605825350929855), (460, 0.0), (461, 0.009893184156920492), (462, 0.0), (463, 0.009185907254674488), (464, 0.010138921130827967), (465, 0.028506746426772415), (466, 0.0), (467, 0.0), (468, 0.005988396355915545), (469, 0.0), (470, 0.010551249109815034), (471, 0.0033988055785779707), (472, 0.010491444005497693), (473, 0.0), (474, 0.0), (475, 0.0035561762660254893), (476, 0.0), (477, 0.005194213935393333), (478, 0.0), (479, 0.04367980266893538), (480, 0.003227351144052176), (481, 0.003967203677638982), (482, 0.010329866430344451), (483, 0.008854271065872112), (484, 0.0), (485, 0.009263578942986773), (486, 0.0), (487, 0.0), (488, 0.0034522259982635883), (489, 0.0), (490, 0.0036245549302632014), (491, 0.0), (492, 0.0), (493, 0.00384458719482825), (494, 0.00860709575572977), (495, 0.003288630873576574), (496, 0.014186847402883415), (497, 0.0), (498, 0.0), (499, 0.0), (500, 0.008418749689900286), (501, 0.007761417797549796), (502, 0.012539991183467557), (503, 0.0), (504, 0.0037168166426466303), (505, 0.0), (506, 0.0), (507, 0.0), (508, 0.0), (509, 0.003682235319271297), (510, 0.014850303685707774), (511, 0.011529885935124124), (512, 0.0), (513, 0.0), (514, 0.0), (515, 0.02470323125296993), (516, 0.0), (517, 0.0), (518, 0.0), (519, 0.046022597674199014), (520, 0.0), (521, 0.006356731910372361), (522, 0.0035436036120966127), (523, 0.006542384717630354), (524, 0.0), (525, 0.0), (526, 0.0), (527, 0.010120163377109094), (528, 0.0), (529, 0.0), (530, 0.02587513305158177), (531, 0.0), (532, 0.0), (533, 0.01357545016279898), (534, 0.01295794174725606), (535, 0.0), (536, 0.0), (537, 0.006983280648255122), (538, 0.010612106467295827), (539, 0.0), (540, 0.030187237937771505), (541, 0.0), (542, 0.008621327048005124), (543, 0.012673655872750754), (544, 0.008613603098878255), (545, 0.012949507934620097), (546, 0.0), (547, 0.015929622636877673), (548, 0.0), (549, 0.0), (550, 0.0), (551, 0.017146955932315223), (552, 0.0), (553, 0.01826880878895379), (554, 0.0), (555, 0.010529304674104385), (556, 0.0), (557, 0.0), (558, 0.003354019879167552), (559, 0.0), (560, 0.0), (561, 0.0047222408633075886), (562, 0.002851513369177817), (563, 0.0032955870095134642), (564, 0.003830177217853021), (565, 0.0), (566, 0.021292204132449272), (567, 0.0), (568, 0.006086271747267449), (569, 0.0), (570, 0.0), (571, 0.0028496566357053966), (572, 0.0), (573, 0.0), (574, 0.0), (575, 0.0), (576, 0.004076450812834327), (577, 0.0), (578, 0.033669693222875954), (579, 0.0036968023003550133), (580, 0.003778224733777734), (581, 0.0), (582, 0.007399968919166635), (583, 0.005795595369938304), (584, 0.01305826248515756), (585, 0.0), (586, 0.015087099218348115), (587, 0.003996929657814651), (588, 0.0037248104976820274), (589, 0.0033601166511714733), (590, 0.019956558772096296), (591, 0.0), (592, 0.0), (593, 0.026338958401942617), (594, 0.0033229103820772246), (595, 0.0), (596, 0.004084690099638017), (597, 0.005757163312717992), (598, 0.0034588820805576434), (599, 0.0), (600, 0.006606791565953649), (601, 0.0), (602, 0.0), (603, 0.0), (604, 0.003280557523484059), (605, 0.0032188131821064003), (606, 0.0037835327468802144), (607, 0.0028373312181902617), (608, 0.0033165010155500403), (609, 0.01317004839998901), (610, 0.0), (611, 0.003079879335439679), (612, 0.0038919012695828145), (613, 0.023197135786222893), (614, 0.004145163426849213), (615, 0.042736844470757006), (616, 0.008348605226850712), (617, 0.003115493500860941), (618, 0.03085426250699601), (619, 0.0), (620, 0.012153471376273726), (621, 0.0), (622, 0.012650186915840923), (623, 0.003852012677191032), (624, 0.0), (625, 0.0), (626, 0.0031029176929288594), (627, 0.004917732701231066), (628, 0.07908791546028547), (629, 0.026160603215412553), (630, 0.0), (631, 0.006546930322511471), (632, 0.03335159423879432), (633, 0.0), (634, 0.0), (635, 0.006853097917733273), (636, 0.0037288295810149054), (637, 0.040727883929708344), (638, 0.016938627814300652), (639, 0.0), (640, 0.0), (641, 0.007427429308340367), (642, 0.003155592781740296), (643, 0.01778821075887417), (644, 0.003710374216220982), (645, 0.0), (646, 0.0), (647, 0.0), (648, 0.011738968460175518), (649, 0.0), (650, 0.0), (651, 0.009677332786789438), (652, 0.0037546878087736314), (653, 0.010824771344727747), (654, 0.008980679204699464), (655, 0.0034693789536789994), (656, 0.0), (657, 0.024785636796472256), (658, 0.0), (659, 0.0033562369808203493), (660, 0.003705218286950731), (661, 0.0), (662, 0.0), (663, 0.0), (664, 0.005690040202985428), (665, 0.0), (666, 0.0), (667, 0.009172036428797777), (668, 0.006969833643241123), (669, 0.01745011269047045), (670, 0.022463155481425544), (671, 0.006550286063072132), (672, 0.02454735165505795), (673, 0.003919804256460304), (674, 0.0), (675, 0.009311865577955101), (676, 0.011866526504497682), (677, 0.016241092575097447), (678, 0.0), (679, 0.0), (680, 0.0), (681, 0.0), (682, 0.039315531791353095), (683, 0.009429419726982406), (684, 0.014498624898780451), (685, 0.0), (686, 0.0), (687, 0.0), (688, 0.004034248698130149), (689, 0.009932510693585087), (690, 0.0), (691, 0.01995565080839107), (692, 0.012826576135532224), (693, 0.0036066662589230064), (694, 0.03165755315051906), (695, 0.007769448549047103), (696, 0.0036413921731777875), (697, 0.009987291661638417), (698, 0.003619313307600158), (699, 0.0), (700, 0.0), (701, 0.013688046805526445), (702, 0.0), (703, 0.003313125977163331), (704, 0.0), (705, 0.00892580054292702), (706, 0.020608389956072188), (707, 0.003116334287315463), (708, 0.0), (709, 0.0), (710, 0.03603538208174131), (711, 0.0), (712, 0.0031968792396109254), (713, 0.0), (714, 0.0), (715, 0.006818266898347443), (716, 0.003884349033158063), (717, 0.0), (718, 0.0), (719, 0.008085834880600462), (720, 0.0), (721, 0.03501178133037393), (722, 0.0033015059929890483), (723, 0.0), (724, 0.0), (725, 0.0), (726, 0.0), (727, 0.0035546141238383786), (728, 0.0038699331608586453), (729, 0.004003963965459868), (730, 0.0), (731, 0.0), (732, 0.008674244370074337), (733, 0.010735268384966124), (734, 0.009442714438358887), (735, 0.005182716254873506), (736, 0.0), (737, 0.007033337331426293), (738, 0.0), (739, 0.004081352650157756), (740, 0.0), (741, 0.0), (742, 0.009372900181460038), (743, 0.0037605963245735136), (744, 0.00334683235059458), (745, 0.0), (746, 0.0), (747, 0.0), (748, 0.00659324533607134), (749, 0.00356588168369434), (750, 0.00364297940750424), (751, 0.0), (752, 0.0066856445426842605), (753, 0.009710664142885333), (754, 0.0), (755, 0.003565598257264353), (756, 0.0), (757, 0.01707938143601082), (758, 0.00633700098831047), (759, 0.0), (760, 0.010408942337480437), (761, 0.02834450511325627), (762, 0.011119102495657904), (763, 0.019994856274368557), (764, 0.0), (765, 0.0), (766, 0.005885469521255363), (767, 0.0), (768, 0.01797528839770504), (769, 0.0036190152835016156), (770, 0.0), (771, 0.0), (772, 0.0), (773, 0.0), (774, 0.036335641581060826), (775, 0.00993246143456355), (776, 0.016670616643633302), (777, 0.0), (778, 0.006602540601066455), (779, 0.01566623550901749), (780, 0.0), (781, 0.0), (782, 0.0066809854147438985), (783, 0.003848127950300587), (784, 0.0), (785, 0.0), (786, 0.0), (787, 0.01564108226168861), (788, 0.03676865105608616), (789, 0.0), (790, 0.008228147520133814), (791, 0.0), (792, 0.00379083198737289), (793, 0.0), (794, 0.017119883575707293), (795, 0.01957097996915857), (796, 0.018356151708587364), (797, 0.0), (798, 0.0034882844272049896), (799, 0.01195663429809342), (800, 0.008931321996412027), (801, 0.007869255443913854), (802, 0.0), (803, 0.0), (804, 0.003311187920159797), (805, 0.0), (806, 0.012450752543173607), (807, 0.0), (808, 0.014311401011634303), (809, 0.006394480207152361), (810, 0.0), (811, 0.0), (812, 0.03163889720189795), (813, 0.004138557351098635), (814, 0.012935950670292814), (815, 0.003255797787314373), (816, 0.010704622117053687), (817, 0.006375329334497268), (818, 0.035066811038408086), (819, 0.0), (820, 0.0), (821, 0.006224086254274096), (822, 0.0), (823, 0.0), (824, 0.025177489762818354), (825, 0.0), (826, 0.0039049654905162546), (827, 0.008061406929038069), (828, 0.008187453541174334), (829, 0.0078576414114778), (830, 0.038791418815915774), (831, 0.0026989125396759163), (832, 0.021878960556326637), (833, 0.014104062276391962), (834, 0.006234426031440514), (835, 0.006040330755812729), (836, 0.02872838935772423), (837, 0.0), (838, 0.009780418046010214), (839, 0.0), (840, 0.0), (841, 0.0), (842, 0.010448295609165442), (843, 0.008251963127331674), (844, 0.01459554133032101), (845, 0.0), (846, 0.0), (847, 0.011105742008316034), (848, 0.0), (849, 0.0), (850, 0.01006468570616439), (851, 0.0032290545106255833), (852, 0.0035146627054952703), (853, 0.011480977398973375), (854, 0.0034907432967080584), (855, 0.0), (856, 0.003250992641715238), (857, 0.004072730113966099), (858, 0.020053016038933273), (859, 0.0), (860, 0.014081007471786994), (861, 0.00317961234847539), (862, 0.0), (863, 0.0), (864, 0.025064016907346796), (865, 0.0037568548753283623), (866, 0.011542857048352548), (867, 0.016191323359308184), (868, 0.0), (869, 0.008805380712891442), (870, 0.01800841372279601), (871, 0.003767601244733049), (872, 0.003882645021591184), (873, 0.05163869108306247), (874, 0.013691314958534425), (875, 0.0), (876, 0.004020929078570965), (877, 0.04587950998505488), (878, 0.011691516419818016), (879, 0.012721303240805698), (880, 0.0035516492028097057), (881, 0.0), (882, 0.0), (883, 0.0), (884, 0.0), (885, 0.023145895414279284), (886, 0.0034249931051393164), (887, 0.0), (888, 0.003923094318604884), (889, 0.0), (890, 0.0), (891, 0.0), (892, 0.0), (893, 0.0), (894, 0.003643353817588267), (895, 0.011745182969969419), (896, 0.013150127656038381), (897, 0.010171039559036605), (898, 0.0), (899, 0.011684058358544374), (900, 0.009453514227246263), (901, 0.0), (902, 0.0), (903, 0.03153347381985147), (904, 0.042469759013061936), (905, 0.0096462874577004), (906, 0.01273539899790679), (907, 0.003440101274856753), (908, 0.00901686099513448), (909, 0.0), (910, 0.0033394887860486496), (911, 0.027926835660257002), (912, 0.0), (913, 0.0), (914, 0.0), (915, 0.00823795020178507), (916, 0.01387064731905876), (917, 0.02174323275789981), (918, 0.00878591032020574), (919, 0.0), (920, 0.0), (921, 0.006385471197711132), (922, 0.0), (923, 0.00374727358476058), (924, 0.008568979851712148), (925, 0.004183920476551497), (926, 0.0), (927, 0.0), (928, 0.0), (929, 0.01644950808331372), (930, 0.0038535637901780753), (931, 0.008734325783719408), (932, 0.0), (933, 0.0), (934, 0.01524362814016585), (935, 0.030560446490434483), (936, 0.008884823152329234), (937, 0.014268695141210798), (938, 0.0), (939, 0.008136772992478431), (940, 0.007097144627175483), (941, 0.0), (942, 0.022313885821724035), (943, 0.0), (944, 0.0033682186995821497), (945, 0.0), (946, 0.0), (947, 0.017266955383500957), (948, 0.010626688669015954), (949, 0.007489338062382833), (950, 0.0), (951, 0.0033062099980175233), (952, 0.024250640549128608), (953, 0.0029457247903105855), (954, 0.0), (955, 0.0), (956, 0.0), (957, 0.014898342458960608), (958, 0.005831659830494056), (959, 0.0035825408688940573), (960, 0.0), (961, 0.0), (962, 0.009618798499790011), (963, 0.009440958145606332), (964, 0.0), (965, 0.0), (966, 0.009625438338149437), (967, 0.02037191985355593), (968, 0.015091327926454384), (969, 0.003663732906241754), (970, 0.005445719195086416), (971, 0.0), (972, 0.0), (973, 0.0), (974, 0.0), (975, 0.0034281869557652553), (976, 0.024735809584401174), (977, 0.0), (978, 0.0), (979, 0.005664638474401455), (980, 0.003673401932733429), (981, 0.0032716205467046727), (982, 0.0), (983, 0.0), (984, 0.0), (985, 0.004127371494266154), (986, 0.01272327314942292), (987, 0.0), (988, 0.01188013565404553), (989, 0.011928020595345597), (990, 0.0), (991, 0.003885810376854865), (992, 0.0), (993, 0.0), (994, 0.008800517849323529), (995, 0.0), (996, 0.0), (997, 0.0), (998, 0.0040392025677890644), (999, 0.004107030221168948), (1000, 0.011097775588925735), (1001, 0.0034978866099250904), (1002, 0.0035152950244470584), (1003, 0.01519294291788736), (1004, 0.0), (1005, 0.007849855714659206), (1006, 0.01045969196815737), (1007, 0.0038645590900610307), (1008, 0.0), (1009, 0.00930433256185304), (1010, 0.0), (1011, 0.0), (1012, 0.006288331792670689), (1013, 0.0), (1014, 0.007364509588522433), (1015, 0.010572440412644045), (1016, 0.0), (1017, 0.009763433290670998), (1018, 0.012958791574654106), (1019, 0.009799888819444777), (1020, 0.010047360751161452), (1021, 0.05960286200687369), (1022, 0.0), (1023, 0.04790142824656811), (1024, 0.035169054945468674), (1025, 0.0), (1026, 0.003524802902344887), (1027, 0.003490550813655905), (1028, 0.0), (1029, 0.0), (1030, 0.045878792655801255), (1031, 0.0), (1032, 0.0), (1033, 0.017817030067276318), (1034, 0.0034427914086170167), (1035, 0.011971865073984306), (1036, 0.0), (1037, 0.005404283228275696), (1038, 0.0), (1039, 0.0), (1040, 0.003088266634974712), (1041, 0.003412780220971182), (1042, 0.0), (1043, 0.026147392865344888), (1044, 0.0035021158687600596), (1045, 0.015206282164182006), (1046, 0.02798234431384946), (1047, 0.0), (1048, 0.006605212618596682), (1049, 0.004356447658063171), (1050, 0.010708729323580251), (1051, 0.0), (1052, 0.02007133538415692), (1053, 0.014708935766000252), (1054, 0.0), (1055, 0.0), (1056, 0.0), (1057, 0.0), (1058, 0.010389291264576304), (1059, 0.025136773016496188), (1060, 0.0035110393103203155), (1061, 0.00762216614720809), (1062, 0.0), (1063, 0.030523833264446396), (1064, 0.014802730179198122), (1065, 0.003352842627565415), (1066, 0.0), (1067, 0.0), (1068, 0.02872790096712046), (1069, 0.007146342430750531), (1070, 0.04652058148263319), (1071, 0.00381710360042676), (1072, 0.0), (1073, 0.0), (1074, 0.014876425402591053), (1075, 0.010185875288048613), (1076, 0.0), (1077, 0.010055506549069993), (1078, 0.0030993597058398084), (1079, 0.0033218957170688063), (1080, 0.003289061064762958), (1081, 0.0), (1082, 0.0), (1083, 0.003752038559898607), (1084, 0.003517036708694472), (1085, 0.03790321526780257), (1086, 0.0), (1087, 0.006280073051028324), (1088, 0.0031447358538127432), (1089, 0.0), (1090, 0.011162195603618207), (1091, 0.0), (1092, 0.0), (1093, 0.0), (1094, 0.006219976995987218), (1095, 0.028329563975273205), (1096, 0.006151321455783908), (1097, 0.0), (1098, 0.0), (1099, 0.006841710570675536), (1100, 0.0), (1101, 0.0), (1102, 0.003617195917808577), (1103, 0.0), (1104, 0.0), (1105, 0.0), (1106, 0.0), (1107, 0.003350230952915409), (1108, 0.0), (1109, 0.0040564044884282375), (1110, 0.0), (1111, 0.006432106930517332), (1112, 0.014526657081517786), (1113, 0.0), (1114, 0.01156398853101068), (1115, 0.00718364029463521), (1116, 0.016045170368722626), (1117, 0.0), (1118, 0.062233830131116316), (1119, 0.013367415160751867), (1120, 0.0), (1121, 0.0), (1122, 0.003686312501640052), (1123, 0.0035187023388429405), (1124, 0.006513383316747856), (1125, 0.00898305392081962), (1126, 0.0), (1127, 0.0), (1128, 0.01476078165813541), (1129, 0.012764056218468123), (1130, 0.0), (1131, 0.003727459389328184), (1132, 0.01988409392488405), (1133, 0.0), (1134, 0.05611792693976014), (1135, 0.0), (1136, 0.008934010203325895), (1137, 0.019388976892491284), (1138, 0.003653869913182453), (1139, 0.0), (1140, 0.0038682610204555747), (1141, 0.019953064109996154), (1142, 0.0), (1143, 0.0), (1144, 0.005149166738956304), (1145, 0.0), (1146, 0.029755917994567675), (1147, 0.0), (1148, 0.009780396694193947), (1149, 0.0), (1150, 0.0), (1151, 0.0), (1152, 0.013918725736750133), (1153, 0.0), (1154, 0.0), (1155, 0.0), (1156, 0.0), (1157, 0.011674993011747637), (1158, 0.0), (1159, 0.0), (1160, 0.012080497230702236), (1161, 0.003529423742939037), (1162, 0.013900076074019036), (1163, 0.003653181200197857), (1164, 0.0), (1165, 0.0), (1166, 0.0), (1167, 0.0), (1168, 0.0), (1169, 0.0), (1170, 0.0035986049966292826), (1171, 0.0), (1172, 0.006294046395304314), (1173, 0.019521375472683414), (1174, 0.0), (1175, 0.01878526211228984), (1176, 0.003702991722062001), (1177, 0.003439904621792962), (1178, 0.0), (1179, 0.003566013064897563), (1180, 0.0), (1181, 0.0), (1182, 0.01017762393307399), (1183, 0.011579385008739094), (1184, 0.013702703597311513), (1185, 0.008970061377385338), (1186, 0.026237115455109553), (1187, 0.004249928155506289), (1188, 0.003906679433710426), (1189, 0.0), (1190, 0.0), (1191, 0.0036370807213998648), (1192, 0.010240315392747683), (1193, 0.0), (1194, 0.005602266607914659), (1195, 0.033088812641313685), (1196, 0.0), (1197, 0.0), (1198, 0.0), (1199, 0.003222002477543732), (1200, 0.0), (1201, 0.0), (1202, 0.01579138259584826), (1203, 0.03950114055226159), (1204, 0.0), (1205, 0.0), (1206, 0.009464149689437748), (1207, 0.0), (1208, 0.004400913434316747), (1209, 0.0032574938099353126), (1210, 0.0), (1211, 0.0), (1212, 0.0), (1213, 0.0), (1214, 0.0), (1215, 0.00862778261429948), (1216, 0.0163993064936296), (1217, 0.0032016554079452694), (1218, 0.0), (1219, 0.0033053241742141653), (1220, 0.009387645143698766), (1221, 0.0), (1222, 0.0), (1223, 0.003609024809491738), (1224, 0.013019816367152798), (1225, 0.00382591030662902), (1226, 0.006248828124832432), (1227, 0.0), (1228, 0.0), (1229, 0.003837403574787686), (1230, 0.008265168050366156), (1231, 0.008210368325210366), (1232, 0.012464695221055573), (1233, 0.0), (1234, 0.008956139333086121), (1235, 0.0), (1236, 0.007785394345025291), (1237, 0.011099248939308018), (1238, 0.006277191872405016), (1239, 0.01278792310478458), (1240, 0.0), (1241, 0.03879761770553323), (1242, 0.0), (1243, 0.051092941006492226), (1244, 0.0), (1245, 0.01807151996782843), (1246, 0.0), (1247, 0.003563449407485466), (1248, 0.041541501602454275), (1249, 0.01120821619958074), (1250, 0.006529840206797467), (1251, 0.0031840906688658695), (1252, 0.01237622613194164), (1253, 0.0), (1254, 0.013058172701816018), (1255, 0.009497358700171118), (1256, 0.0), (1257, 0.016186024713798337), (1258, 0.0), (1259, 0.0), (1260, 0.0), (1261, 0.02096646798973644), (1262, 0.006373522170905155), (1263, 0.0), (1264, 0.0044982659601181104), (1265, 0.0), (1266, 0.006623269455510918), (1267, 0.006013289796072035), (1268, 0.0), (1269, 0.0), (1270, 0.01648112551415484), (1271, 0.0), (1272, 0.029135447368191732), (1273, 0.0033789941280808916), (1274, 0.017281643863786993), (1275, 0.013917357136974291), (1276, 0.006466953933590834), (1277, 0.0), (1278, 0.01436654447833574), (1279, 0.0052980207274498405), (1280, 0.0), (1281, 0.0), (1282, 0.0), (1283, 0.024795055679917462), (1284, 0.0), (1285, 0.0), (1286, 0.0036076478395227715), (1287, 0.0), (1288, 0.0), (1289, 0.0), (1290, 0.010785996929659428), (1291, 0.0), (1292, 0.038319825871959985), (1293, 0.012199075571259162), (1294, 0.0), (1295, 0.0), (1296, 0.0), (1297, 0.0), (1298, 0.0), (1299, 0.0), (1300, 0.007327335852965027), (1301, 0.0), (1302, 0.03822559698786929), (1303, 0.0029393568573177656), (1304, 0.0), (1305, 0.0030308152628979695), (1306, 0.007403207496258523), (1307, 0.0059897558799830684), (1308, 0.00928557421447417), (1309, 0.0), (1310, 0.011450488597029462), (1311, 0.037602207830053296), (1312, 0.005509174291924884), (1313, 0.0035653566912692606), (1314, 0.022523658105494983), (1315, 0.0), (1316, 0.005826621926624003), (1317, 0.012268427404743853), (1318, 0.003270560355697796), (1319, 0.0), (1320, 0.04191876057699365), (1321, 0.0), (1322, 0.0), (1323, 0.0), (1324, 0.003814078270508811), (1325, 0.004059862976262125), (1326, 0.0), (1327, 0.005964439656489618), (1328, 0.0), (1329, 0.006309981787355427), (1330, 0.0), (1331, 0.013877698558534607), (1332, 0.0), (1333, 0.0), (1334, 0.012197264623174945), (1335, 0.003626784203185147), (1336, 0.0), (1337, 0.012183905729524791), (1338, 0.0035379440014923717), (1339, 0.009045241215712948), (1340, 0.0031511169025223084), (1341, 0.07680860572145522), (1342, 0.012321433738151625), (1343, 0.010127180479176802), (1344, 0.0), (1345, 0.006371953620956521), (1346, 0.0), (1347, 0.0), (1348, 0.00764746307725185), (1349, 0.004034825028289521), (1350, 0.0037745910208878174), (1351, 0.022483898707326505), (1352, 0.0032297910136505465), (1353, 0.0), (1354, 0.0), (1355, 0.0), (1356, 0.0030548532031879553), (1357, 0.0033816192049968123), (1358, 0.04196566547545218), (1359, 0.006652588207109167), (1360, 0.011777924917558122), (1361, 0.014947343842822045), (1362, 0.0), (1363, 0.0), (1364, 0.0038478083922036917), (1365, 0.018325420185263536), (1366, 0.0), (1367, 0.030297747564554486), (1368, 0.0), (1369, 0.0374751888538838), (1370, 0.0031627185311344152), (1371, 0.009645056712775437), (1372, 0.0034087502893124775), (1373, 0.0), (1374, 0.006298590221298387), (1375, 0.0034547682376586896), (1376, 0.01216732188924121), (1377, 0.015954415185962464), (1378, 0.0036238016421968585), (1379, 0.033350704441473075), (1380, 0.0), (1381, 0.0), (1382, 0.010567362776443705), (1383, 0.08187851491634932), (1384, 0.013416051879445778), (1385, 0.018010254261273957), (1386, 0.017987433564511303), (1387, 0.010831201526323934), (1388, 0.00896739725524332), (1389, 0.033118151355855704), (1390, 0.0), (1391, 0.0), (1392, 0.0), (1393, 0.03259324317088401), (1394, 0.0032138434739945967), (1395, 0.0), (1396, 0.006525794724656275), (1397, 0.02170815549736824), (1398, 0.030310499233296817), (1399, 0.0), (1400, 0.0037383438820175513), (1401, 0.013179783287049412), (1402, 0.0), (1403, 0.017593040914898137), (1404, 0.0), (1405, 0.027932072883434474), (1406, 0.008537039464650448), (1407, 0.006679367443706962), (1408, 0.0035535171818924897), (1409, 0.0), (1410, 0.003712338357794752), (1411, 0.0), (1412, 0.020047741307830505), (1413, 0.010090901769844077), (1414, 0.0032225570030628274), (1415, 0.00305770172669502), (1416, 0.0), (1417, 0.014711165916162915), (1418, 0.01008725800246075), (1419, 0.00859926859467207), (1420, 0.006227866061594085), (1421, 0.0036135781900568644), (1422, 0.0036198586039280947), (1423, 0.003222083971535218), (1424, 0.0), (1425, 0.006209586409244052), (1426, 0.0), (1427, 0.003030275944379765), (1428, 0.0), (1429, 0.004339271711321467), (1430, 0.0), (1431, 0.0), (1432, 0.008890592698361252), (1433, 0.0), (1434, 0.0), (1435, 0.0), (1436, 0.00881988180379021), (1437, 0.0), (1438, 0.00357053411697365), (1439, 0.0), (1440, 0.008755364898960803), (1441, 0.0), (1442, 0.007275549863245979), (1443, 0.01315029897089414), (1444, 0.0), (1445, 0.015476791975004931), (1446, 0.009614064636948682), (1447, 0.0), (1448, 0.003572882421155847), (1449, 0.0), (1450, 0.0), (1451, 0.0), (1452, 0.0), (1453, 0.005202069997031597), (1454, 0.0039624928601572395), (1455, 0.008564255083388326), (1456, 0.0), (1457, 0.0), (1458, 0.0), (1459, 0.0), (1460, 0.0), (1461, 0.006428387411605461), (1462, 0.0033549249465894162), (1463, 0.0038612001283308845), (1464, 0.030930315558081383), (1465, 0.011036006367865763), (1466, 0.0), (1467, 0.0), (1468, 0.0), (1469, 0.0), (1470, 0.0), (1471, 0.018520200277490934), (1472, 0.0036269398506729475), (1473, 0.0), (1474, 0.004034202124520658), (1475, 0.010226896085785725), (1476, 0.003633094611760122), (1477, 0.009188570983740874), (1478, 0.0034447398416050656), (1479, 0.0), (1480, 0.0), (1481, 0.0034746408179706072), (1482, 0.028535116639671457), (1483, 0.0036178273737238406), (1484, 0.0), (1485, 0.0), (1486, 0.006998233626055175), (1487, 0.0), (1488, 0.003631254288575129), (1489, 0.004030863136205016), (1490, 0.0), (1491, 0.0), (1492, 0.02108339022889841), (1493, 0.01217391412110844), (1494, 0.006541977402697072), (1495, 0.0), (1496, 0.0), (1497, 0.0), (1498, 0.004115051815011806), (1499, 0.0), (1500, 0.02361035385763192), (1501, 0.0063270500893839385), (1502, 0.0), (1503, 0.003335078510942943), (1504, 0.0), (1505, 0.02145549878450226), (1506, 0.041288546285197146), (1507, 0.0), (1508, 0.0), (1509, 0.006846829913391467), (1510, 0.01596418889651728), (1511, 0.0), (1512, 0.014739993676372408), (1513, 0.003861747178307836), (1514, 0.009534942466919643), (1515, 0.021176552296059633), (1516, 0.0), (1517, 0.0), (1518, 0.003918255074927812), (1519, 0.00950992774370692), (1520, 0.0), (1521, 0.0), (1522, 0.0), (1523, 0.015269708213938934), (1524, 0.0), (1525, 0.0), (1526, 0.006210390240775893), (1527, 0.03712073593151801), (1528, 0.0), (1529, 0.0), (1530, 0.0), (1531, 0.0), (1532, 0.0), (1533, 0.003627653195411649), (1534, 0.0), (1535, 0.0), (1536, 0.0), (1537, 0.0039061721870033922), (1538, 0.005823633235291752), (1539, 0.009030478370976366), (1540, 0.0), (1541, 0.0), (1542, 0.008780486032861792), (1543, 0.003354850505857163), (1544, 0.025370322219701202), (1545, 0.0), (1546, 0.0), (1547, 0.004254783979558577), (1548, 0.0), (1549, 0.0), (1550, 0.0), (1551, 0.006279759833220511), (1552, 0.006181948955308898), (1553, 0.005533932211586956), (1554, 0.0), (1555, 0.0), (1556, 0.0), (1557, 0.0), (1558, 0.003541427579141127), (1559, 0.0), (1560, 0.0), (1561, 0.0), (1562, 0.0), (1563, 0.0), (1564, 0.0), (1565, 0.0033509625236019516), (1566, 0.0), (1567, 0.0058189075384393555), (1568, 0.029182607492450115), (1569, 0.0), (1570, 0.003826685543321678), (1571, 0.005678779831707199), (1572, 0.025020933049859334), (1573, 0.0), (1574, 0.0), (1575, 0.0), (1576, 0.0), (1577, 0.0), (1578, 0.0), (1579, 0.016924063316144752), (1580, 0.0), (1581, 0.0), (1582, 0.003476508882098478), (1583, 0.0069663236356017014), (1584, 0.0), (1585, 0.02396040049968245), (1586, 0.0), (1587, 0.0), (1588, 0.0), (1589, 0.0), (1590, 0.0), (1591, 0.009694982134579585), (1592, 0.0), (1593, 0.0), (1594, 0.0), (1595, 0.011282481504274886), (1596, 0.0), (1597, 0.003509141581863787), (1598, 0.0035965945135806913), (1599, 0.0), (1600, 0.0), (1601, 0.0), (1602, 0.0), (1603, 0.0), (1604, 0.0), (1605, 0.0033200014177758273), (1606, 0.0), (1607, 0.0), (1608, 0.0032115539638694316), (1609, 0.016214673682539562), (1610, 0.0), (1611, 0.0), (1612, 0.006319911736287442), (1613, 0.0), (1614, 0.0), (1615, 0.0), (1616, 0.003180385457538653), (1617, 0.0), (1618, 0.0), (1619, 0.010567770617907847), (1620, 0.0035281315243241426), (1621, 0.012274248397744296), (1622, 0.0), (1623, 0.0), (1624, 0.0029800217948103497), (1625, 0.0), (1626, 0.0), (1627, 0.00316121178413429), (1628, 0.0035069455610018956), (1629, 0.01879006599002077), (1630, 0.008149288052838415), (1631, 0.0), (1632, 0.0), (1633, 0.0), (1634, 0.0035875996727769456), (1635, 0.0), (1636, 0.0), (1637, 0.0), (1638, 0.0), (1639, 0.0), (1640, 0.0), (1641, 0.0), (1642, 0.0), (1643, 0.003874427660755701), (1644, 0.00624955306435296), (1645, 0.0035623058221380443), (1646, 0.0), (1647, 0.042066032016031915), (1648, 0.03034478148355782), (1649, 0.0), (1650, 0.005803585019470782), (1651, 0.0), (1652, 0.021307932036128727), (1653, 0.003658335896985362), (1654, 0.012204176023761885), (1655, 0.012193588882053966), (1656, 0.0), (1657, 0.0), (1658, 0.01139653001710761), (1659, 0.0), (1660, 0.0), (1661, 0.0), (1662, 0.005884975835941093), (1663, 0.0), (1664, 0.00595704115892458), (1665, 0.011654236454616704), (1666, 0.0035751292394404686), (1667, 0.0034247303282723632), (1668, 0.0), (1669, 0.0), (1670, 0.0), (1671, 0.020870304274224982), (1672, 0.0), (1673, 0.0), (1674, 0.009635522764668865), (1675, 0.03854853668906548), (1676, 0.03566012639898141), (1677, 0.0028832880064574577), (1678, 0.00994053253573083), (1679, 0.0), (1680, 0.008068529879306447), (1681, 0.0), (1682, 0.01535082857914903), (1683, 0.0), (1684, 0.005669726014826968), (1685, 0.0107196642552479), (1686, 0.0), (1687, 0.0039086314103195996), (1688, 0.006549801328792727), (1689, 0.0), (1690, 0.0090963182418173), (1691, 0.0), (1692, 0.006251926448297054), (1693, 0.0033745475642321084), (1694, 0.007614030755613648), (1695, 0.005003160635681928), (1696, 0.006259882975517586), (1697, 0.0), (1698, 0.0), (1699, 0.0), (1700, 0.0), (1701, 0.004934773992474636), (1702, 0.03490238643316168), (1703, 0.0038189325563478815), (1704, 0.0), (1705, 0.009218875744124035), (1706, 0.0036439459119918644), (1707, 0.024558370974199505), (1708, 0.007350826749552564), (1709, 0.0), (1710, 0.009886382630426332), (1711, 0.004526524103688451), (1712, 0.006964423125514867), (1713, 0.007441611289158279), (1714, 0.012065203296173721), (1715, 0.005820613927953226), (1716, 0.013585603124528273), (1717, 0.003680926362970618), (1718, 0.006743650521499896), (1719, 0.00326884615006483), (1720, 0.02653007622929447), (1721, 0.012492740228935475), (1722, 0.003684516929234892), (1723, 0.005952473424344478), (1724, 0.0), (1725, 0.0), (1726, 0.0), (1727, 0.00913743581317108), (1728, 0.0), (1729, 0.0), (1730, 0.00941186285339356), (1731, 0.0), (1732, 0.0), (1733, 0.0), (1734, 0.0), (1735, 0.009088290377328364), (1736, 0.009011954766128745), (1737, 0.006730294341792841), (1738, 0.0), (1739, 0.011138313213077504), (1740, 0.0036614866022258645), (1741, 0.01468020252699911), (1742, 0.0), (1743, 0.008542256797224769), (1744, 0.003434493917889964), (1745, 0.0), (1746, 0.005982673997525962), (1747, 0.00784149581481865), (1748, 0.004251993257412723), (1749, 0.023245802594594113), (1750, 0.03218139645947393), (1751, 0.0), (1752, 0.012218003448374268), (1753, 0.0), (1754, 0.00930910820269045), (1755, 0.0), (1756, 0.0), (1757, 0.02352933313112343), (1758, 0.0), (1759, 0.014195965042877448), (1760, 0.003443209691536033), (1761, 0.00642364314614728), (1762, 0.008920241317282298), (1763, 0.027597106738801752), (1764, 0.008992361881055184), (1765, 0.0), (1766, 0.0), (1767, 0.0), (1768, 0.003658930200029582), (1769, 0.0), (1770, 0.006781162845182947), (1771, 0.0), (1772, 0.0), (1773, 0.0062987379960506166), (1774, 0.014260323328688585), (1775, 0.0), (1776, 0.007511402843576753), (1777, 0.0), (1778, 0.0), (1779, 0.010483701805014036), (1780, 0.0), (1781, 0.0), (1782, 0.003327008529611779), (1783, 0.0), (1784, 0.0), (1785, 0.0), (1786, 0.0), (1787, 0.011843715705731346), (1788, 0.023739087820768147), (1789, 0.0), (1790, 0.0074349464570033046), (1791, 0.0), (1792, 0.0), (1793, 0.00599085671636578), (1794, 0.0), (1795, 0.02912227050103725), (1796, 0.003329521681014378), (1797, 0.008024257460920007), (1798, 0.010885264257528886), (1799, 0.007011101250911004), (1800, 0.0), (1801, 0.0), (1802, 0.012686956190896295), (1803, 0.0), (1804, 0.0), (1805, 0.0), (1806, 0.009403578236501555), (1807, 0.006273653046996176), (1808, 0.0), (1809, 0.049058357261160306), (1810, 0.0), (1811, 0.0), (1812, 0.006938361625443259), (1813, 0.003487686203464874), (1814, 0.0), (1815, 0.01004323541475176), (1816, 0.007746879890659888), (1817, 0.016480302851143058), (1818, 0.006008981376164683), (1819, 0.0034950922204191113), (1820, 0.0), (1821, 0.04746071084160482), (1822, 0.0038738180370437992), (1823, 0.0), (1824, 0.0), (1825, 0.0), (1826, 0.0), (1827, 0.0033721315007236193), (1828, 0.0031591878246459548), (1829, 0.0), (1830, 0.0032987990167642604), (1831, 0.0), (1832, 0.008988654453071347), (1833, 0.005761027239585176), (1834, 0.0), (1835, 0.0), (1836, 0.0), (1837, 0.03166046343528692), (1838, 0.015826188369217294), (1839, 0.0), (1840, 0.0), (1841, 0.006671095462800253), (1842, 0.0), (1843, 0.0143840198955387), (1844, 0.0), (1845, 0.02375967029541489), (1846, 0.0), (1847, 0.018439506849023807), (1848, 0.0), (1849, 0.006199338069426548), (1850, 0.04077381931522035), (1851, 0.0037840309828365702), (1852, 0.0062619880309320135), (1853, 0.012969065447162609), (1854, 0.008197165767524075), (1855, 0.0), (1856, 0.0), (1857, 0.0), (1858, 0.009427628267740157), (1859, 0.0), (1860, 0.006500849866337135), (1861, 0.020550485675275763), (1862, 0.0), (1863, 0.005527315793522371), (1864, 0.009560714942090702), (1865, 0.01969459978372058), (1866, 0.003830342983425746), (1867, 0.006236783551276826), (1868, 0.030016278869241325), (1869, 0.0032857182426795735), (1870, 0.011304659275926951), (1871, 0.0410703124153062), (1872, 0.015344997831467746), (1873, 0.006254411334139884), (1874, 0.00915689265854868), (1875, 0.009112683022245983), (1876, 0.010174303432816677), (1877, 0.0), (1878, 0.04859689516626076), (1879, 0.0), (1880, 0.014426982890202486), (1881, 0.0), (1882, 0.0035307853535350864), (1883, 0.0), (1884, 0.003458561935987966), (1885, 0.033398986192737956), (1886, 0.06763079297286732), (1887, 0.0), (1888, 0.0), (1889, 0.0), (1890, 0.0), (1891, 0.003637703741969926), (1892, 0.003455859060575613), (1893, 0.003977121805814036), (1894, 0.0), (1895, 0.014091711567835207), (1896, 0.003971474884081003), (1897, 0.010651329122438689), (1898, 0.0), (1899, 0.0), (1900, 0.0), (1901, 0.0), (1902, 0.0037561958836323907), (1903, 0.00587904542935584), (1904, 0.0), (1905, 0.0039460876338670734), (1906, 0.014629871504682843), (1907, 0.003870785779740309), (1908, 0.006348437303664881), (1909, 0.004129241700285297), (1910, 0.0), (1911, 0.006611017725348159), (1912, 0.0), (1913, 0.006196977831270009), (1914, 0.0), (1915, 0.0), (1916, 0.003804620886395893), (1917, 0.0), (1918, 0.0038259031011394144), (1919, 0.01248067286336322), (1920, 0.009082613886375109), (1921, 0.0), (1922, 0.00849037821140701), (1923, 0.004069233207595492), (1924, 0.0040287522085478015), (1925, 0.0), (1926, 0.0), (1927, 0.014705012880810504), (1928, 0.0), (1929, 0.0), (1930, 0.0), (1931, 0.0036992255476857566), (1932, 0.0), (1933, 0.0), (1934, 0.008861650938211545), (1935, 0.022761266290567326), (1936, 0.006407373830076829), (1937, 0.008453672631669122), (1938, 0.0), (1939, 0.0), (1940, 0.0), (1941, 0.0), (1942, 0.019022056208838914), (1943, 0.0031447476357208287), (1944, 0.0), (1945, 0.015047817823096965), (1946, 0.0038150434190271807), (1947, 0.004253135784462335), (1948, 0.008880141507915936), (1949, 0.009109256925732286), (1950, 0.008294632710771478), (1951, 0.010764797673342565), (1952, 0.0), (1953, 0.0), (1954, 0.0), (1955, 0.0), (1956, 0.0), (1957, 0.010692938448807998), (1958, 0.0), (1959, 0.0), (1960, 0.003862212029855161), (1961, 0.0), (1962, 0.0), (1963, 0.0), (1964, 0.0032761001206858425), (1965, 0.0), (1966, 0.0), (1967, 0.011780989504355101), (1968, 0.004117306017694862), (1969, 0.0035512442317371493), (1970, 0.023343770448501302), (1971, 0.010463314788536767), (1972, 0.0), (1973, 0.0), (1974, 0.0), (1975, 0.0), (1976, 0.02599464485480068), (1977, 0.0750851089148789), (1978, 0.0), (1979, 0.0), (1980, 0.0), (1981, 0.0), (1982, 0.03292454426222942), (1983, 0.003678840146657714), (1984, 0.0), (1985, 0.018604937840365814), (1986, 0.006416312008044956), (1987, 0.0), (1988, 0.012254865099522432), (1989, 0.0029599114602382056), (1990, 0.024339703995622356), (1991, 0.0), (1992, 0.008105865737903882), (1993, 0.0), (1994, 0.08104978188369505), (1995, 0.004270720108146876), (1996, 0.016721392365030747), (1997, 0.013396081920565246), (1998, 0.0), (1999, 0.026047370479153228), (2000, 0.013301820788978564), (2001, 0.0), (2002, 0.0), (2003, 0.0), (2004, 0.0034448871905813543), (2005, 0.011611272109643205), (2006, 0.0), (2007, 0.0), (2008, 0.009777831997191146), (2009, 0.0), (2010, 0.002951642993156266), (2011, 0.024901476218429433), (2012, 0.03549183118537767), (2013, 0.024064695168659327), (2014, 0.032534177091219016), (2015, 0.0), (2016, 0.01281017398804047), (2017, 0.0), (2018, 0.019914987102889137), (2019, 0.0), (2020, 0.026718194750151296), (2021, 0.0), (2022, 0.005243561278167895), (2023, 0.025928304257859504), (2024, 0.011887467079839582), (2025, 0.0), (2026, 0.05596889427205487), (2027, 0.016287061521993412), (2028, 0.0), (2029, 0.0035296147676027127), (2030, 0.0), (2031, 0.0033236615615170684), (2032, 0.0), (2033, 0.0), (2034, 0.003135313176975553), (2035, 0.018445692971866608), (2036, 0.0), (2037, 0.026583779289066876), (2038, 0.0), (2039, 0.0030599537398468177), (2040, 0.02001281661576836), (2041, 0.0), (2042, 0.0), (2043, 0.0), (2044, 0.0), (2045, 0.00999874221592162), (2046, 0.0), (2047, 0.0), (2048, 0.003747877209481558), (2049, 0.011210888460632746), (2050, 0.0), (2051, 0.011306715976696285), (2052, 0.012206063156334693), (2053, 0.013028343110459327), (2054, 0.0), (2055, 0.022677055309184836), (2056, 0.006025097046973956), (2057, 0.0), (2058, 0.005747602901868683), (2059, 0.0), (2060, 0.0), (2061, 0.0036110499461446733), (2062, 0.006068286458418648), (2063, 0.0), (2064, 0.004744147471854247), (2065, 0.01081072641180699), (2066, 0.0), (2067, 0.0037035601401309067), (2068, 0.00357761660276233), (2069, 0.003544224650394747), (2070, 0.01592367185226146), (2071, 0.0), (2072, 0.0), (2073, 0.003671466736901041), (2074, 0.005602813215392191), (2075, 0.004633871848724636), (2076, 0.007328336333619973), (2077, 0.0), (2078, 0.0), (2079, 0.0), (2080, 0.008601334337698541), (2081, 0.0), (2082, 0.03460497958524329), (2083, 0.0037980635949824908), (2084, 0.0), (2085, 0.0), (2086, 0.0), (2087, 0.00986764489511523), (2088, 0.003856441559461216), (2089, 0.004262519427542021), (2090, 0.0), (2091, 0.003696402269304214), (2092, 0.0), (2093, 0.00810847160122945), (2094, 0.01996948040063179), (2095, 0.006252776131477382), (2096, 0.010750825764401), (2097, 0.013161035856884638), (2098, 0.005553767730162444), (2099, 0.0), (2100, 0.03014101132067785), (2101, 0.00714183821504619), (2102, 0.029225683626530344), (2103, 0.009814317618600661), (2104, 0.0038709384019225), (2105, 0.00382583717789848), (2106, 0.0), (2107, 0.0), (2108, 0.004119868250353875), (2109, 0.006239570877644459), (2110, 0.013911401537110976), (2111, 0.0), (2112, 0.05923474643280513), (2113, 0.005422124156684695), (2114, 0.029155116476982254), (2115, 0.0), (2116, 0.011226991883971292), (2117, 0.0035206786772474016), (2118, 0.0), (2119, 0.013941792663431242), (2120, 0.0), (2121, 0.009749590974516421), (2122, 0.037187489366921046), (2123, 0.034192242741722806), (2124, 0.0), (2125, 0.0), (2126, 0.008908498372467507), (2127, 0.00309278607342593), (2128, 0.0), (2129, 0.0), (2130, 0.0), (2131, 0.0035234497820211836), (2132, 0.0031129265116002173), (2133, 0.046300445004110145), (2134, 0.004189420372124611), (2135, 0.0), (2136, 0.0), (2137, 0.00515391091810913), (2138, 0.0), (2139, 0.0), (2140, 0.0), (2141, 0.0), (2142, 0.0), (2143, 0.009443856403699658), (2144, 0.010310662161570536), (2145, 0.011728475252257646), (2146, 0.0), (2147, 0.0), (2148, 0.0), (2149, 0.017568327311511266), (2150, 0.0), (2151, 0.0), (2152, 0.0), (2153, 0.0), (2154, 0.012328176391211795), (2155, 0.010341927702184176), (2156, 0.005624653150110538), (2157, 0.024980420246030387), (2158, 0.0), (2159, 0.00393318169473858), (2160, 0.006102142993262269), (2161, 0.01614544995786126), (2162, 0.003982059465336277), (2163, 0.0), (2164, 0.0), (2165, 0.0), (2166, 0.0), (2167, 0.017499781143066665), (2168, 0.0), (2169, 0.0036756961225023147), (2170, 0.0), (2171, 0.0), (2172, 0.0), (2173, 0.0), (2174, 0.009891767429073694), (2175, 0.00592676010254188), (2176, 0.004087284878878558), (2177, 0.012835815695234145), (2178, 0.0), (2179, 0.0), (2180, 0.0), (2181, 0.0), (2182, 0.0), (2183, 0.0), (2184, 0.0), (2185, 0.005726741402301833), (2186, 0.0), (2187, 0.0), (2188, 0.004355105079163058), (2189, 0.0), (2190, 0.0), (2191, 0.046543845730377065), (2192, 0.0), (2193, 0.006307884079771196), (2194, 0.0), (2195, 0.0036131580853368843), (2196, 0.00926487165418516), (2197, 0.0054327803081156275), (2198, 0.0302536388379624), (2199, 0.004655167956300719), (2200, 0.0), (2201, 0.0034335984779997612), (2202, 0.0060479865013858955), (2203, 0.005811312314512582), (2204, 0.0), (2205, 0.005936531020675848), (2206, 0.008351927285648474), (2207, 0.016827640875321126), (2208, 0.0), (2209, 0.00706131268332517), (2210, 0.0206576913633601), (2211, 0.00847344976761499), (2212, 0.038435764887576974), (2213, 0.0), (2214, 0.05013380204458546), (2215, 0.0), (2216, 0.012092839738577797), (2217, 0.0), (2218, 0.0), (2219, 0.0), (2220, 0.0), (2221, 0.02539022231756189), (2222, 0.0), (2223, 0.004075040018793369), (2224, 0.011485380709991045), (2225, 0.0), (2226, 0.003648638369140632), (2227, 0.0), (2228, 0.0), (2229, 0.014413487205227013), (2230, 0.003751559690159027), (2231, 0.0), (2232, 0.0), (2233, 0.0), (2234, 0.0), (2235, 0.009259037060737873), (2236, 0.0057489115051976855), (2237, 0.0189819687746182), (2238, 0.0), (2239, 0.0062322723985302865), (2240, 0.0032631838987335856), (2241, 0.0), (2242, 0.003413801784207819), (2243, 0.0), (2244, 0.006955539385867677), (2245, 0.0), (2246, 0.0), (2247, 0.0), (2248, 0.03966034505246549), (2249, 0.0), (2250, 0.012079140307020866), (2251, 0.0051217463082206), (2252, 0.0), (2253, 0.0), (2254, 0.013011531429864952), (2255, 0.004795415102978825), (2256, 0.0), (2257, 0.004793792978605426), (2258, 0.01607387729974961), (2259, 0.0), (2260, 0.0040884176228894245), (2261, 0.0), (2262, 0.0), (2263, 0.0), (2264, 0.007814995392616458), (2265, 0.009196684588156586), (2266, 0.004506699748840517), (2267, 0.0), (2268, 0.0), (2269, 0.004283155616352084), (2270, 0.0), (2271, 0.0), (2272, 0.0), (2273, 0.0), (2274, 0.0), (2275, 0.011835346312660413), (2276, 0.023940282176632605), (2277, 0.010111090919621108), (2278, 0.0), (2279, 0.012056197384165192), (2280, 0.008437851096172965), (2281, 0.0), (2282, 0.0), (2283, 0.0), (2284, 0.012445716715085781), (2285, 0.005702612910060637), (2286, 0.004644995148337064), (2287, 0.0031322454663759752), (2288, 0.00406223559219543), (2289, 0.0038243492233980838), (2290, 0.014938290440139881), (2291, 0.005444295044166106), (2292, 0.0), (2293, 0.0), (2294, 0.04930340177355187), (2295, 0.012392500098745115), (2296, 0.0), (2297, 0.0), (2298, 0.01446638669238999), (2299, 0.005287269970695056), (2300, 0.0), (2301, 0.020706250619500776), (2302, 0.004139015510344699), (2303, 0.006729859587202315), (2304, 0.0), (2305, 0.0), (2306, 0.007863639839013377), (2307, 0.0), (2308, 0.0), (2309, 0.006601193224550114), (2310, 0.0), (2311, 0.0), (2312, 0.0), (2313, 0.0036047568104128538), (2314, 0.0), (2315, 0.0), (2316, 0.03697131960645696), (2317, 0.0), (2318, 0.058360022007445535), (2319, 0.003768236987499603), (2320, 0.004342199254537449), (2321, 0.03784036158021849), (2322, 0.0), (2323, 0.0), (2324, 0.0), (2325, 0.0), (2326, 0.0), (2327, 0.0), (2328, 0.0), (2329, 0.0), (2330, 0.0), (2331, 0.0), (2332, 0.0), (2333, 0.0), (2334, 0.012745994212834334), (2335, 0.00643145267468571), (2336, 0.0), (2337, 0.0), (2338, 0.003278400303066851), (2339, 0.00703664237504514), (2340, 0.0), (2341, 0.0), (2342, 0.0), (2343, 0.0), (2344, 0.003763661342641192), (2345, 0.0), (2346, 0.013939102404719282), (2347, 0.017142680790838943), (2348, 0.0039455216603346095), (2349, 0.005054077524670581), (2350, 0.004706836944791029), (2351, 0.0), (2352, 0.0), (2353, 0.015467606207229598), (2354, 0.0), (2355, 0.0031602641877573365), (2356, 0.0), (2357, 0.0), (2358, 0.05415079031194871), (2359, 0.003047870002830093), (2360, 0.0), (2361, 0.003900472291299758), (2362, 0.02141853829849306), (2363, 0.011032373472269265), (2364, 0.0), (2365, 0.03380292501279158), (2366, 0.01342946405425692), (2367, 0.0034190408820254214), (2368, 0.018067335844833072), (2369, 0.0), (2370, 0.0), (2371, 0.03571713082175912), (2372, 0.0), (2373, 0.0), (2374, 0.04306627626670142), (2375, 0.04002018261314091), (2376, 0.015068077669235257), (2377, 0.0), (2378, 0.0), (2379, 0.005190399827215199), (2380, 0.0), (2381, 0.0), (2382, 0.0), (2383, 0.009524623711031056), (2384, 0.0), (2385, 0.0), (2386, 0.0037393646872279536), (2387, 0.0), (2388, 0.004382433048306123), (2389, 0.0), (2390, 0.0039835438498973435), (2391, 0.004002622148276159), (2392, 0.005004405705706111), (2393, 0.0037757391598972176), (2394, 0.0038911179241856103), (2395, 0.0), (2396, 0.0), (2397, 0.0036363296705358506), (2398, 0.0), (2399, 0.003360010365670263), (2400, 0.004134097460427045), (2401, 0.0), (2402, 0.003575350322005674), (2403, 0.007235864871771615), (2404, 0.005099905418031064), (2405, 0.0038280573042679456), (2406, 0.014235447404618224), (2407, 0.004875774904312874), (2408, 0.0), (2409, 0.0), (2410, 0.0), (2411, 0.004103565056940289), (2412, 0.010553025630438312), (2413, 0.026461253584862857), (2414, 0.0), (2415, 0.004737248483950438), (2416, 0.0), (2417, 0.04466857979525236), (2418, 0.006733246322730734), (2419, 0.0), (2420, 0.0), (2421, 0.006381024331181223), (2422, 0.003556892058900133), (2423, 0.004703413286891871), (2424, 0.0), (2425, 0.004716746305325597), (2426, 0.005848880963351862), (2427, 0.004204702472636468), (2428, 0.004229550242122336), (2429, 0.0), (2430, 0.003568996845998701), (2431, 0.0), (2432, 0.0), (2433, 0.0), (2434, 0.004340713248669326), (2435, 0.0), (2436, 0.011129470755082579), (2437, 0.004179498857300421), (2438, 0.004504407333911674), (2439, 0.005554633501367361), (2440, 0.014575066409552941), (2441, 0.003045740577482299), (2442, 0.0), (2443, 0.026665878175239403), (2444, 0.008828647873721503), (2445, 0.0), (2446, 0.0), (2447, 0.010438828858404293), (2448, 0.0045941360431398254), (2449, 0.024287187894056393), (2450, 0.0), (2451, 0.0), (2452, 0.0), (2453, 0.003425060584759482), (2454, 0.004546612465581658), (2455, 0.0), (2456, 0.0), (2457, 0.0033234487078314646), (2458, 0.0), (2459, 0.004331916539327297), (2460, 0.012959797587908741), (2461, 0.0035472167060579558), (2462, 0.0), (2463, 0.006365011760807372), (2464, 0.009928270648863665), (2465, 0.0), (2466, 0.0037447486548406), (2467, 0.02747374696198664), (2468, 0.010322948802324376), (2469, 0.019782454828335405), (2470, 0.0), (2471, 0.0), (2472, 0.0), (2473, 0.00952671157812414), (2474, 0.013075135783641525), (2475, 0.004123978110143416), (2476, 0.0), (2477, 0.003835851818649731), (2478, 0.004161467587841342), (2479, 0.0), (2480, 0.006257234215541592), (2481, 0.025679573405677975), (2482, 0.003515758877067737), (2483, 0.0), (2484, 0.024705597131000553), (2485, 0.0), (2486, 0.010213322612173049), (2487, 0.024186894061863487), (2488, 0.004444726821834225), (2489, 0.012445612464379311), (2490, 0.005286634222746573), (2491, 0.0), (2492, 0.003748942240365011), (2493, 0.0), (2494, 0.010436457308383516), (2495, 0.0), (2496, 0.003504255984744478), (2497, 0.0), (2498, 0.0), (2499, 0.0), (2500, 0.0), (2501, 0.014957444085021403), (2502, 0.003190814385031898), (2503, 0.0063902760785517956), (2504, 0.0), (2505, 0.00727057495005208), (2506, 0.0), (2507, 0.0), (2508, 0.0), (2509, 0.0031609964324949857), (2510, 0.007124297218324642), (2511, 0.0), (2512, 0.011953460962486097), (2513, 0.017826761059242385), (2514, 0.0), (2515, 0.0), (2516, 0.0), (2517, 0.031193672725042698), (2518, 0.0), (2519, 0.0), (2520, 0.0032668684490305896), (2521, 0.0), (2522, 0.013101227931139546), (2523, 0.0), (2524, 0.01023856512820224), (2525, 0.0), (2526, 0.003019658164027966), (2527, 0.0032149010258714743), (2528, 0.003404015530746344), (2529, 0.005350835035256031), (2530, 0.04456508582776898), (2531, 0.003909139293615629), (2532, 0.0), (2533, 0.0), (2534, 0.0016543851149496322), (2535, 0.00426762995268263), (2536, 0.0), (2537, 0.0), (2538, 0.06721483866343898), (2539, 0.0), (2540, 0.03467066590670488), (2541, 0.0), (2542, 0.0), (2543, 0.0), (2544, 0.0), (2545, 0.006645869498985917), (2546, 0.009152615926432737), (2547, 0.0), (2548, 0.0), (2549, 0.0), (2550, 0.04813354802577181), (2551, 0.0), (2552, 0.0), (2553, 0.01780416470839458), (2554, 0.003786342807223093), (2555, 0.008035723184951526), (2556, 0.0034025933315518044), (2557, 0.0), (2558, 0.07886770559980592), (2559, 0.004739976358798059), (2560, 0.024695845485897816), (2561, 0.004034820030903576), (2562, 0.0), (2563, 0.008418188387207181), (2564, 0.0), (2565, 0.006702340422944291), (2566, 0.0), (2567, 0.0), (2568, 0.013439729733826598), (2569, 0.003648834720406961), (2570, 0.004298333093563202), (2571, 0.0), (2572, 0.006178273354198315), (2573, 0.0), (2574, 0.0), (2575, 0.0), (2576, 0.0), (2577, 0.0), (2578, 0.0), (2579, 0.047798278357967246), (2580, 0.0032222812076661547), (2581, 0.010455965493421282), (2582, 0.019229001969788256), (2583, 0.0), (2584, 0.0), (2585, 0.0), (2586, 0.0), (2587, 0.0056232785948166115), (2588, 0.0), (2589, 0.0), (2590, 0.0), (2591, 0.003313192020137138), (2592, 0.004046254568709024), (2593, 0.003398427862261313), (2594, 0.0), (2595, 0.0), (2596, 0.0), (2597, 0.0), (2598, 0.017492484768596814), (2599, 0.0), (2600, 0.0), (2601, 0.010462499770903013), (2602, 0.010610335095148592), (2603, 0.008464703754161137), (2604, 0.0), (2605, 0.0), (2606, 0.003662543331786901), (2607, 0.016721494592718697), (2608, 0.0), (2609, 0.003823605943377475), (2610, 0.0), (2611, 0.0032591572279190655), (2612, 0.0036487863477983776), (2613, 0.0), (2614, 0.007745335836775846), (2615, 0.0), (2616, 0.0), (2617, 0.007511556437371117), (2618, 0.014460925654139239), (2619, 0.0), (2620, 0.0), (2621, 0.02123238503696639), (2622, 0.03319181837803806), (2623, 0.004195584544071796), (2624, 0.0), (2625, 0.0041832882743921595), (2626, 0.0), (2627, 0.0), (2628, 0.0), (2629, 0.004042046176472453), (2630, 0.04369108457601298), (2631, 0.0), (2632, 0.009995058842122855), (2633, 0.01073560071559354), (2634, 0.003516721914841632), (2635, 0.0), (2636, 0.0), (2637, 0.0), (2638, 0.021405294138372583), (2639, 0.014566589571778896), (2640, 0.006498923805897262), (2641, 0.0), (2642, 0.0035107814251462695), (2643, 0.005026331218215852), (2644, 0.014294485913091445), (2645, 0.01596482047379381), (2646, 0.021126096033238517), (2647, 0.018618281252054378), (2648, 0.0), (2649, 0.023438378650702574), (2650, 0.015375296141442715), (2651, 0.0), (2652, 0.0037381660553075366), (2653, 0.04619208249696517), (2654, 0.016282926022041764), (2655, 0.004945234283688568), (2656, 0.0), (2657, 0.0), (2658, 0.0), (2659, 0.0), (2660, 0.004206859060011213), (2661, 0.003847987220411894), (2662, 0.0), (2663, 0.0), (2664, 0.004027382687202361), (2665, 0.005312998620380699), (2666, 0.0), (2667, 0.0), (2668, 0.010280236226866624), (2669, 0.0), (2670, 0.0), (2671, 0.0), (2672, 0.0), (2673, 0.004736117402260978), (2674, 0.0034008308525555306), (2675, 0.0), (2676, 0.0), (2677, 0.0), (2678, 0.005418126338684702), (2679, 0.0), (2680, 0.00605819251210008), (2681, 0.0), (2682, 0.0), (2683, 0.0), (2684, 0.0), (2685, 0.0), (2686, 0.0), (2687, 0.02878559812489875), (2688, 0.01087237685427148), (2689, 0.01888942293730085), (2690, 0.0), (2691, 0.0064499656716761515), (2692, 1.0), (2693, 0.0), (2694, 0.043248376038131746), (2695, 0.012436942508197577), (2696, 0.004361225438628877), (2697, 0.0030102412418100436), (2698, 0.009743518520310222), (2699, 0.0), (2700, 0.0), (2701, 0.0), (2702, 0.00412388102238918), (2703, 0.0), (2704, 0.0), (2705, 0.0040906005846596885), (2706, 0.03260799484399235), (2707, 0.0043662709514836855), (2708, 0.00656886453616704), (2709, 0.0), (2710, 0.029639849206435802), (2711, 0.0), (2712, 0.017564803644301966), (2713, 0.0), (2714, 0.003828177765745093), (2715, 0.0), (2716, 0.035306696809484034), (2717, 0.0), (2718, 0.02313056792096955), (2719, 0.0), (2720, 0.0), (2721, 0.0), (2722, 0.0), (2723, 0.027224031141520735), (2724, 0.0032155971417653587), (2725, 0.0), (2726, 0.006559566866159), (2727, 0.010061140405501514), (2728, 0.0), (2729, 0.0), (2730, 0.0), (2731, 0.0049671866425113394), (2732, 0.006478253781426417), (2733, 0.0), (2734, 0.0), (2735, 0.0), (2736, 0.014198206071918155), (2737, 0.0), (2738, 0.0), (2739, 0.009285468762999566), (2740, 0.011349098268809452), (2741, 0.0034055349640374146), (2742, 0.014021639431585754), (2743, 0.0033882022578751417), (2744, 0.01025665739717368), (2745, 0.01832284667163195), (2746, 0.003695499655402792), (2747, 0.0032689356151032302), (2748, 0.004081091919086261), (2749, 0.0), (2750, 0.0), (2751, 0.028691186373112798), (2752, 0.008400567252531825), (2753, 0.0), (2754, 0.0), (2755, 0.003969706413381803), (2756, 0.0), (2757, 0.005712434440802195), (2758, 0.0030333775324339774), (2759, 0.006950571014727558), (2760, 0.0182272713929006), (2761, 0.00314446827020073), (2762, 0.025230836459260008), (2763, 0.0), (2764, 0.0052475778858459155), (2765, 0.0), (2766, 0.002913805628316726), (2767, 0.02132519131005778), (2768, 0.01712761454141404), (2769, 0.011632651607308891), (2770, 0.0), (2771, 0.0030713571068037766), (2772, 0.0043484811954409616), (2773, 0.0), (2774, 0.005152924330795915), (2775, 0.005031405067291799), (2776, 0.0039326699364601245), (2777, 0.02621822422558489), (2778, 0.004523559047010118), (2779, 0.0035609375232965564), (2780, 0.008980897424165956), (2781, 0.0), (2782, 0.0318618918871606), (2783, 0.0), (2784, 0.012280275946464466), (2785, 0.0), (2786, 0.0), (2787, 0.0), (2788, 0.0), (2789, 0.005407245678379728), (2790, 0.0), (2791, 0.02431329699836746), (2792, 0.0), (2793, 0.0), (2794, 0.0), (2795, 0.01517929730802103), (2796, 0.004196014478524643), (2797, 0.0044506958067469194), (2798, 0.010406572005950899), (2799, 0.0), (2800, 0.003472272388657065), (2801, 0.0), (2802, 0.0035893975089916364), (2803, 0.00904984103661561), (2804, 0.0), (2805, 0.012943835601702983), (2806, 0.0), (2807, 0.031071221316482912), (2808, 0.018134866696401464), (2809, 0.007582966811603675), (2810, 0.0), (2811, 0.0), (2812, 0.00941723248768607), (2813, 0.0), (2814, 0.0), (2815, 0.0), (2816, 0.006603471395454388), (2817, 0.0), (2818, 0.0), (2819, 0.0), (2820, 0.005582693937066609), (2821, 0.003978117263198874), (2822, 0.0), (2823, 0.017441891893033), (2824, 0.0), (2825, 0.0), (2826, 0.0), (2827, 0.0), (2828, 0.0), (2829, 0.0), (2830, 0.003991469629009694), (2831, 0.010086193419337391), (2832, 0.004934080150368202), (2833, 0.0), (2834, 0.004512547092056732), (2835, 0.0), (2836, 0.0), (2837, 0.0), (2838, 0.0046786938182648615), (2839, 0.0), (2840, 0.004119370278250421), (2841, 0.018206330983040604), (2842, 0.0), (2843, 0.0069816846669223265), (2844, 0.00820589305140112), (2845, 0.0033394731664702325), (2846, 0.0), (2847, 0.0), (2848, 0.0043331197386648965), (2849, 0.01369257018261369), (2850, 0.0), (2851, 0.0), (2852, 0.0), (2853, 0.0), (2854, 0.004118443103234074), (2855, 0.0), (2856, 0.0), (2857, 0.004343691258267926), (2858, 0.0052316099778102814), (2859, 0.04071832267420781), (2860, 0.0), (2861, 0.0), (2862, 0.0034396574158863983), (2863, 0.0), (2864, 0.0), (2865, 0.0), (2866, 0.0), (2867, 0.01924123909555481), (2868, 0.03379940484637837), (2869, 0.038268080586206704), (2870, 0.0051286406108572505), (2871, 0.007914814932207513), (2872, 0.004332946737558492), (2873, 0.007182390160445822), (2874, 0.013793989989775143), (2875, 0.0), (2876, 0.02919105087808881), (2877, 0.0), (2878, 0.003756554685304859), (2879, 0.004533030644929191), (2880, 0.0), (2881, 0.004170850291450152), (2882, 0.0), (2883, 0.004984274298206195), (2884, 0.0), (2885, 0.017384117810203884), (2886, 0.011781174760384542), (2887, 0.029847357523618456), (2888, 0.004028761000890343), (2889, 0.004911764714310889), (2890, 0.004401104966444361), (2891, 0.0), (2892, 0.0034944918808593934), (2893, 0.045320516795776915), (2894, 0.003771728818972209), (2895, 0.0), (2896, 0.0), (2897, 0.008226235695166388), (2898, 0.0), (2899, 0.0034135814437626596), (2900, 0.0), (2901, 0.004847027386541518), (2902, 0.0), (2903, 0.06132726547329475), (2904, 0.003761595932858598), (2905, 0.0), (2906, 0.0), (2907, 0.0035102223814139897), (2908, 0.034083866860143905), (2909, 0.0), (2910, 0.011688493672948682), (2911, 0.0038178676258134457), (2912, 0.0), (2913, 0.007500947302027305), (2914, 0.004286042382231827), (2915, 0.011290337578621608), (2916, 0.0041406420620527335), (2917, 0.012948008018007143), (2918, 0.008430085740957119), (2919, 0.012613678112680007), (2920, 0.02775927300631198), (2921, 0.0), (2922, 0.0), (2923, 0.0), (2924, 0.004161177535716825), (2925, 0.009820459672955282), (2926, 0.0038760762353839064), (2927, 0.0), (2928, 0.0), (2929, 0.005755082965993571), (2930, 0.0), (2931, 0.01656627986104367), (2932, 0.016768486402229048), (2933, 0.008752505849158113), (2934, 0.012335346827473205), (2935, 0.005968055525084797), (2936, 0.007143660254954901), (2937, 0.0), (2938, 0.0), (2939, 0.01042893067861039), (2940, 0.0), (2941, 0.0), (2942, 0.005525924968902339), (2943, 0.003941349477364912), (2944, 0.04755470181525129), (2945, 0.0036346923814579825), (2946, 0.003716365646045961), (2947, 0.0), (2948, 0.0), (2949, 0.00392950874659389), (2950, 0.0), (2951, 0.0), (2952, 0.0), (2953, 0.0), (2954, 0.0), (2955, 0.0), (2956, 0.0), (2957, 0.0045390161727081844), (2958, 0.0), (2959, 0.0), (2960, 0.0), (2961, 0.012233000419601424), (2962, 0.0), (2963, 0.0), (2964, 0.00671286327991543), (2965, 0.0036174412849297954), (2966, 0.004509892215570728), (2967, 0.0), (2968, 0.0), (2969, 0.01387939829402476), (2970, 0.0), (2971, 0.02158098734718273), (2972, 0.003610271711870684), (2973, 0.0), (2974, 0.004112251600627494), (2975, 0.008895277301159561), (2976, 0.003186372932343545), (2977, 0.010174878722057672), (2978, 0.00914569099738326), (2979, 0.0), (2980, 0.010035876447889485), (2981, 0.03231220693217128), (2982, 0.0), (2983, 0.0), (2984, 0.0), (2985, 0.05363541019897365), (2986, 0.004269756123007162), (2987, 0.0), (2988, 0.010647932161549281), (2989, 0.005231399201856841), (2990, 0.0), (2991, 0.0), (2992, 0.005961149666030935), (2993, 0.0), (2994, 0.0), (2995, 0.020957711309328744), (2996, 0.01312223311139734), (2997, 0.0), (2998, 0.005362931578660248), (2999, 0.0038671535589351515), (3000, 0.0150069151879173), (3001, 0.0), (3002, 0.0), (3003, 0.0), (3004, 0.035522273918275636), (3005, 0.0), (3006, 0.0), (3007, 0.0), (3008, 0.007065287591891734), (3009, 0.0), (3010, 0.022825416354410728), (3011, 0.0), (3012, 0.004201603839629774), (3013, 0.0040498229149443215), (3014, 0.0035052834070382075), (3015, 0.004659058497308976), (3016, 0.0), (3017, 0.028567663373514074), (3018, 0.009010056705839355), (3019, 0.01452890934649169), (3020, 0.0), (3021, 0.0), (3022, 0.0), (3023, 0.04412574399666124), (3024, 0.0030591448265569403), (3025, 0.0), (3026, 0.0), (3027, 0.0033657672906411817), (3028, 0.0034772999342479348), (3029, 0.0), (3030, 0.005054719180070872), (3031, 0.0), (3032, 0.0040813198373294045), (3033, 0.00625487416591501), (3034, 0.0), (3035, 0.0038370826856652376), (3036, 0.01893883504369045), (3037, 0.004058950205265697), (3038, 0.0), (3039, 0.007221995833332376), (3040, 0.005193366299527854), (3041, 0.0), (3042, 0.0), (3043, 0.013680479502839241), (3044, 0.004143025408241912), (3045, 0.024783483049857155), (3046, 0.006111311007149243), (3047, 0.0), (3048, 0.0), (3049, 0.0), (3050, 0.00346907915291591), (3051, 0.005252438508708184), (3052, 0.004866917029550859), (3053, 0.07606439212124107), (3054, 0.0), (3055, 0.0), (3056, 0.003050405838442886), (3057, 0.0), (3058, 0.0), (3059, 0.0), (3060, 0.0), (3061, 0.0), (3062, 0.004158736855276982), (3063, 0.0), (3064, 0.0), (3065, 0.008732673124011478), (3066, 0.006298873992225213), (3067, 0.010090300417962324), (3068, 0.0), (3069, 0.0), (3070, 0.007773067767937649), (3071, 0.0033553092296322246), (3072, 0.004338200693743783), (3073, 0.0), (3074, 0.004503396958475101), (3075, 0.0037185707592268533), (3076, 0.004677274952315983), (3077, 0.0), (3078, 0.0), (3079, 0.0), (3080, 0.0), (3081, 0.0044786190093672), (3082, 0.0), (3083, 0.022517454367278544), (3084, 0.0), (3085, 0.006094767863848208), (3086, 0.0130977422526784), (3087, 0.0), (3088, 0.0), (3089, 0.0), (3090, 0.0), (3091, 0.04519910456862991), (3092, 0.0), (3093, 0.0), (3094, 0.01177951683944493), (3095, 0.015877211593404758), (3096, 0.008642542109610523), (3097, 0.003916498229863329), (3098, 0.01601427905860066), (3099, 0.007730283076260205), (3100, 0.0), (3101, 0.0), (3102, 0.034036481561862744), (3103, 0.0), (3104, 0.0), (3105, 0.0), (3106, 0.0), (3107, 0.0), (3108, 0.008983600253948612), (3109, 0.0), (3110, 0.009377625644989387), (3111, 0.019132651796719188), (3112, 0.0038388616401502955), (3113, 0.0), (3114, 0.00583408505185153), (3115, 0.0), (3116, 0.004095769453436282), (3117, 0.0), (3118, 0.008194329492113947), (3119, 0.016811555003231192), (3120, 0.0033351652495787988), (3121, 0.0), (3122, 0.003567490504066013), (3123, 0.004385359290930105), (3124, 0.0), (3125, 0.003701853836649074), (3126, 0.0), (3127, 0.02823485515972648), (3128, 0.0), (3129, 0.012737756123934633), (3130, 0.0), (3131, 0.0), (3132, 0.0), (3133, 0.0), (3134, 0.0), (3135, 0.0), (3136, 0.0), (3137, 0.006670877755753689), (3138, 0.0), (3139, 0.0), (3140, 0.00443687500051978), (3141, 0.0), (3142, 0.012330770797576279), (3143, 0.0), (3144, 0.018937049925106426), (3145, 0.0), (3146, 0.03225833676044364), (3147, 0.0033987373884516708), (3148, 0.0041380971274562256), (3149, 0.0), (3150, 0.0), (3151, 0.009698896060556454), (3152, 0.008172518780774643), (3153, 0.0188988075426997), (3154, 0.025205244026810892), (3155, 0.008620389234651504), (3156, 0.023885074525968258), (3157, 0.027415647803403408), (3158, 0.0), (3159, 0.0), (3160, 0.0), (3161, 0.0), (3162, 0.0), (3163, 0.0), (3164, 0.005365153835580952), (3165, 0.0042622293474572385), (3166, 0.005004201711442617), (3167, 0.023606818266640944), (3168, 0.0), (3169, 0.0), (3170, 0.0036049505147947836), (3171, 0.011774446413726958), (3172, 0.0), (3173, 0.0), (3174, 0.0), (3175, 0.0), (3176, 0.0), (3177, 0.0), (3178, 0.005680494336745022), (3179, 0.0), (3180, 0.0), (3181, 0.0), (3182, 0.003762047673865215), (3183, 0.004067083392833606), (3184, 0.0037964303981170883), (3185, 0.0), (3186, 0.0), (3187, 0.003945006633759202), (3188, 0.0), (3189, 0.0), (3190, 0.0), (3191, 0.0), (3192, 0.009086755045655861), (3193, 0.0), (3194, 0.0034197033326278763), (3195, 0.003544222407524918), (3196, 0.004092149265880068), (3197, 0.0), (3198, 0.003902890601372717), (3199, 0.00290555647983142), (3200, 0.0031513312722667884), (3201, 0.0), (3202, 0.0), (3203, 0.047706849167075085), (3204, 0.0), (3205, 0.004846612201177581), (3206, 0.0), (3207, 0.0), (3208, 0.0), (3209, 0.04030781400666096), (3210, 0.012760800669019473), (3211, 0.0), (3212, 0.0), (3213, 0.01247545304150736), (3214, 0.0036928286662753413), (3215, 0.005416914201409746), (3216, 0.0), (3217, 0.0), (3218, 0.010613011821789012), (3219, 0.0046915609124718064), (3220, 0.003536018101830114), (3221, 0.0), (3222, 0.02033747797207424), (3223, 0.0), (3224, 0.0), (3225, 0.0), (3226, 0.015353729789829186), (3227, 0.00378829661990571), (3228, 0.01193188325843279), (3229, 0.0), (3230, 0.0), (3231, 0.0), (3232, 0.007483337816351697), (3233, 0.003753353149251188), (3234, 0.004103210260231247), (3235, 0.004007327901865634), (3236, 0.0), (3237, 0.01000209741280471), (3238, 0.0), (3239, 0.0), (3240, 0.00962050120451241), (3241, 0.003768070393690107), (3242, 0.0), (3243, 0.0), (3244, 0.005724354231545516), (3245, 0.008997943556482925), (3246, 0.006051460601898347), (3247, 0.0), (3248, 0.07309016433379595), (3249, 0.04158887493925508), (3250, 0.0), (3251, 0.0), (3252, 0.0), (3253, 0.01459630416684925), (3254, 0.003017600791941263), (3255, 0.0332865583329632), (3256, 0.007577527593854448), (3257, 0.005058686183856678), (3258, 0.004200650170642484), (3259, 0.009044190648871745), (3260, 0.0249663211934532), (3261, 0.0), (3262, 0.004878363202843685), (3263, 0.0), (3264, 0.006824280181880862), (3265, 0.006532573830637294), (3266, 0.0), (3267, 0.007872510002854029), (3268, 0.003570496873557066), (3269, 0.0), (3270, 0.0), (3271, 0.0), (3272, 0.0), (3273, 0.0040498820862107324), (3274, 0.004248239234046093), (3275, 0.015086391356049694), (3276, 0.04365215082635967), (3277, 0.0), (3278, 0.003421241558922301), (3279, 0.013179069488715195), (3280, 0.031080213266267948), (3281, 0.0), (3282, 0.004669914885408211), (3283, 0.0), (3284, 0.01522517468170052), (3285, 0.023027938082996365), (3286, 0.0), (3287, 0.0), (3288, 0.006299460938289532), (3289, 0.0), (3290, 0.0), (3291, 0.005152960755426132), (3292, 0.0), (3293, 0.011887173399758538), (3294, 0.046353041953860113), (3295, 0.014198008712372197), (3296, 0.004327508029116643), (3297, 0.012556257021143912), (3298, 0.0035060155383473584), (3299, 0.012496919418390231), (3300, 0.003475565454595951), (3301, 0.002994848579413299), (3302, 0.0043876560559350485), (3303, 0.0037102645560411944), (3304, 0.003316040294744324), (3305, 0.0), (3306, 0.015856823746545238), (3307, 0.0), (3308, 0.004298218625447027), (3309, 0.006098279181069815), (3310, 0.0), (3311, 0.0033223970151278486), (3312, 0.009860098180875524), (3313, 0.025973811472671825), (3314, 0.0038640939423641527), (3315, 0.03400096362810727), (3316, 0.007704235215784122), (3317, 0.010037496127493169), (3318, 0.0033000862013781627), (3319, 0.022478463789363277), (3320, 0.0), (3321, 0.0), (3322, 0.004790873207369701), (3323, 0.0), (3324, 0.0), (3325, 0.006269332726117533), (3326, 0.0038052168970012495), (3327, 0.0032467237433163173), (3328, 0.014186250864493969), (3329, 0.005824258535832051), (3330, 0.003722965772327228), (3331, 0.003151275194374879), (3332, 0.0), (3333, 0.0), (3334, 0.051368610941424205), (3335, 0.0), (3336, 0.0), (3337, 0.0), (3338, 0.0), (3339, 0.0), (3340, 0.0), (3341, 0.0), (3342, 0.0033980877772165825), (3343, 0.0), (3344, 0.02374448063616816), (3345, 0.021634720590781382), (3346, 0.00984558028465763), (3347, 0.0031196660782638044), (3348, 0.0), (3349, 0.003878191404478602), (3350, 0.0), (3351, 0.034532914296175256), (3352, 0.02074137613266391), (3353, 0.003791877612128075), (3354, 0.0), (3355, 0.004279969101716826), (3356, 0.013738031787050927), (3357, 0.00444814340139456), (3358, 0.0), (3359, 0.004352797571790106), (3360, 0.0145519491272057), (3361, 0.0), (3362, 0.03656379807342587), (3363, 0.00444820703407583), (3364, 0.004265878747830604), (3365, 0.0026362983057932245), (3366, 0.0), (3367, 0.0), (3368, 0.0), (3369, 0.0), (3370, 0.01164463542827671), (3371, 0.0), (3372, 0.0), (3373, 0.009394101767994567), (3374, 0.04581581459898833), (3375, 0.01454969137776107), (3376, 0.02876654256878427), (3377, 0.027901042418678364), (3378, 0.0), (3379, 0.0035464567399480576), (3380, 0.003288326779174867), (3381, 0.0), (3382, 0.008888592637076908), (3383, 0.0), (3384, 0.00734999739266739), (3385, 0.054667277036053265), (3386, 0.01045712968341083), (3387, 0.007006414344821349), (3388, 0.003825775944323494), (3389, 0.009318377482235919), (3390, 0.0), (3391, 0.004028926328446717), (3392, 0.0), (3393, 0.0032356721178910365), (3394, 0.0), (3395, 0.047453604833711166), (3396, 0.004620633133530212), (3397, 0.0), (3398, 0.0), (3399, 0.009513653237733755), (3400, 0.0), (3401, 0.0), (3402, 0.0035446301193974472), (3403, 0.01847118447364652), (3404, 0.0), (3405, 0.0), (3406, 0.003867124440163828), (3407, 0.009698396402462887), (3408, 0.04438683846412696), (3409, 0.008595010186471975), (3410, 0.0051523873217464815), (3411, 0.0), (3412, 0.0), (3413, 0.004231171958595856), (3414, 0.0), (3415, 0.0), (3416, 0.006318506657520662), (3417, 0.004043215372542592), (3418, 0.0077899358572781595), (3419, 0.0), (3420, 0.028648105028671766), (3421, 0.012824119048342117), (3422, 0.0), (3423, 0.007409376640020583), (3424, 0.0), (3425, 0.004201832943287807), (3426, 0.006015051576982976), (3427, 0.041485377486686466), (3428, 0.026457559722711157), (3429, 0.0), (3430, 0.03264601446539813), (3431, 0.0), (3432, 0.0), (3433, 0.01776301151147115), (3434, 0.0), (3435, 0.0035676987215066316), (3436, 0.0036251188145153546), (3437, 0.012834594220913556), (3438, 0.0), (3439, 0.0), (3440, 0.0), (3441, 0.0), (3442, 0.0), (3443, 0.0), (3444, 0.0), (3445, 0.0036589328808580884), (3446, 0.018428853940737473), (3447, 0.026831931925394025), (3448, 0.0), (3449, 0.003861146364567196), (3450, 0.05986105681769641), (3451, 0.0), (3452, 0.0), (3453, 0.009464785801445193), (3454, 0.0), (3455, 0.0), (3456, 0.004385240677897497), (3457, 0.006625774446020066), (3458, 0.004475704815182271), (3459, 0.0), (3460, 0.0033697161415994622), (3461, 0.0), (3462, 0.01497562680788087), (3463, 0.03425297841719467), (3464, 0.0), (3465, 0.008110067769780804), (3466, 0.02244601835123825), (3467, 0.0), (3468, 0.0), (3469, 0.019452968444431683), (3470, 0.02912272987338697), (3471, 0.017698475042435668), (3472, 0.0), (3473, 0.0), (3474, 0.003335926818970873), (3475, 0.0), (3476, 0.0), (3477, 0.003669820132794907), (3478, 0.0), (3479, 0.0048406680848178734), (3480, 0.06653196457770548), (3481, 0.0), (3482, 0.0), (3483, 0.019076427808393977), (3484, 0.0), (3485, 0.0), (3486, 0.03321656378306261), (3487, 0.0035271152597464795), (3488, 0.024473817184002905), (3489, 0.0), (3490, 0.0), (3491, 0.0), (3492, 0.021409423094993746), (3493, 0.003908931399109332), (3494, 0.0), (3495, 0.0), (3496, 0.003863349016941559), (3497, 0.0), (3498, 0.031929537795324224), (3499, 0.0), (3500, 0.0035438410810015464), (3501, 0.0038363042038154094), (3502, 0.0), (3503, 0.0034868080676453772), (3504, 0.01785304717674261), (3505, 0.0), (3506, 0.004161581798528693), (3507, 0.0), (3508, 0.012443792344645965), (3509, 0.005465280618853414), (3510, 0.0), (3511, 0.03778260292932059), (3512, 0.0057728017245784625), (3513, 0.0), (3514, 0.0), (3515, 0.006980249355843107), (3516, 0.0038096696618702503), (3517, 0.0), (3518, 0.04593342607421794), (3519, 0.0), (3520, 0.0), (3521, 0.004402417062509571), (3522, 0.0), (3523, 0.005288951415695796), (3524, 0.011612638783103082), (3525, 0.0), (3526, 0.00376960980206492), (3527, 0.003929399034629461), (3528, 0.016597036406647378), (3529, 0.0), (3530, 0.0), (3531, 0.0), (3532, 0.0), (3533, 0.0), (3534, 0.003071844344286791), (3535, 0.01031797468373547), (3536, 0.00643289930006478), (3537, 0.0), (3538, 0.0), (3539, 0.0), (3540, 0.0), (3541, 0.016489984715979396), (3542, 0.0037141286139203778), (3543, 0.0), (3544, 0.0), (3545, 0.0), (3546, 0.002736590575230364), (3547, 0.0), (3548, 0.0), (3549, 0.0), (3550, 0.0), (3551, 0.0037315935115939487), (3552, 0.04695791194323787), (3553, 0.018965499178644853), (3554, 0.0), (3555, 0.0), (3556, 0.02917697446314265), (3557, 0.0035707970450782837), (3558, 0.015982911522003727), (3559, 0.02579798872700424), (3560, 0.004004515104251791), (3561, 0.0), (3562, 0.0), (3563, 0.00336427158936343), (3564, 0.00371658975905243), (3565, 0.0), (3566, 0.00600302786551772), (3567, 0.0), (3568, 0.0), (3569, 0.0032012195773470165), (3570, 0.0), (3571, 0.003676555560079233), (3572, 0.03146698480778457), (3573, 0.0), (3574, 0.027699807806108905), (3575, 0.003040159270275345), (3576, 0.0), (3577, 0.004481790689247364), (3578, 0.0), (3579, 0.00898172842597883), (3580, 0.014594608641494507), (3581, 0.0), (3582, 0.008368361155203712), (3583, 0.0), (3584, 0.0), (3585, 0.0), (3586, 0.009197019991691001), (3587, 0.0), (3588, 0.0), (3589, 0.0), (3590, 0.004160999391706194), (3591, 0.0), (3592, 0.0), (3593, 0.0), (3594, 0.006543660819917383), (3595, 0.0), (3596, 0.006471329108072072), (3597, 0.014955531321143264), (3598, 0.0056796080405203475), (3599, 0.006479749525479462), (3600, 0.0), (3601, 0.004028048989421649), (3602, 0.0), (3603, 0.0), (3604, 0.0), (3605, 0.0), (3606, 0.0), (3607, 0.0), (3608, 0.0), (3609, 0.0), (3610, 0.0), (3611, 0.0), (3612, 0.012787579035676429), (3613, 0.004455845409494535), (3614, 0.003393524242017029), (3615, 0.0), (3616, 0.004413876771453429), (3617, 0.0), (3618, 0.003942563717041695), (3619, 0.0), (3620, 0.004405971721066405), (3621, 0.0), (3622, 0.0), (3623, 0.0037420326861548367), (3624, 0.0037512245749220657), (3625, 0.0), (3626, 0.0028516641371867137), (3627, 0.0), (3628, 0.0), (3629, 0.0), (3630, 0.013758492457910554), (3631, 0.0), (3632, 0.006468701255552037), (3633, 0.0), (3634, 0.008836038720550485), (3635, 0.0049985932543186486), (3636, 0.0), (3637, 0.010951465386868397), (3638, 0.004506357901264755), (3639, 0.004116284887717712), (3640, 0.004111745145969915), (3641, 0.003614130910784616), (3642, 0.009113490803985925), (3643, 0.010130203961034041), (3644, 0.0), (3645, 0.010072520999261885), (3646, 0.003509047198936428), (3647, 0.0), (3648, 0.006507197763513042), (3649, 0.0), (3650, 0.0), (3651, 0.004234218213867059), (3652, 0.03661502879013391), (3653, 0.0036964375771250564), (3654, 0.003872822661020854), (3655, 0.05453823673836775), (3656, 0.030065348046109185), (3657, 0.003133739941963689), (3658, 0.0), (3659, 0.009251006460957495), (3660, 0.0035077112912717083), (3661, 0.0073196755283992665), (3662, 0.0), (3663, 0.0), (3664, 0.0), (3665, 0.017709845000315222), (3666, 0.003795199496198151), (3667, 0.01057073996147868), (3668, 0.0), (3669, 0.0032417891807398308), (3670, 0.00851551195250457), (3671, 0.0), (3672, 0.0), (3673, 0.003695287922978462), (3674, 0.0), (3675, 0.014837620819847309), (3676, 0.0), (3677, 0.0), (3678, 0.0), (3679, 0.0), (3680, 0.004154123409289908), (3681, 0.0), (3682, 0.0), (3683, 0.0), (3684, 0.015389131451115822), (3685, 0.0), (3686, 0.0), (3687, 0.0), (3688, 0.0), (3689, 0.010473107425403236), (3690, 0.0), (3691, 0.0), (3692, 0.019974187011407997), (3693, 0.0), (3694, 0.013617133533190374), (3695, 0.0), (3696, 0.003567177857723064), (3697, 0.0), (3698, 0.0), (3699, 0.008870245185856931), (3700, 0.0), (3701, 0.0), (3702, 0.0), (3703, 0.0), (3704, 0.00392327202618111), (3705, 0.0033524250379604126), (3706, 0.003489303754011063), (3707, 0.0036880792570706984), (3708, 0.010240257749664937), (3709, 0.0), (3710, 0.0), (3711, 0.0215754974873905), (3712, 0.0), (3713, 0.005385923175665726), (3714, 0.0), (3715, 0.0), (3716, 0.0), (3717, 0.0), (3718, 0.0), (3719, 0.0), (3720, 0.025895933603122385), (3721, 0.0), (3722, 0.0), (3723, 0.0), (3724, 0.0), (3725, 0.0), (3726, 0.0), (3727, 0.003707730320843922), (3728, 0.05421293743435012), (3729, 0.0), (3730, 0.0), (3731, 0.03483476994477744), (3732, 0.0), (3733, 0.006551834390433004), (3734, 0.0034449338213008046), (3735, 0.0), (3736, 0.0), (3737, 0.0), (3738, 0.0), (3739, 0.0036384202950829722), (3740, 0.0), (3741, 0.010078348598035842), (3742, 0.0033202915672424075), (3743, 0.0), (3744, 0.0), (3745, 0.004193983175099454), (3746, 0.0), (3747, 0.006636488313512768), (3748, 0.005718506781513403), (3749, 0.0039585027114267006), (3750, 0.013137865711591954), (3751, 0.02625396910803087), (3752, 0.00570415307029301), (3753, 0.04607820466378583), (3754, 0.0042928475029081516), (3755, 0.003320031754881826), (3756, 0.010447889530210587), (3757, 0.0), (3758, 0.0), (3759, 0.0), (3760, 0.0), (3761, 0.0), (3762, 0.004777595143754847), (3763, 0.004477697551800981), (3764, 0.0), (3765, 0.0035119185585808), (3766, 0.015349222113519087), (3767, 0.00912619280871182), (3768, 0.0), (3769, 0.0), (3770, 0.0), (3771, 0.003891425169750277), (3772, 0.004134949834593907), (3773, 0.0), (3774, 0.0), (3775, 0.0), (3776, 0.0), (3777, 0.01286269051700398), (3778, 0.022415134678994475), (3779, 0.09541442708476246), (3780, 0.0039930202263630905), (3781, 0.0), (3782, 0.0), (3783, 0.0), (3784, 0.009827674234752313), (3785, 0.0), (3786, 0.0), (3787, 0.0), (3788, 0.0), (3789, 0.0), (3790, 0.0), (3791, 0.0), (3792, 0.0), (3793, 0.03839524972852458), (3794, 0.008120607490625095), (3795, 0.0), (3796, 0.0), (3797, 0.010996421668818302), (3798, 0.0), (3799, 0.003694156263559712), (3800, 0.0), (3801, 0.022535919204366463), (3802, 0.0), (3803, 0.0), (3804, 0.004106238147921827), (3805, 0.0), (3806, 0.0), (3807, 0.003641105521977774), (3808, 0.0), (3809, 0.0036865297971638553), (3810, 0.01893056241984409), (3811, 0.0033973102524625415), (3812, 0.0), (3813, 0.004028574444152375), (3814, 0.0), (3815, 0.0), (3816, 0.0), (3817, 0.0), (3818, 0.0), (3819, 0.0035133557832311346), (3820, 0.0), (3821, 0.005464942097460321), (3822, 0.010789649842885874), (3823, 0.0), (3824, 0.0), (3825, 0.005891631873825468), (3826, 0.009667122519379574), (3827, 0.0037158091326643804), (3828, 0.015409367984276105), (3829, 0.009394813866347999), (3830, 0.0), (3831, 0.0), (3832, 0.004513789598115161), (3833, 0.0), (3834, 0.0), (3835, 0.026205325260459558), (3836, 0.0), (3837, 0.0), (3838, 0.0), (3839, 0.023031381993506295), (3840, 0.0), (3841, 0.0), (3842, 0.007904601631646097), (3843, 0.0), (3844, 0.0), (3845, 0.0037555024113132287), (3846, 0.0), (3847, 0.0), (3848, 0.0), (3849, 0.0), (3850, 0.026802523674689292), (3851, 0.0), (3852, 0.023303159446539455), (3853, 0.013907538441840384), (3854, 0.011309175731103788), (3855, 0.0030896082445799984), (3856, 0.0), (3857, 0.016248323237398957), (3858, 0.0), (3859, 0.0), (3860, 0.007951922001685112), (3861, 0.013851544476706256), (3862, 0.012907247022431881), (3863, 0.0), (3864, 0.006089216171990571), (3865, 0.005766982725335808), (3866, 0.004181009474264358), (3867, 0.03954193124247243), (3868, 0.02624329460504703), (3869, 0.0), (3870, 0.0), (3871, 0.0272328461800317), (3872, 0.0), (3873, 0.004008702236903039), (3874, 0.0), (3875, 0.018559940692356447), (3876, 0.0036101586839149473), (3877, 0.0), (3878, 0.0), (3879, 0.0), (3880, 0.0090437803648648), (3881, 0.0), (3882, 0.003802378355705582), (3883, 0.014219433174285366), (3884, 0.004286641107043686), (3885, 0.0), (3886, 0.0), (3887, 0.0), (3888, 0.003673641072687613), (3889, 0.0), (3890, 0.0036220143932007925), (3891, 0.0), (3892, 0.0047819760705267835), (3893, 0.003984291686823994), (3894, 0.0), (3895, 0.016351953277901676), (3896, 0.0), (3897, 0.0), (3898, 0.0035460496618405757), (3899, 0.0), (3900, 0.003598503481695439), (3901, 0.004244803534405778), (3902, 0.003915411766121736), (3903, 0.01139747361847921), (3904, 0.028998948247782066), (3905, 0.0), (3906, 0.0), (3907, 0.0), (3908, 0.0), (3909, 0.0060132841882834555), (3910, 0.003237082689093963), (3911, 0.0), (3912, 0.0), (3913, 0.02532751446140607), (3914, 0.0), (3915, 0.003859702746680414), (3916, 0.0), (3917, 0.003689304529505386), (3918, 0.0), (3919, 0.010714545664527219), (3920, 0.003935753998502734), (3921, 0.0), (3922, 0.004785167814892817), (3923, 0.021572490699863302), (3924, 0.013515692307009969), (3925, 0.005180373464120092), (3926, 0.006354804966864889), (3927, 0.02134478033601313), (3928, 0.003119337035009423), (3929, 0.0), (3930, 0.0), (3931, 0.0), (3932, 0.006967303172716341), (3933, 0.0), (3934, 0.01909951698141397), (3935, 0.0), (3936, 0.0), (3937, 0.0), (3938, 0.0), (3939, 0.004749894539511252), (3940, 0.005262633901846299), (3941, 0.008027287142873957), (3942, 0.0), (3943, 0.0), (3944, 0.0), (3945, 0.010259287688442342), (3946, 0.05331891512243263), (3947, 0.03814771551629624), (3948, 0.0), (3949, 0.012270741482407147), (3950, 0.0), (3951, 0.007455103650172189), (3952, 0.004383811503756819), (3953, 0.0033031085916912493), (3954, 0.009421934348038294), (3955, 0.039220001604731415), (3956, 0.003283195414240378), (3957, 0.005431942809343795), (3958, 0.014725896483254895), (3959, 0.02191744157155259), (3960, 0.0040859911565856956), (3961, 0.025515621214359747), (3962, 0.004023757458155105), (3963, 0.0), (3964, 0.0), (3965, 0.0), (3966, 0.0), (3967, 0.0), (3968, 0.0), (3969, 0.0), (3970, 0.0), (3971, 0.0), (3972, 0.0), (3973, 0.04585933952525534), (3974, 0.04270140531219035), (3975, 0.0), (3976, 0.016350025237052965), (3977, 0.0), (3978, 0.01699527580902086), (3979, 0.0), (3980, 0.0), (3981, 0.0), (3982, 0.0), (3983, 0.035620396111804446), (3984, 0.013709264507047993), (3985, 0.0), (3986, 0.0), (3987, 0.0), (3988, 0.0), (3989, 0.0), (3990, 0.005041614015794042), (3991, 0.0), (3992, 0.013563367547042397), (3993, 0.00793259320447294), (3994, 0.0), (3995, 0.0), (3996, 0.0), (3997, 0.0), (3998, 0.0061090744740703255), (3999, 0.010711859031250132), (4000, 0.008554136025273397), (4001, 0.006443645313232264), (4002, 0.0), (4003, 0.0), (4004, 0.023573901631657113), (4005, 0.03203325074196836), (4006, 0.0), (4007, 0.020373290243526455), (4008, 0.006612000899081088), (4009, 0.005862659764716261), (4010, 0.0), (4011, 0.003408695167037237), (4012, 0.017866214885369835), (4013, 0.0), (4014, 0.003881375129436851), (4015, 0.0), (4016, 0.021739597418594322), (4017, 0.0), (4018, 0.0), (4019, 0.0), (4020, 0.003608720229424442), (4021, 0.0), (4022, 0.0), (4023, 0.042270967138359664), (4024, 0.0039965300723838445), (4025, 0.010291781743377658), (4026, 0.0), (4027, 0.0), (4028, 0.017752081967611005), (4029, 0.0), (4030, 0.004531314119897723), (4031, 0.0), (4032, 0.011818503412640992), (4033, 0.003776219694586006), (4034, 0.0), (4035, 0.03025662896401951), (4036, 0.003552410403811517), (4037, 0.0), (4038, 0.003894275762524244), (4039, 0.0), (4040, 0.0), (4041, 0.0), (4042, 0.0), (4043, 0.0), (4044, 0.0), (4045, 0.0), (4046, 0.003948735720670657), (4047, 0.0), (4048, 0.013897488424099304), (4049, 0.0), (4050, 0.016878030602935367), (4051, 0.00409633308227192), (4052, 0.006700317310128209), (4053, 0.018291084673474133), (4054, 0.0037846369527435994), (4055, 0.005709881890033255), (4056, 0.0037596802451641655), (4057, 0.005778405086247009), (4058, 0.0), (4059, 0.0), (4060, 0.008211015470830842), (4061, 0.006930254310408813), (4062, 0.05821589115522707), (4063, 0.0), (4064, 0.04042807352219838), (4065, 0.0), (4066, 0.0032728608199383757), (4067, 0.0), (4068, 0.01241636848069216), (4069, 0.003485065506458646), (4070, 0.0), (4071, 0.0), (4072, 0.0), (4073, 0.0), (4074, 0.0032955272394083693), (4075, 0.0), (4076, 0.0), (4077, 0.006916339630255517), (4078, 0.0), (4079, 0.00393867513348882), (4080, 0.0), (4081, 0.014677772994918877), (4082, 0.0052122880038305616), (4083, 0.0), (4084, 0.0), (4085, 0.003529404029424776), (4086, 0.0), (4087, 0.004006888026298892), (4088, 0.01710558788718401), (4089, 0.0), (4090, 0.0), (4091, 0.0), (4092, 0.004155492939772884), (4093, 0.0), (4094, 0.0), (4095, 0.010328867039805376), (4096, 0.007471107785621746), (4097, 0.0), (4098, 0.003943439270613996), (4099, 0.00636081959698998), (4100, 0.0), (4101, 0.004028440520388692), (4102, 0.0), (4103, 0.0), (4104, 0.02304449378692515), (4105, 0.0), (4106, 0.005771491450620978), (4107, 0.004626401281199965), (4108, 0.0), (4109, 0.0), (4110, 0.00618065570394764), (4111, 0.0038740731892776734), (4112, 0.0), (4113, 0.0039343650817526025), (4114, 0.0), (4115, 0.0), (4116, 0.003894280396224913), (4117, 0.004222342748935602), (4118, 0.009437619058779288), (4119, 0.0), (4120, 0.0), (4121, 0.00968824427435544), (4122, 0.010833854427343683), (4123, 0.0038547775835808306), (4124, 0.008549475714714384), (4125, 0.0), (4126, 0.0), (4127, 0.0), (4128, 0.024513129946448668), (4129, 0.0), (4130, 0.0039874098571797655), (4131, 0.0), (4132, 0.0), (4133, 0.00396265368273116), (4134, 0.009050392180114436), (4135, 0.003674780089234459), (4136, 0.0), (4137, 0.03868768809069921), (4138, 0.003948471924280158), (4139, 0.0), (4140, 0.0), (4141, 0.03054739200653181), (4142, 0.0), (4143, 0.003283688256962025), (4144, 0.0), (4145, 0.0), (4146, 0.0), (4147, 0.0), (4148, 0.0), (4149, 0.01864250375915715), (4150, 0.0), (4151, 0.0063985889247553706), (4152, 0.0338829549282812), (4153, 0.0), (4154, 0.003326286976639701), (4155, 0.0), (4156, 0.01981733713829306), (4157, 0.0), (4158, 0.005456361780380973), (4159, 0.0), (4160, 0.00396981835810772), (4161, 0.0), (4162, 0.0), (4163, 0.004404721820279987), (4164, 0.007853784347943153), (4165, 0.03255552797470278), (4166, 0.0), (4167, 0.0), (4168, 0.0), (4169, 0.003908660525393756), (4170, 0.0), (4171, 0.00263867162876818), (4172, 0.005115504190547576), (4173, 0.0), (4174, 0.0), (4175, 0.0), (4176, 0.017155356794700843), (4177, 0.02883847349448198), (4178, 0.0037590469367046204), (4179, 0.0), (4180, 0.0), (4181, 0.0), (4182, 0.007966728400193447), (4183, 0.0035171235397375746), (4184, 0.008643869298858261), (4185, 0.0), (4186, 0.0), (4187, 0.0040110824694452206), (4188, 0.0), (4189, 0.018320659832983303), (4190, 0.0), (4191, 0.0), (4192, 0.011581753096181206), (4193, 0.0), (4194, 0.0), (4195, 0.03193776864200373), (4196, 0.006792627124647483), (4197, 0.0), (4198, 0.0), (4199, 0.0), (4200, 0.0), (4201, 0.0), (4202, 0.005153617629967341), (4203, 0.011198481542283548), (4204, 0.0), (4205, 0.009499714442789763), (4206, 0.0), (4207, 0.0), (4208, 0.0), (4209, 0.0), (4210, 0.006510167115223316), (4211, 0.0), (4212, 0.0), (4213, 0.0), (4214, 0.0), (4215, 0.0), (4216, 0.008299234175921575), (4217, 0.006116498080147434), (4218, 0.0), (4219, 0.0), (4220, 0.0), (4221, 0.004751213715726292), (4222, 0.004967870672971284), (4223, 0.0), (4224, 0.0), (4225, 0.003865426767787719), (4226, 0.006989790913220584), (4227, 0.00930396845087482), (4228, 0.0), (4229, 0.0), (4230, 0.004667038252719964), (4231, 0.013102562908158968), (4232, 0.0076488173408040296), (4233, 0.009227642272862085), (4234, 0.0), (4235, 0.008258668236793632), (4236, 0.0060699555002047675), (4237, 0.0), (4238, 0.0), (4239, 0.0), (4240, 0.0), (4241, 0.0), (4242, 0.026336016552327268), (4243, 0.004374602538634643), (4244, 0.004322548144112022), (4245, 0.0), (4246, 0.016495543240495028), (4247, 0.003214141690253125), (4248, 0.0), (4249, 0.003735556971208958), (4250, 0.0), (4251, 0.0), (4252, 0.0), (4253, 0.0), (4254, 0.0), (4255, 0.010235926079809733), (4256, 0.0), (4257, 0.0094412811435636), (4258, 0.0), (4259, 0.003981623078157789), (4260, 0.0), (4261, 0.006454735115151958), (4262, 0.0), (4263, 0.0039681827966933465), (4264, 0.0), (4265, 0.0), (4266, 0.003632963960990472), (4267, 0.0), (4268, 0.05111087350005724), (4269, 0.004053954284233105), (4270, 0.0), (4271, 0.0), (4272, 0.005976538676669717), (4273, 0.0), (4274, 0.0), (4275, 0.0), (4276, 0.0), (4277, 0.0), (4278, 0.0), (4279, 0.0), (4280, 0.0), (4281, 0.01746333046731907), (4282, 0.003460628942617078), (4283, 0.021502999993768958), (4284, 0.0037439503104130154), (4285, 0.0), (4286, 0.0038357996541707588), (4287, 0.0037716237484724715), (4288, 0.01676355814483987), (4289, 0.0), (4290, 0.0), (4291, 0.0), (4292, 0.0), (4293, 0.01409711876087381), (4294, 0.0), (4295, 0.004285542582027068), (4296, 0.0), (4297, 0.0), (4298, 0.0), (4299, 0.0), (4300, 0.0), (4301, 0.0), (4302, 0.0), (4303, 0.006249459002642227), (4304, 0.0), (4305, 0.0), (4306, 0.0), (4307, 0.0), (4308, 0.0), (4309, 0.003546588632834495), (4310, 0.0), (4311, 0.0030505917846194866), (4312, 0.0), (4313, 0.0), (4314, 0.014511935441484002), (4315, 0.0), (4316, 0.0), (4317, 0.0), (4318, 0.0), (4319, 0.0), (4320, 0.0), (4321, 0.017575031427143395), (4322, 0.0), (4323, 0.0), (4324, 0.0), (4325, 0.008187718256614058), (4326, 0.0), (4327, 0.0), (4328, 0.0), (4329, 0.0), (4330, 0.0038761459996060565), (4331, 0.0), (4332, 0.0), (4333, 0.004231935101199803), (4334, 0.0037597345030383777), (4335, 0.009596121663612858), (4336, 0.010110826265744227), (4337, 0.006818076826007191), (4338, 0.0), (4339, 0.0), (4340, 0.0), (4341, 0.0), (4342, 0.00583044334665052), (4343, 0.0), (4344, 0.008421023650391836), (4345, 0.0033609080560115414), (4346, 0.0), (4347, 0.0), (4348, 0.0), (4349, 0.014851091922658823), (4350, 0.003280205078363773), (4351, 0.006771709989171925), (4352, 0.0), (4353, 0.0), (4354, 0.0), (4355, 0.0), (4356, 0.003517738337020871), (4357, 0.0038800863510786363), (4358, 0.0), (4359, 0.0), (4360, 0.0), (4361, 0.0), (4362, 0.0036259773269324666), (4363, 0.0), (4364, 0.0), (4365, 0.0), (4366, 0.00777375903788771), (4367, 0.006563725353170591), (4368, 0.0042212043472133216), (4369, 0.004138964270049249), (4370, 0.0), (4371, 0.010696961524085004), (4372, 0.0), (4373, 0.004894264048637469), (4374, 0.011549235619170376), (4375, 0.08811373585254995), (4376, 0.0), (4377, 0.0), (4378, 0.033178907539380076), (4379, 0.012840581037216107), (4380, 0.0176663214025802), (4381, 0.0), (4382, 0.020612779594978207), (4383, 0.0), (4384, 0.0), (4385, 0.005440030959299068), (4386, 0.0), (4387, 0.012044173702734386), (4388, 0.006416680252170163), (4389, 0.054045385053373224), (4390, 0.0), (4391, 0.0), (4392, 0.0), (4393, 0.0), (4394, 0.0036125967751689616), (4395, 0.01897073877446289), (4396, 0.03674045683568647), (4397, 0.0), (4398, 0.054489659904346344), (4399, 0.01415767074570233), (4400, 0.0), (4401, 0.0039554194647596075), (4402, 0.027325153978960473), (4403, 0.03304938084769808), (4404, 0.0), (4405, 0.0), (4406, 0.0), (4407, 0.0048078123097989285), (4408, 0.0), (4409, 0.0), (4410, 0.0), (4411, 0.003173867509049872), (4412, 0.0042513731204805675), (4413, 0.0), (4414, 0.0), (4415, 0.0), (4416, 0.0), (4417, 0.0), (4418, 0.0), (4419, 0.0039073076340762165), (4420, 0.003843050237365091), (4421, 0.0), (4422, 0.00381506012364307), (4423, 0.005040813401423568), (4424, 0.0), (4425, 0.0), (4426, 0.0), (4427, 0.0), (4428, 0.0), (4429, 0.0032295405500584575), (4430, 0.003784343077487173), (4431, 0.0), (4432, 0.0032284502170120584), (4433, 0.0), (4434, 0.0), (4435, 0.008955536608043924), (4436, 0.01648143589035732), (4437, 0.0), (4438, 0.0), (4439, 0.0), (4440, 0.018696909841449512), (4441, 0.0), (4442, 0.00834734966662919), (4443, 0.03285879232021495), (4444, 0.004930571470757283), (4445, 0.0), (4446, 0.003881186919354526), (4447, 0.0), (4448, 0.003971594837903683), (4449, 0.0), (4450, 0.02505709260955675), (4451, 0.0), (4452, 0.03714909650429247), (4453, 0.0), (4454, 0.0), (4455, 0.0), (4456, 0.04320362221834365), (4457, 0.0), (4458, 0.004639890284382242), (4459, 0.005935636850520969), (4460, 0.0), (4461, 0.0), (4462, 0.0), (4463, 0.0), (4464, 0.0), (4465, 0.01930199928385187), (4466, 0.015175712900727653), (4467, 0.006441795860583306), (4468, 0.0), (4469, 0.01551678647039708), (4470, 0.003852355264917461), (4471, 0.0), (4472, 0.0034816043946444596), (4473, 0.0031638341432143314), (4474, 0.009007538228875617), (4475, 0.011842916118220177), (4476, 0.0), (4477, 0.0042995299680719), (4478, 0.0), (4479, 0.0033369498430921144), (4480, 0.0), (4481, 0.008376599402398429), (4482, 0.014557926321273059), (4483, 0.0), (4484, 0.004645967401469229), (4485, 0.0), (4486, 0.006421349913387673), (4487, 0.003605430177878461), (4488, 0.03579625922977825), (4489, 0.0038060816287736506), (4490, 0.004584936264413066), (4491, 0.0), (4492, 0.01877514406719417), (4493, 0.0), (4494, 0.004109441903493621), (4495, 0.0), (4496, 0.0), (4497, 0.0), (4498, 0.0), (4499, 0.0), (4500, 0.0), (4501, 0.0038317395198217245), (4502, 0.011431425859027365), (4503, 0.012291319519988556), (4504, 0.014581419238465641), (4505, 0.0), (4506, 0.0), (4507, 0.004099855162875007), (4508, 0.0), (4509, 0.0), (4510, 0.008996355198741432), (4511, 0.00998762323754879), (4512, 0.009609729942012035), (4513, 0.0), (4514, 0.0), (4515, 0.0), (4516, 0.004083527092740585), (4517, 0.003841269758822218), (4518, 0.0), (4519, 0.0), (4520, 0.003804472134471085), (4521, 0.00450414867203835), (4522, 0.004189267878473847), (4523, 0.0034194811544737214), (4524, 0.007438438945677403), (4525, 0.0), (4526, 0.0), (4527, 0.0), (4528, 0.003953235759516799), (4529, 0.0), (4530, 0.0036289779486171968), (4531, 0.009259587036885467), (4532, 0.0), (4533, 0.029230523931925902), (4534, 0.01750336052727221), (4535, 0.003978434270092595), (4536, 0.0034739934673315635), (4537, 0.0), (4538, 0.0), (4539, 0.0), (4540, 0.003992749482800868), (4541, 0.0), (4542, 0.0), (4543, 0.0), (4544, 0.0), (4545, 0.0), (4546, 0.004776240549971796), (4547, 0.0), (4548, 0.024542361126173695), (4549, 0.0), (4550, 0.0), (4551, 0.013107942205273098), (4552, 0.0), (4553, 0.007738450428322659), (4554, 0.021795242942795785), (4555, 0.005518879612372002), (4556, 0.0), (4557, 0.008990410761738937), (4558, 0.0), (4559, 0.0), (4560, 0.0), (4561, 0.0), (4562, 0.0), (4563, 0.0037661521491421466), (4564, 0.006113804851141691), (4565, 0.0), (4566, 0.003772743830485053), (4567, 0.0), (4568, 0.0), (4569, 0.0), (4570, 0.0), (4571, 0.005882003742798561), (4572, 0.004568686690954214), (4573, 0.003653458578122077), (4574, 0.0), (4575, 0.00411643949943099), (4576, 0.006096398414752718), (4577, 0.0), (4578, 0.0), (4579, 0.0), (4580, 0.0), (4581, 0.008514563293908378), (4582, 0.0), (4583, 0.015255483973874643), (4584, 0.0), (4585, 0.0), (4586, 0.0), (4587, 0.0), (4588, 0.03883952570443174), (4589, 0.004386424041226249), (4590, 0.026791328952516593), (4591, 0.003432995066880604), (4592, 0.0), (4593, 0.004128594326806225), (4594, 0.034756296406311164), (4595, 0.0), (4596, 0.011098521120187646), (4597, 0.0), (4598, 0.0), (4599, 0.0), (4600, 0.0), (4601, 0.00397685680704164), (4602, 0.02872932219520602), (4603, 0.009945493719056097), (4604, 0.0), (4605, 0.007051109522267519), (4606, 0.0), (4607, 0.005498813231345183), (4608, 0.021425934180266972), (4609, 0.0), (4610, 0.015791066388939002), (4611, 0.0), (4612, 0.0), (4613, 0.0), (4614, 0.055678983753371325), (4615, 0.0), (4616, 0.0), (4617, 0.016864060217227868), (4618, 0.0), (4619, 0.01477783521473722), (4620, 0.0), (4621, 0.0), (4622, 0.0), (4623, 0.008564170183650785), (4624, 0.0037754848152119665), (4625, 0.003973996138885627), (4626, 0.0031183287618134605), (4627, 0.013472277406123926), (4628, 0.0), (4629, 0.003783971573394346), (4630, 0.0), (4631, 0.0), (4632, 0.004320170152362868), (4633, 0.0), (4634, 0.0), (4635, 0.0), (4636, 0.003168135452152926), (4637, 0.015172514509621014), (4638, 0.0034582475340230873), (4639, 0.0), (4640, 0.018341610290952437), (4641, 0.030580788304471473), (4642, 0.0), (4643, 0.0038043322042919975), (4644, 0.0), (4645, 0.0), (4646, 0.0), (4647, 0.0), (4648, 0.0), (4649, 0.005931125964393984), (4650, 0.0041066852560385425), (4651, 0.0), (4652, 0.005185902552636079), (4653, 0.0), (4654, 0.0), (4655, 0.0), (4656, 0.00937977120826976), (4657, 0.003935225342481629), (4658, 0.017776540442295024), (4659, 0.0), (4660, 0.004613055347557164), (4661, 0.0), (4662, 0.0), (4663, 0.0), (4664, 0.0), (4665, 0.0), (4666, 0.0), (4667, 0.0), (4668, 0.03079981655618229), (4669, 0.013311556126884626), (4670, 0.0035357886098069955), (4671, 0.0), (4672, 0.0), (4673, 0.01200691152026865), (4674, 0.002964972250098014), (4675, 0.0), (4676, 0.0), (4677, 0.0), (4678, 0.0), (4679, 0.015665322861183682), (4680, 0.0), (4681, 0.0), (4682, 0.04747897666102893), (4683, 0.0), (4684, 0.023891923292248304), (4685, 0.0066679164382384935), (4686, 0.0), (4687, 0.0), (4688, 0.0), (4689, 0.0), (4690, 0.0), (4691, 0.0), (4692, 0.0), (4693, 0.0037417191205570003), (4694, 0.0), (4695, 0.006602009093629013), (4696, 0.0), (4697, 0.0), (4698, 0.0), (4699, 0.004146961940182857), (4700, 0.0), (4701, 0.02202015306430634), (4702, 0.0), (4703, 0.027904516746925002), (4704, 0.004790244319654829), (4705, 0.0), (4706, 0.0040799742139174455), (4707, 0.010143528496181465), (4708, 0.0), (4709, 0.011548024259740285), (4710, 0.004655178580892146), (4711, 0.0), (4712, 0.0032923605521481677), (4713, 0.004197574178030185), (4714, 0.0), (4715, 0.0), (4716, 0.0), (4717, 0.004444553313680141), (4718, 0.003988227205834407), (4719, 0.007066209516664458), (4720, 0.0), (4721, 0.03228236068028538), (4722, 0.013364239509177051), (4723, 0.004475780245039787), (4724, 0.015159557158908005), (4725, 0.0), (4726, 0.005668038943947007), (4727, 0.034723824616887264), (4728, 0.0), (4729, 0.0), (4730, 0.0), (4731, 0.02163811132322333), (4732, 0.0), (4733, 0.0031392280218477116), (4734, 0.003966245279495114), (4735, 0.014517517451784274), (4736, 0.0), (4737, 0.0), (4738, 0.006389246513485358), (4739, 0.03802559723085981), (4740, 0.0), (4741, 0.0), (4742, 0.0), (4743, 0.0), (4744, 0.0), (4745, 0.0), (4746, 0.0), (4747, 0.01000902212430574), (4748, 0.005534679020681809), (4749, 0.0), (4750, 0.0), (4751, 0.0), (4752, 0.002624017327019403), (4753, 0.004372356292934764), (4754, 0.0), (4755, 0.0), (4756, 0.0038108656704572324), (4757, 0.0), (4758, 0.0), (4759, 0.0)]\n"
          ]
        }
      ]
    },
    {
      "cell_type": "code",
      "source": [
        "len(Recommendation_Score)"
      ],
      "metadata": {
        "colab": {
          "base_uri": "https://localhost:8080/"
        },
        "id": "8nwVUScnI-F6",
        "outputId": "80d2d8d5-f699-413d-a582-792b7940cef9"
      },
      "execution_count": null,
      "outputs": [
        {
          "output_type": "execute_result",
          "data": {
            "text/plain": [
              "4760"
            ]
          },
          "metadata": {},
          "execution_count": 48
        }
      ]
    },
    {
      "cell_type": "markdown",
      "source": [
        "Get All Movies Sort BASED Recommendation Score wrt Favourite Movie"
      ],
      "metadata": {
        "id": "Pa_NQdw9JCJt"
      }
    },
    {
      "cell_type": "code",
      "source": [
        "Sorted_Similar_Movies = sorted(Recommendation_Score, key = lambda x:x[1], reverse = True)\n",
        "print(Sorted_Similar_Movies)"
      ],
      "metadata": {
        "colab": {
          "base_uri": "https://localhost:8080/"
        },
        "id": "tx6FdltxJKiS",
        "outputId": "5ae2d62b-da9c-401f-d29d-a4037f823748"
      },
      "execution_count": null,
      "outputs": [
        {
          "output_type": "stream",
          "name": "stdout",
          "text": [
            "[(2692, 1.0), (3779, 0.09541442708476246), (4375, 0.08811373585254995), (110, 0.08209379514905785), (1383, 0.08187851491634932), (1994, 0.08104978188369505), (628, 0.07908791546028547), (2558, 0.07886770559980592), (1341, 0.07680860572145522), (3053, 0.07606439212124107), (1977, 0.0750851089148789), (3248, 0.07309016433379595), (1886, 0.06763079297286732), (2538, 0.06721483866343898), (3480, 0.06653196457770548), (62, 0.06478196756609386), (1118, 0.062233830131116316), (254, 0.061943435050753726), (2903, 0.06132726547329475), (3450, 0.05986105681769641), (1021, 0.05960286200687369), (2112, 0.05923474643280513), (2318, 0.058360022007445535), (4062, 0.05821589115522707), (1134, 0.05611792693976014), (2026, 0.05596889427205487), (4614, 0.055678983753371325), (3385, 0.054667277036053265), (3655, 0.05453823673836775), (4398, 0.054489659904346344), (3728, 0.05421293743435012), (2358, 0.05415079031194871), (4389, 0.054045385053373224), (2985, 0.05363541019897365), (3946, 0.05331891512243263), (873, 0.05163869108306247), (3334, 0.051368610941424205), (4268, 0.05111087350005724), (1243, 0.051092941006492226), (2214, 0.05013380204458546), (2294, 0.04930340177355187), (1809, 0.049058357261160306), (227, 0.04868840592791839), (1878, 0.04859689516626076), (137, 0.04843632355909984), (213, 0.04819962256711177), (2550, 0.04813354802577181), (1023, 0.04790142824656811), (2579, 0.047798278357967246), (3203, 0.047706849167075085), (2944, 0.04755470181525129), (4682, 0.04747897666102893), (1821, 0.04746071084160482), (3395, 0.047453604833711166), (45, 0.04716128465128405), (3552, 0.04695791194323787), (292, 0.04685137165409145), (2191, 0.046543845730377065), (1070, 0.04652058148263319), (3294, 0.046353041953860113), (2133, 0.046300445004110145), (2653, 0.04619208249696517), (3753, 0.04607820466378583), (408, 0.046034271807239575), (519, 0.046022597674199014), (3518, 0.04593342607421794), (877, 0.04587950998505488), (1030, 0.045878792655801255), (3973, 0.04585933952525534), (3374, 0.04581581459898833), (2893, 0.045320516795776915), (3091, 0.04519910456862991), (2417, 0.04466857979525236), (2530, 0.04456508582776898), (3408, 0.04438683846412696), (455, 0.04438228742927689), (328, 0.04421742181831983), (3023, 0.04412574399666124), (2630, 0.04369108457601298), (479, 0.04367980266893538), (3276, 0.04365215082635967), (2694, 0.043248376038131746), (4456, 0.04320362221834365), (2374, 0.04306627626670142), (161, 0.042929768436323026), (615, 0.042736844470757006), (3974, 0.04270140531219035), (904, 0.042469759013061936), (4023, 0.042270967138359664), (1647, 0.042066032016031915), (1358, 0.04196566547545218), (1320, 0.04191876057699365), (172, 0.04188535271328498), (412, 0.041818865931412555), (67, 0.04166687000845678), (3249, 0.04158887493925508), (1248, 0.041541501602454275), (3427, 0.041485377486686466), (1506, 0.041288546285197146), (1871, 0.0410703124153062), (1850, 0.04077381931522035), (637, 0.040727883929708344), (2859, 0.04071832267420781), (4064, 0.04042807352219838), (3209, 0.04030781400666096), (2375, 0.04002018261314091), (2248, 0.03966034505246549), (3867, 0.03954193124247243), (1203, 0.03950114055226159), (682, 0.039315531791353095), (3955, 0.039220001604731415), (185, 0.039216009978332134), (438, 0.0389774618746654), (4588, 0.03883952570443174), (210, 0.038835307811704176), (1241, 0.03879761770553323), (830, 0.038791418815915774), (4137, 0.03868768809069921), (1675, 0.03854853668906548), (2212, 0.038435764887576974), (3793, 0.03839524972852458), (1292, 0.038319825871959985), (2869, 0.038268080586206704), (1302, 0.03822559698786929), (3947, 0.03814771551629624), (4739, 0.03802559723085981), (1085, 0.03790321526780257), (2321, 0.03784036158021849), (3511, 0.03778260292932059), (89, 0.03771033901199241), (1311, 0.037602207830053296), (1369, 0.0374751888538838), (387, 0.03727734418392749), (2122, 0.037187489366921046), (4452, 0.03714909650429247), (1527, 0.03712073593151801), (2316, 0.03697131960645696), (108, 0.03693421023607434), (788, 0.03676865105608616), (4396, 0.03674045683568647), (3652, 0.03661502879013391), (3362, 0.03656379807342587), (774, 0.036335641581060826), (710, 0.03603538208174131), (4488, 0.03579625922977825), (44, 0.03573049492522871), (2371, 0.03571713082175912), (1676, 0.03566012639898141), (3983, 0.035620396111804446), (3004, 0.035522273918275636), (2012, 0.03549183118537767), (2716, 0.035306696809484034), (1024, 0.035169054945468674), (818, 0.035066811038408086), (721, 0.03501178133037393), (1702, 0.03490238643316168), (3731, 0.03483476994477744), (4594, 0.034756296406311164), (4727, 0.034723824616887264), (2540, 0.03467066590670488), (2082, 0.03460497958524329), (3351, 0.034532914296175256), (3463, 0.03425297841719467), (174, 0.03421527355090221), (2123, 0.034192242741722806), (2908, 0.034083866860143905), (3102, 0.034036481561862744), (3315, 0.03400096362810727), (4152, 0.0338829549282812), (2365, 0.03380292501279158), (2868, 0.03379940484637837), (578, 0.033669693222875954), (109, 0.03348055292414477), (1885, 0.033398986192737956), (632, 0.03335159423879432), (1379, 0.033350704441473075), (3255, 0.0332865583329632), (3486, 0.03321656378306261), (2622, 0.03319181837803806), (4378, 0.033178907539380076), (1389, 0.033118151355855704), (1195, 0.033088812641313685), (4403, 0.03304938084769808), (1982, 0.03292454426222942), (4443, 0.03285879232021495), (3430, 0.03264601446539813), (2706, 0.03260799484399235), (1393, 0.03259324317088401), (4165, 0.03255552797470278), (2014, 0.032534177091219016), (65, 0.03233415871984966), (2981, 0.03231220693217128), (4721, 0.03228236068028538), (3146, 0.03225833676044364), (1750, 0.03218139645947393), (4005, 0.03203325074196836), (166, 0.03203227056032631), (126, 0.032003633656604545), (4195, 0.03193776864200373), (3498, 0.031929537795324224), (2782, 0.0318618918871606), (1837, 0.03166046343528692), (694, 0.03165755315051906), (812, 0.03163889720189795), (903, 0.03153347381985147), (3572, 0.03146698480778457), (179, 0.03124126776865904), (2517, 0.031193672725042698), (3280, 0.031080213266267948), (2807, 0.031071221316482912), (1464, 0.030930315558081383), (618, 0.03085426250699601), (4668, 0.03079981655618229), (4641, 0.030580788304471473), (935, 0.030560446490434483), (4141, 0.03054739200653181), (1063, 0.030523833264446396), (1648, 0.03034478148355782), (430, 0.03032000014956309), (1398, 0.030310499233296817), (1367, 0.030297747564554486), (4035, 0.03025662896401951), (2198, 0.0302536388379624), (540, 0.030187237937771505), (2100, 0.03014101132067785), (3656, 0.030065348046109185), (1868, 0.030016278869241325), (2887, 0.029847357523618456), (1146, 0.029755917994567675), (2710, 0.029639849206435802), (4533, 0.029230523931925902), (2102, 0.029225683626530344), (2876, 0.02919105087808881), (1568, 0.029182607492450115), (3556, 0.02917697446314265), (2114, 0.029155116476982254), (1272, 0.029135447368191732), (3470, 0.02912272987338697), (1795, 0.02912227050103725), (193, 0.029120486299854857), (3904, 0.028998948247782066), (4177, 0.02883847349448198), (2687, 0.02878559812489875), (3376, 0.02876654256878427), (4602, 0.02872932219520602), (836, 0.02872838935772423), (1068, 0.02872790096712046), (2751, 0.028691186373112798), (3420, 0.028648105028671766), (3017, 0.028567663373514074), (1482, 0.028535116639671457), (465, 0.028506746426772415), (761, 0.02834450511325627), (1095, 0.028329563975273205), (3127, 0.02823485515972648), (1046, 0.02798234431384946), (25, 0.02795574651151725), (1405, 0.027932072883434474), (911, 0.027926835660257002), (421, 0.02792423346504972), (4703, 0.027904516746925002), (3377, 0.027901042418678364), (2920, 0.02775927300631198), (3574, 0.027699807806108905), (1763, 0.027597106738801752), (2467, 0.02747374696198664), (3157, 0.027415647803403408), (384, 0.027413574266396616), (4402, 0.027325153978960473), (3871, 0.0272328461800317), (2723, 0.027224031141520735), (282, 0.02705241707540856), (176, 0.026924917912844442), (3447, 0.026831931925394025), (3850, 0.026802523674689292), (4590, 0.026791328952516593), (112, 0.026769051436400307), (2020, 0.026718194750151296), (381, 0.02671629827347914), (2443, 0.026665878175239403), (2037, 0.026583779289066876), (1720, 0.02653007622929447), (2413, 0.026461253584862857), (3428, 0.026457559722711157), (593, 0.026338958401942617), (4242, 0.026336016552327268), (3751, 0.02625396910803087), (3868, 0.02624329460504703), (1186, 0.026237115455109553), (424, 0.026219873668844308), (2777, 0.02621822422558489), (3835, 0.026205325260459558), (629, 0.026160603215412553), (1043, 0.026147392865344888), (459, 0.02605825350929855), (1999, 0.026047370479153228), (1976, 0.02599464485480068), (3313, 0.025973811472671825), (2023, 0.025928304257859504), (3720, 0.025895933603122385), (530, 0.02587513305158177), (3559, 0.02579798872700424), (2481, 0.025679573405677975), (250, 0.025668157544839393), (3961, 0.025515621214359747), (84, 0.02545940188641856), (2221, 0.02539022231756189), (1544, 0.025370322219701202), (3913, 0.02532751446140607), (2762, 0.025230836459260008), (3154, 0.025205244026810892), (824, 0.025177489762818354), (1059, 0.025136773016496188), (864, 0.025064016907346796), (4450, 0.02505709260955675), (1572, 0.025020933049859334), (2157, 0.024980420246030387), (3260, 0.0249663211934532), (269, 0.0249400365289921), (2011, 0.024901476218429433), (1283, 0.024795055679917462), (657, 0.024785636796472256), (3045, 0.024783483049857155), (976, 0.024735809584401174), (2484, 0.024705597131000553), (515, 0.02470323125296993), (2560, 0.024695845485897816), (1707, 0.024558370974199505), (672, 0.02454735165505795), (4548, 0.024542361126173695), (4128, 0.024513129946448668), (3488, 0.024473817184002905), (1990, 0.024339703995622356), (2791, 0.02431329699836746), (2449, 0.024287187894056393), (952, 0.024250640549128608), (2487, 0.024186894061863487), (240, 0.024111841635512384), (2013, 0.024064695168659327), (1585, 0.02396040049968245), (29, 0.023949075765741457), (2276, 0.023940282176632605), (284, 0.023920539365347486), (4684, 0.023891923292248304), (3156, 0.023885074525968258), (1845, 0.02375967029541489), (3344, 0.02374448063616816), (1788, 0.023739087820768147), (398, 0.023737679212404376), (1500, 0.02361035385763192), (3167, 0.023606818266640944), (4004, 0.023573901631657113), (1757, 0.02352933313112343), (371, 0.023453463400251357), (2649, 0.023438378650702574), (1970, 0.023343770448501302), (3852, 0.023303159446539455), (1749, 0.023245802594594113), (613, 0.023197135786222893), (885, 0.023145895414279284), (2718, 0.02313056792096955), (4104, 0.02304449378692515), (3839, 0.023031381993506295), (3285, 0.023027938082996365), (138, 0.022997894428538855), (15, 0.022919790203472488), (124, 0.02285694375758577), (3010, 0.022825416354410728), (1935, 0.022761266290567326), (2055, 0.022677055309184836), (3801, 0.022535919204366463), (1314, 0.022523658105494983), (3083, 0.022517454367278544), (1351, 0.022483898707326505), (3319, 0.022478463789363277), (670, 0.022463155481425544), (3466, 0.02244601835123825), (3778, 0.022415134678994475), (942, 0.022313885821724035), (4701, 0.02202015306430634), (3959, 0.02191744157155259), (832, 0.021878960556326637), (4554, 0.021795242942795785), (68, 0.021760558095648593), (917, 0.02174323275789981), (4016, 0.021739597418594322), (1397, 0.02170815549736824), (4731, 0.02163811132322333), (3345, 0.021634720590781382), (2971, 0.02158098734718273), (3711, 0.0215754974873905), (3923, 0.021572490699863302), (4283, 0.021502999993768958), (1505, 0.02145549878450226), (4608, 0.021425934180266972), (2362, 0.02141853829849306), (3492, 0.021409423094993746), (2638, 0.021405294138372583), (3927, 0.02134478033601313), (2767, 0.02132519131005778), (1652, 0.021307932036128727), (334, 0.021305966203521355), (383, 0.021302127573654905), (566, 0.021292204132449272), (2621, 0.02123238503696639), (1515, 0.021176552296059633), (2646, 0.021126096033238517), (1492, 0.02108339022889841), (1261, 0.02096646798973644), (2995, 0.020957711309328744), (1671, 0.020870304274224982), (175, 0.020865640821739678), (3352, 0.02074137613266391), (2301, 0.020706250619500776), (2210, 0.0206576913633601), (4382, 0.020612779594978207), (706, 0.020608389956072188), (1861, 0.020550485675275763), (116, 0.020397452420443933), (4007, 0.020373290243526455), (967, 0.02037191985355593), (3222, 0.02033747797207424), (330, 0.02033394175991501), (1052, 0.02007133538415692), (858, 0.020053016038933273), (1412, 0.020047741307830505), (2040, 0.02001281661576836), (763, 0.019994856274368557), (3692, 0.019974187011407997), (2094, 0.01996948040063179), (590, 0.019956558772096296), (691, 0.01995565080839107), (1141, 0.019953064109996154), (2018, 0.019914987102889137), (1132, 0.01988409392488405), (4156, 0.01981733713829306), (2469, 0.019782454828335405), (1865, 0.01969459978372058), (795, 0.01957097996915857), (1173, 0.019521375472683414), (3469, 0.019452968444431683), (1137, 0.019388976892491284), (4465, 0.01930199928385187), (2867, 0.01924123909555481), (2582, 0.019229001969788256), (33, 0.01918272746417802), (3111, 0.019132651796719188), (3934, 0.01909951698141397), (3483, 0.019076427808393977), (1942, 0.019022056208838914), (2237, 0.0189819687746182), (4395, 0.01897073877446289), (3553, 0.018965499178644853), (3036, 0.01893883504369045), (3144, 0.018937049925106426), (3810, 0.01893056241984409), (3153, 0.0188988075426997), (2689, 0.01888942293730085), (204, 0.018856721964659217), (364, 0.018846173847216346), (1629, 0.01879006599002077), (1175, 0.01878526211228984), (4492, 0.01877514406719417), (4440, 0.018696909841449512), (4149, 0.01864250375915715), (2647, 0.018618281252054378), (1985, 0.018604937840365814), (3875, 0.018559940692356447), (1471, 0.018520200277490934), (3403, 0.01847118447364652), (2035, 0.018445692971866608), (1847, 0.018439506849023807), (123, 0.018431432744726035), (3446, 0.018428853940737473), (796, 0.018356151708587364), (4640, 0.018341610290952437), (1365, 0.018325420185263536), (2745, 0.01832284667163195), (4189, 0.018320659832983303), (4053, 0.018291084673474133), (553, 0.01826880878895379), (2760, 0.0182272713929006), (442, 0.018209154431781695), (2841, 0.018206330983040604), (2808, 0.018134866696401464), (1245, 0.01807151996782843), (2368, 0.018067335844833072), (1385, 0.018010254261273957), (870, 0.01800841372279601), (1386, 0.017987433564511303), (768, 0.01797528839770504), (61, 0.01792568994056482), (85, 0.017917021934613607), (4012, 0.017866214885369835), (3504, 0.01785304717674261), (2513, 0.017826761059242385), (1033, 0.017817030067276318), (2553, 0.01780416470839458), (643, 0.01778821075887417), (4658, 0.017776540442295024), (3433, 0.01776301151147115), (4028, 0.017752081967611005), (3665, 0.017709845000315222), (3471, 0.017698475042435668), (4380, 0.0176663214025802), (1403, 0.017593040914898137), (4321, 0.017575031427143395), (2149, 0.017568327311511266), (2712, 0.017564803644301966), (4534, 0.01750336052727221), (2167, 0.017499781143066665), (2598, 0.017492484768596814), (4281, 0.01746333046731907), (669, 0.01745011269047045), (2823, 0.017441891893033), (2885, 0.017384117810203884), (261, 0.017362613583821032), (145, 0.017355110261749716), (1274, 0.017281643863786993), (947, 0.017266955383500957), (4176, 0.017155356794700843), (551, 0.017146955932315223), (2347, 0.017142680790838943), (2768, 0.01712761454141404), (794, 0.017119883575707293), (4088, 0.01710558788718401), (199, 0.017079832853740227), (757, 0.01707938143601082), (345, 0.01703811333083883), (3978, 0.01699527580902086), (181, 0.01697474583015195), (638, 0.016938627814300652), (1579, 0.016924063316144752), (4050, 0.016878030602935367), (4617, 0.016864060217227868), (2207, 0.016827640875321126), (3119, 0.016811555003231192), (2932, 0.016768486402229048), (4288, 0.01676355814483987), (2607, 0.016721494592718697), (1996, 0.016721392365030747), (776, 0.016670616643633302), (218, 0.016660647418453016), (3528, 0.016597036406647378), (2931, 0.01656627986104367), (409, 0.01652010187963629), (4246, 0.016495543240495028), (3541, 0.016489984715979396), (4436, 0.01648143589035732), (1270, 0.01648112551415484), (1817, 0.016480302851143058), (106, 0.016477470273275292), (929, 0.01644950808331372), (1216, 0.0163993064936296), (3895, 0.016351953277901676), (3976, 0.016350025237052965), (147, 0.016325758749419217), (2027, 0.016287061521993412), (2654, 0.016282926022041764), (251, 0.01626619098205543), (3857, 0.016248323237398957), (677, 0.016241092575097447), (1609, 0.016214673682539562), (867, 0.016191323359308184), (1257, 0.016186024713798337), (2161, 0.01614544995786126), (2258, 0.01607387729974961), (343, 0.01605380978714243), (1116, 0.016045170368722626), (374, 0.016042452569852456), (3098, 0.01601427905860066), (3558, 0.015982911522003727), (2645, 0.01596482047379381), (1510, 0.01596418889651728), (437, 0.015962425886881317), (1377, 0.015954415185962464), (547, 0.015929622636877673), (358, 0.015924823933122955), (2070, 0.01592367185226146), (3095, 0.015877211593404758), (3306, 0.015856823746545238), (1838, 0.015826188369217294), (1202, 0.01579138259584826), (4610, 0.015791066388939002), (142, 0.015734085734597482), (209, 0.01573121193499763), (779, 0.01566623550901749), (4679, 0.015665322861183682), (787, 0.01564108226168861), (4469, 0.01551678647039708), (1445, 0.015476791975004931), (2353, 0.015467606207229598), (3828, 0.015409367984276105), (3684, 0.015389131451115822), (2650, 0.015375296141442715), (3226, 0.015353729789829186), (1682, 0.01535082857914903), (3766, 0.015349222113519087), (1872, 0.015344997831467746), (83, 0.015287013558639007), (1523, 0.015269708213938934), (4583, 0.015255483973874643), (934, 0.01524362814016585), (3284, 0.01522517468170052), (1045, 0.015206282164182006), (1003, 0.01519294291788736), (2795, 0.01517929730802103), (4466, 0.015175712900727653), (4637, 0.015172514509621014), (4724, 0.015159557158908005), (968, 0.015091327926454384), (586, 0.015087099218348115), (3275, 0.015086391356049694), (2376, 0.015068077669235257), (1945, 0.015047817823096965), (3000, 0.0150069151879173), (3462, 0.01497562680788087), (2501, 0.014957444085021403), (3597, 0.014955531321143264), (1361, 0.014947343842822045), (2290, 0.014938290440139881), (252, 0.014908760032829267), (957, 0.014898342458960608), (1074, 0.014876425402591053), (4349, 0.014851091922658823), (510, 0.014850303685707774), (3675, 0.014837620819847309), (1064, 0.014802730179198122), (4619, 0.01477783521473722), (1128, 0.01476078165813541), (1512, 0.014739993676372408), (3958, 0.014725896483254895), (1417, 0.014711165916162915), (1053, 0.014708935766000252), (1927, 0.014705012880810504), (1741, 0.01468020252699911), (4081, 0.014677772994918877), (1906, 0.014629871504682843), (3253, 0.01459630416684925), (844, 0.01459554133032101), (3580, 0.014594608641494507), (4504, 0.014581419238465641), (2440, 0.014575066409552941), (2639, 0.014566589571778896), (4482, 0.014557926321273059), (3360, 0.0145519491272057), (3375, 0.01454969137776107), (3019, 0.01452890934649169), (1112, 0.014526657081517786), (4735, 0.014517517451784274), (4314, 0.014511935441484002), (684, 0.014498624898780451), (2298, 0.01446638669238999), (2618, 0.014460925654139239), (222, 0.014460543878677342), (1880, 0.014426982890202486), (2229, 0.014413487205227013), (1843, 0.0143840198955387), (1278, 0.01436654447833574), (808, 0.014311401011634303), (2644, 0.014294485913091445), (937, 0.014268695141210798), (1774, 0.014260323328688585), (144, 0.014247352481577408), (2406, 0.014235447404618224), (287, 0.014222598904084116), (3883, 0.014219433174285366), (2736, 0.014198206071918155), (3295, 0.014198008712372197), (1759, 0.014195965042877448), (496, 0.014186847402883415), (3328, 0.014186250864493969), (4399, 0.01415767074570233), (203, 0.014138814158386434), (833, 0.014104062276391962), (4293, 0.01409711876087381), (1895, 0.014091711567835207), (860, 0.014081007471786994), (2742, 0.014021639431585754), (7, 0.013945546108617833), (2119, 0.013941792663431242), (2346, 0.013939102404719282), (1152, 0.013918725736750133), (1275, 0.013917357136974291), (2110, 0.013911401537110976), (3853, 0.013907538441840384), (1162, 0.013900076074019036), (4048, 0.013897488424099304), (2969, 0.01387939829402476), (1331, 0.013877698558534607), (916, 0.01387064731905876), (3861, 0.013851544476706256), (46, 0.013810960778408994), (212, 0.01380536300832777), (2874, 0.013793989989775143), (3630, 0.013758492457910554), (3356, 0.013738031787050927), (3984, 0.013709264507047993), (1184, 0.013702703597311513), (279, 0.013701500080092969), (2849, 0.01369257018261369), (874, 0.013691314958534425), (701, 0.013688046805526445), (3043, 0.013680479502839241), (43, 0.013622476284794804), (3694, 0.013617133533190374), (21, 0.013612612996216767), (160, 0.013600960475468436), (1716, 0.013585603124528273), (458, 0.013582782012839426), (533, 0.01357545016279898), (3992, 0.013563367547042397), (3924, 0.013515692307009969), (4627, 0.013472277406123926), (48, 0.013458339348436966), (2568, 0.013439729733826598), (2366, 0.01342946405425692), (433, 0.013427035641061427), (1384, 0.013416051879445778), (1997, 0.013396081920565246), (1119, 0.013367415160751867), (4722, 0.013364239509177051), (4669, 0.013311556126884626), (2000, 0.013301820788978564), (450, 0.013290610874660203), (231, 0.01320473479766071), (1401, 0.013179783287049412), (3279, 0.013179069488715195), (609, 0.01317004839998901), (2097, 0.013161035856884638), (1443, 0.01315029897089414), (896, 0.013150127656038381), (3750, 0.013137865711591954), (2996, 0.01312223311139734), (75, 0.013118475923821588), (4551, 0.013107942205273098), (4231, 0.013102562908158968), (2522, 0.013101227931139546), (3086, 0.0130977422526784), (407, 0.013080780922207623), (2474, 0.013075135783641525), (584, 0.01305826248515756), (1254, 0.013058172701816018), (429, 0.013039669141910421), (2053, 0.013028343110459327), (1224, 0.013019816367152798), (2254, 0.013011531429864952), (13, 0.012981607796940853), (1853, 0.012969065447162609), (2460, 0.012959797587908741), (1018, 0.012958791574654106), (534, 0.01295794174725606), (545, 0.012949507934620097), (2917, 0.012948008018007143), (2805, 0.012943835601702983), (814, 0.012935950670292814), (86, 0.012917051406030012), (3862, 0.012907247022431881), (3777, 0.01286269051700398), (4379, 0.012840581037216107), (2177, 0.012835815695234145), (3437, 0.012834594220913556), (692, 0.012826576135532224), (3421, 0.012824119048342117), (2016, 0.01281017398804047), (1239, 0.01278792310478458), (3612, 0.012787579035676429), (1129, 0.012764056218468123), (3210, 0.012760800669019473), (2334, 0.012745994212834334), (3129, 0.012737756123934633), (906, 0.01273539899790679), (986, 0.01272327314942292), (879, 0.012721303240805698), (120, 0.012690587525255394), (1802, 0.012686956190896295), (543, 0.012673655872750754), (622, 0.012650186915840923), (2919, 0.012613678112680007), (296, 0.012586323746983765), (452, 0.012575439005802259), (3297, 0.012556257021143912), (502, 0.012539991183467557), (3299, 0.012496919418390231), (1721, 0.012492740228935475), (270, 0.012485215161960633), (1919, 0.01248067286336322), (3213, 0.01247545304150736), (1232, 0.012464695221055573), (806, 0.012450752543173607), (2284, 0.012445716715085781), (2489, 0.012445612464379311), (3508, 0.012443792344645965), (2695, 0.012436942508197577), (51, 0.012435184051398027), (4068, 0.01241636848069216), (2295, 0.012392500098745115), (1252, 0.01237622613194164), (5, 0.012337680813331624), (2934, 0.012335346827473205), (3142, 0.012330770797576279), (2154, 0.012328176391211795), (1342, 0.012321433738151625), (4503, 0.012291319519988556), (2784, 0.012280275946464466), (1621, 0.012274248397744296), (3949, 0.012270741482407147), (1317, 0.012268427404743853), (1988, 0.012254865099522432), (2961, 0.012233000419601424), (329, 0.012220772735766891), (1752, 0.012218003448374268), (2052, 0.012206063156334693), (1654, 0.012204176023761885), (1293, 0.012199075571259162), (1334, 0.012197264623174945), (1655, 0.012193588882053966), (1337, 0.012183905729524791), (370, 0.01217567912628795), (1493, 0.01217391412110844), (1376, 0.01216732188924121), (620, 0.012153471376273726), (88, 0.012131853487417575), (2216, 0.012092839738577797), (1160, 0.012080497230702236), (2250, 0.012079140307020866), (1714, 0.012065203296173721), (2279, 0.012056197384165192), (4387, 0.012044173702734386), (4673, 0.01200691152026865), (1035, 0.011971865073984306), (799, 0.01195663429809342), (2512, 0.011953460962486097), (3228, 0.01193188325843279), (989, 0.011928020595345597), (2024, 0.011887467079839582), (3293, 0.011887173399758538), (988, 0.01188013565404553), (676, 0.011866526504497682), (1787, 0.011843715705731346), (4475, 0.011842916118220177), (2275, 0.011835346312660413), (4032, 0.011818503412640992), (2886, 0.011781174760384542), (1967, 0.011780989504355101), (3094, 0.01177951683944493), (1360, 0.011777924917558122), (3171, 0.011774446413726958), (895, 0.011745182969969419), (648, 0.011738968460175518), (2145, 0.011728475252257646), (878, 0.011691516419818016), (2910, 0.011688493672948682), (899, 0.011684058358544374), (1157, 0.011674993011747637), (1665, 0.011654236454616704), (3370, 0.01164463542827671), (87, 0.011638937722541279), (2769, 0.011632651607308891), (236, 0.01161680640619965), (3524, 0.011612638783103082), (2005, 0.011611272109643205), (4192, 0.011581753096181206), (1183, 0.011579385008739094), (130, 0.011575357419691639), (1114, 0.01156398853101068), (4374, 0.011549235619170376), (4709, 0.011548024259740285), (866, 0.011542857048352548), (511, 0.011529885935124124), (52, 0.011508573716037331), (2224, 0.011485380709991045), (276, 0.01148245346461057), (853, 0.011480977398973375), (434, 0.011469715854709546), (1310, 0.011450488597029462), (4502, 0.011431425859027365), (3903, 0.01139747361847921), (1658, 0.01139653001710761), (2740, 0.011349098268809452), (3854, 0.011309175731103788), (2051, 0.011306715976696285), (1870, 0.011304659275926951), (2915, 0.011290337578621608), (1595, 0.011282481504274886), (317, 0.011246374087843397), (2116, 0.011226991883971292), (2049, 0.011210888460632746), (1249, 0.01120821619958074), (4203, 0.011198481542283548), (1090, 0.011162195603618207), (1739, 0.011138313213077504), (2436, 0.011129470755082579), (762, 0.011119102495657904), (847, 0.011105742008316034), (1237, 0.011099248939308018), (4596, 0.011098521120187646), (1000, 0.011097775588925735), (1465, 0.011036006367865763), (2363, 0.011032373472269265), (3797, 0.010996421668818302), (149, 0.010975120996976798), (3637, 0.010951465386868397), (208, 0.010898415437641175), (0, 0.010889021910015177), (1798, 0.010885264257528886), (2688, 0.01087237685427148), (4122, 0.010833854427343683), (1387, 0.010831201526323934), (653, 0.010824771344727747), (2065, 0.01081072641180699), (3822, 0.010789649842885874), (1290, 0.010785996929659428), (1951, 0.010764797673342565), (2096, 0.010750825764401), (342, 0.010742614144867175), (2633, 0.01073560071559354), (733, 0.010735268384966124), (1685, 0.0107196642552479), (3919, 0.010714545664527219), (3999, 0.010711859031250132), (1050, 0.010708729323580251), (816, 0.010704622117053687), (4371, 0.010696961524085004), (1957, 0.010692938448807998), (57, 0.0106872887736284), (1897, 0.010651329122438689), (2988, 0.010647932161549281), (948, 0.010626688669015954), (3218, 0.010613011821789012), (538, 0.010612106467295827), (2602, 0.010610335095148592), (1015, 0.010572440412644045), (3667, 0.01057073996147868), (1619, 0.010567770617907847), (1382, 0.010567362776443705), (2412, 0.010553025630438312), (470, 0.010551249109815034), (555, 0.010529304674104385), (472, 0.010491444005497693), (1779, 0.010483701805014036), (3689, 0.010473107425403236), (1971, 0.010463314788536767), (2601, 0.010462499770903013), (1006, 0.01045969196815737), (3386, 0.01045712968341083), (2581, 0.010455965493421282), (842, 0.010448295609165442), (3756, 0.010447889530210587), (2447, 0.010438828858404293), (2494, 0.010436457308383516), (2939, 0.01042893067861039), (760, 0.010408942337480437), (2798, 0.010406572005950899), (1058, 0.010389291264576304), (2155, 0.010341927702184176), (482, 0.010329866430344451), (4095, 0.010328867039805376), (2468, 0.010322948802324376), (3535, 0.01031797468373547), (2144, 0.010310662161570536), (4025, 0.010291781743377658), (2668, 0.010280236226866624), (3945, 0.010259287688442342), (2744, 0.01025665739717368), (1192, 0.010240315392747683), (3708, 0.010240257749664937), (2524, 0.01023856512820224), (4255, 0.010235926079809733), (1475, 0.010226896085785725), (2486, 0.010213322612173049), (1075, 0.010185875288048613), (1182, 0.01017762393307399), (2977, 0.010174878722057672), (1876, 0.010174303432816677), (897, 0.010171039559036605), (4707, 0.010143528496181465), (464, 0.010138921130827967), (3643, 0.010130203961034041), (1343, 0.010127180479176802), (527, 0.010120163377109094), (173, 0.010118763996862226), (353, 0.010115164878597482), (2277, 0.010111090919621108), (4336, 0.010110826265744227), (1413, 0.010090901769844077), (3067, 0.010090300417962324), (1418, 0.01008725800246075), (82, 0.010086354663245424), (2831, 0.010086193419337391), (368, 0.010083441791469597), (3741, 0.010078348598035842), (406, 0.010076643755326742), (3645, 0.010072520999261885), (850, 0.01006468570616439), (2727, 0.010061140405501514), (1077, 0.010055506549069993), (280, 0.010050162859239155), (1020, 0.010047360751161452), (1815, 0.01004323541475176), (3317, 0.010037496127493169), (2980, 0.010035876447889485), (104, 0.010024974917630582), (4747, 0.01000902212430574), (19, 0.010003239686462797), (3237, 0.01000209741280471), (2045, 0.00999874221592162), (2632, 0.009995058842122855), (4511, 0.00998762323754879), (697, 0.009987291661638417), (4603, 0.009945493719056097), (1678, 0.00994053253573083), (689, 0.009932510693585087), (775, 0.00993246143456355), (2464, 0.009928270648863665), (461, 0.009893184156920492), (2174, 0.009891767429073694), (1710, 0.009886382630426332), (2087, 0.00986764489511523), (3312, 0.009860098180875524), (3346, 0.00984558028465763), (3784, 0.009827674234752313), (2925, 0.009820459672955282), (2103, 0.009814317618600661), (79, 0.009814031995448868), (1019, 0.009799888819444777), (838, 0.009780418046010214), (1148, 0.009780396694193947), (2008, 0.009777831997191146), (1017, 0.009763433290670998), (2121, 0.009749590974516421), (2698, 0.009743518520310222), (119, 0.009719997504762662), (753, 0.009710664142885333), (207, 0.009710248447895135), (3151, 0.009698896060556454), (3407, 0.009698396402462887), (1591, 0.009694982134579585), (4121, 0.00968824427435544), (651, 0.009677332786789438), (3826, 0.009667122519379574), (905, 0.0096462874577004), (1371, 0.009645056712775437), (1674, 0.009635522764668865), (966, 0.009625438338149437), (3240, 0.00962050120451241), (962, 0.009618798499790011), (1446, 0.009614064636948682), (4512, 0.009609729942012035), (197, 0.009596604574338257), (4335, 0.009596121663612858), (281, 0.009581144789442454), (1864, 0.009560714942090702), (1514, 0.009534942466919643), (2473, 0.00952671157812414), (2383, 0.009524623711031056), (3399, 0.009513653237733755), (1519, 0.00950992774370692), (4205, 0.009499714442789763), (1255, 0.009497358700171118), (224, 0.009472541626732691), (3453, 0.009464785801445193), (1206, 0.009464149689437748), (356, 0.009461327802811217), (900, 0.009453514227246263), (2143, 0.009443856403699658), (734, 0.009442714438358887), (4257, 0.0094412811435636), (963, 0.009440958145606332), (4118, 0.009437619058779288), (683, 0.009429419726982406), (1858, 0.009427628267740157), (3954, 0.009421934348038294), (385, 0.009421316255626975), (2812, 0.00941723248768607), (1730, 0.00941186285339356), (332, 0.009408892157145651), (1806, 0.009403578236501555), (3829, 0.009394813866347999), (3373, 0.009394101767994567), (1220, 0.009387645143698766), (4656, 0.00937977120826976), (3110, 0.009377625644989387), (742, 0.009372900181460038), (162, 0.00935070982781112), (3389, 0.009318377482235919), (675, 0.009311865577955101), (1754, 0.00930910820269045), (1009, 0.00930433256185304), (4227, 0.00930396845087482), (183, 0.009286408175913028), (1308, 0.00928557421447417), (2739, 0.009285468762999566), (2196, 0.00926487165418516), (485, 0.009263578942986773), (4531, 0.009259587036885467), (2235, 0.009259037060737873), (32, 0.009253292391895537), (3659, 0.009251006460957495), (4233, 0.009227642272862085), (307, 0.009222212213110996), (1705, 0.009218875744124035), (3586, 0.009197019991691001), (2265, 0.009196684588156586), (1477, 0.009188570983740874), (463, 0.009185907254674488), (667, 0.009172036428797777), (1874, 0.00915689265854868), (2546, 0.009152615926432737), (180, 0.00914924216690773), (2978, 0.00914569099738326), (1727, 0.00913743581317108), (3767, 0.00912619280871182), (428, 0.009118589838735359), (3642, 0.009113490803985925), (1875, 0.009112683022245983), (1949, 0.009109256925732286), (1690, 0.0090963182418173), (1735, 0.009088290377328364), (3192, 0.009086755045655861), (1920, 0.009082613886375109), (4134, 0.009050392180114436), (2803, 0.00904984103661561), (418, 0.009048783103083892), (1339, 0.009045241215712948), (3259, 0.009044190648871745), (3880, 0.0090437803648648), (1539, 0.009030478370976366), (908, 0.00901686099513448), (1736, 0.009011954766128745), (3018, 0.009010056705839355), (4474, 0.009007538228875617), (3245, 0.008997943556482925), (4510, 0.008996355198741432), (1764, 0.008992361881055184), (4557, 0.008990410761738937), (1832, 0.008988654453071347), (3108, 0.008983600253948612), (1125, 0.00898305392081962), (3579, 0.00898172842597883), (2780, 0.008980897424165956), (654, 0.008980679204699464), (1185, 0.008970061377385338), (1388, 0.00896739725524332), (1234, 0.008956139333086121), (4435, 0.008955536608043924), (1136, 0.008934010203325895), (800, 0.008931321996412027), (705, 0.00892580054292702), (1762, 0.008920241317282298), (2126, 0.008908498372467507), (201, 0.00890740683814448), (2975, 0.008895277301159561), (1432, 0.008890592698361252), (3382, 0.008888592637076908), (936, 0.008884823152329234), (1948, 0.008880141507915936), (3699, 0.008870245185856931), (1934, 0.008861650938211545), (483, 0.008854271065872112), (3634, 0.008836038720550485), (2444, 0.008828647873721503), (242, 0.008828110799380935), (1436, 0.00881988180379021), (869, 0.008805380712891442), (994, 0.008800517849323529), (918, 0.00878591032020574), (1542, 0.008780486032861792), (1440, 0.008755364898960803), (2933, 0.008752505849158113), (931, 0.008734325783719408), (3065, 0.008732673124011478), (105, 0.008730110328457774), (3, 0.008695527604947958), (732, 0.008674244370074337), (60, 0.008657647075805273), (4184, 0.008643869298858261), (3096, 0.008642542109610523), (1215, 0.00862778261429948), (542, 0.008621327048005124), (3155, 0.008620389234651504), (544, 0.008613603098878255), (494, 0.00860709575572977), (447, 0.008605160787713126), (2080, 0.008601334337698541), (1419, 0.00859926859467207), (3409, 0.008595010186471975), (924, 0.008568979851712148), (1455, 0.008564255083388326), (4623, 0.008564170183650785), (4000, 0.008554136025273397), (4124, 0.008549475714714384), (1743, 0.008542256797224769), (1406, 0.008537039464650448), (403, 0.008534467574580828), (63, 0.008530528165144814), (3670, 0.00851551195250457), (4581, 0.008514563293908378), (1922, 0.00849037821140701), (2211, 0.00847344976761499), (2603, 0.008464703754161137), (396, 0.008454254450834203), (1937, 0.008453672631669122), (244, 0.008446780500195898), (2280, 0.008437851096172965), (2918, 0.008430085740957119), (4344, 0.008421023650391836), (500, 0.008418749689900286), (2563, 0.008418188387207181), (2752, 0.008400567252531825), (441, 0.008381506876972818), (4481, 0.008376599402398429), (3582, 0.008368361155203712), (2206, 0.008351927285648474), (616, 0.008348605226850712), (4442, 0.00834734966662919), (113, 0.008320026385264974), (4216, 0.008299234175921575), (1950, 0.008294632710771478), (1230, 0.008265168050366156), (4235, 0.008258668236793632), (843, 0.008251963127331674), (915, 0.00823795020178507), (790, 0.008228147520133814), (309, 0.008227296417716851), (2897, 0.008226235695166388), (4060, 0.008211015470830842), (1231, 0.008210368325210366), (2844, 0.00820589305140112), (156, 0.0082017906676556), (1854, 0.008197165767524075), (3118, 0.008194329492113947), (4325, 0.008187718256614058), (828, 0.008187453541174334), (3152, 0.008172518780774643), (1630, 0.008149288052838415), (939, 0.008136772992478431), (3794, 0.008120607490625095), (3465, 0.008110067769780804), (2093, 0.00810847160122945), (1992, 0.008105865737903882), (719, 0.008085834880600462), (1680, 0.008068529879306447), (170, 0.008066151065478267), (827, 0.008061406929038069), (2555, 0.008035723184951526), (3941, 0.008027287142873957), (1797, 0.008024257460920007), (360, 0.008004697086890968), (4182, 0.007966728400193447), (3860, 0.007951922001685112), (3993, 0.00793259320447294), (2871, 0.007914814932207513), (3842, 0.007904601631646097), (122, 0.007874047035933415), (3267, 0.007872510002854029), (801, 0.007869255443913854), (2306, 0.007863639839013377), (829, 0.0078576414114778), (4164, 0.007853784347943153), (271, 0.00784995043180714), (1005, 0.007849855714659206), (285, 0.00784716777678048), (1747, 0.00784149581481865), (148, 0.007828463357016292), (2264, 0.007814995392616458), (3418, 0.0077899358572781595), (1236, 0.007785394345025291), (4366, 0.00777375903788771), (3070, 0.007773067767937649), (695, 0.007769448549047103), (501, 0.007761417797549796), (1816, 0.007746879890659888), (2614, 0.007745335836775846), (4553, 0.007738450428322659), (266, 0.007733437499800419), (3099, 0.007730283076260205), (3316, 0.007704235215784122), (333, 0.007696776580220431), (4232, 0.0076488173408040296), (1348, 0.00764746307725185), (1061, 0.00762216614720809), (1694, 0.007614030755613648), (402, 0.007605839982690965), (2809, 0.007582966811603675), (3256, 0.007577527593854448), (2617, 0.007511556437371117), (1776, 0.007511402843576753), (2913, 0.007500947302027305), (949, 0.007489338062382833), (3232, 0.007483337816351697), (4096, 0.007471107785621746), (3951, 0.007455103650172189), (1713, 0.007441611289158279), (4524, 0.007438438945677403), (1790, 0.0074349464570033046), (641, 0.007427429308340367), (3423, 0.007409376640020583), (125, 0.0074040624536348175), (1306, 0.007403207496258523), (582, 0.007399968919166635), (1014, 0.007364509588522433), (1708, 0.007350826749552564), (3384, 0.00734999739266739), (2076, 0.007328336333619973), (1300, 0.007327335852965027), (3661, 0.0073196755283992665), (1442, 0.007275549863245979), (2505, 0.00727057495005208), (283, 0.0072364212855207475), (2403, 0.007235864871771615), (3039, 0.007221995833332376), (1115, 0.00718364029463521), (2873, 0.007182390160445822), (1069, 0.007146342430750531), (2936, 0.007143660254954901), (2101, 0.00714183821504619), (40, 0.007128350811769669), (2510, 0.007124297218324642), (940, 0.007097144627175483), (243, 0.007096667379292501), (4719, 0.007066209516664458), (3008, 0.007065287591891734), (2209, 0.00706131268332517), (4605, 0.007051109522267519), (2339, 0.00703664237504514), (737, 0.007033337331426293), (435, 0.007026261071817139), (1799, 0.007011101250911004), (3387, 0.007006414344821349), (1486, 0.006998233626055175), (4226, 0.006989790913220584), (537, 0.006983280648255122), (2843, 0.0069816846669223265), (3515, 0.006980249355843107), (668, 0.006969833643241123), (3932, 0.006967303172716341), (1583, 0.0069663236356017014), (1712, 0.006964423125514867), (2244, 0.006955539385867677), (2759, 0.006950571014727558), (1812, 0.006938361625443259), (4061, 0.006930254310408813), (4077, 0.006916339630255517), (635, 0.006853097917733273), (1509, 0.006846829913391467), (1099, 0.006841710570675536), (3264, 0.006824280181880862), (715, 0.006818266898347443), (4337, 0.006818076826007191), (4196, 0.006792627124647483), (363, 0.006790345262009093), (340, 0.0067866794916123276), (1770, 0.006781162845182947), (4351, 0.006771709989171925), (386, 0.0067620316455698215), (341, 0.006754431040848785), (1718, 0.006743650521499896), (2418, 0.006733246322730734), (1737, 0.006730294341792841), (2303, 0.006729859587202315), (232, 0.006714078521556697), (2964, 0.00671286327991543), (2565, 0.006702340422944291), (4052, 0.006700317310128209), (752, 0.0066856445426842605), (782, 0.0066809854147438985), (1407, 0.006679367443706962), (1841, 0.006671095462800253), (3137, 0.006670877755753689), (4685, 0.0066679164382384935), (413, 0.006662363954529783), (1359, 0.006652588207109167), (2545, 0.006645869498985917), (131, 0.0066426151787075454), (3747, 0.006636488313512768), (3457, 0.006625774446020066), (1266, 0.006623269455510918), (369, 0.006616719194003762), (4008, 0.006612000899081088), (1911, 0.006611017725348159), (600, 0.006606791565953649), (1048, 0.006605212618596682), (2816, 0.006603471395454388), (778, 0.006602540601066455), (4695, 0.006602009093629013), (2309, 0.006601193224550114), (748, 0.00659324533607134), (2708, 0.00656886453616704), (4367, 0.006563725353170591), (2726, 0.006559566866159), (3733, 0.006551834390433004), (671, 0.006550286063072132), (1688, 0.006549801328792727), (631, 0.006546930322511471), (3594, 0.006543660819917383), (523, 0.006542384717630354), (1494, 0.006541977402697072), (301, 0.006534276996233751), (3265, 0.006532573830637294), (1250, 0.006529840206797467), (1396, 0.006525794724656275), (1124, 0.006513383316747856), (4210, 0.006510167115223316), (3648, 0.006507197763513042), (1860, 0.006500849866337135), (2640, 0.006498923805897262), (313, 0.006495718500706038), (3599, 0.006479749525479462), (2732, 0.006478253781426417), (3596, 0.006471329108072072), (56, 0.006468943059960246), (3632, 0.006468701255552037), (1276, 0.006466953933590834), (4261, 0.006454735115151958), (2691, 0.0064499656716761515), (4001, 0.006443645313232264), (4467, 0.006441795860583306), (3536, 0.00643289930006478), (1111, 0.006432106930517332), (2335, 0.00643145267468571), (1461, 0.006428387411605461), (1761, 0.00642364314614728), (4486, 0.006421349913387673), (4388, 0.006416680252170163), (1986, 0.006416312008044956), (1936, 0.006407373830076829), (4151, 0.0063985889247553706), (809, 0.006394480207152361), (2503, 0.0063902760785517956), (4738, 0.006389246513485358), (921, 0.006385471197711132), (2421, 0.006381024331181223), (817, 0.006375329334497268), (1262, 0.006373522170905155), (1345, 0.006371953620956521), (2463, 0.006365011760807372), (4099, 0.00636081959698998), (521, 0.006356731910372361), (3926, 0.006354804966864889), (22, 0.006350788900954586), (1908, 0.006348437303664881), (758, 0.00633700098831047), (182, 0.006336490817206258), (1501, 0.0063270500893839385), (1612, 0.006319911736287442), (3416, 0.006318506657520662), (1329, 0.006309981787355427), (2193, 0.006307884079771196), (346, 0.0063058444019210335), (3288, 0.006299460938289532), (3066, 0.006298873992225213), (1773, 0.0062987379960506166), (1374, 0.006298590221298387), (446, 0.00629650476742165), (1172, 0.006294046395304314), (1012, 0.006288331792670689), (1087, 0.006280073051028324), (1551, 0.006279759833220511), (1238, 0.006277191872405016), (1807, 0.006273653046996176), (3325, 0.006269332726117533), (1852, 0.0062619880309320135), (1696, 0.006259882975517586), (2480, 0.006257234215541592), (3033, 0.00625487416591501), (1873, 0.006254411334139884), (322, 0.006253246556096754), (2095, 0.006252776131477382), (1692, 0.006251926448297054), (1644, 0.00624955306435296), (4303, 0.006249459002642227), (1226, 0.006248828124832432), (2109, 0.006239570877644459), (1867, 0.006236783551276826), (834, 0.006234426031440514), (273, 0.006233566420427482), (2239, 0.0062322723985302865), (1420, 0.006227866061594085), (821, 0.006224086254274096), (1094, 0.006219976995987218), (1526, 0.006210390240775893), (1425, 0.006209586409244052), (1849, 0.006199338069426548), (1913, 0.006196977831270009), (1552, 0.006181948955308898), (4110, 0.00618065570394764), (2572, 0.006178273354198315), (164, 0.006156567454098105), (1096, 0.006151321455783908), (4217, 0.006116498080147434), (4564, 0.006113804851141691), (3046, 0.006111311007149243), (3998, 0.0061090744740703255), (2160, 0.006102142993262269), (321, 0.006101921544676022), (3309, 0.006098279181069815), (4576, 0.006096398414752718), (3085, 0.006094767863848208), (3864, 0.006089216171990571), (230, 0.006087204915620886), (568, 0.006086271747267449), (4236, 0.0060699555002047675), (2062, 0.006068286458418648), (2680, 0.00605819251210008), (3246, 0.006051460601898347), (2202, 0.0060479865013858955), (835, 0.006040330755812729), (2056, 0.006025097046973956), (3426, 0.006015051576982976), (1267, 0.006013289796072035), (3909, 0.0060132841882834555), (1818, 0.006008981376164683), (300, 0.006004051764421911), (3566, 0.00600302786551772), (1793, 0.00599085671636578), (1307, 0.0059897558799830684), (468, 0.005988396355915545), (1746, 0.005982673997525962), (263, 0.005978487968665559), (4272, 0.005976538676669717), (2935, 0.005968055525084797), (1327, 0.005964439656489618), (2992, 0.005961149666030935), (1664, 0.00595704115892458), (1723, 0.005952473424344478), (248, 0.0059522445987185025), (9, 0.005942520984648252), (2205, 0.005936531020675848), (4459, 0.005935636850520969), (4649, 0.005931125964393984), (2175, 0.00592676010254188), (449, 0.0058921752204129305), (3825, 0.005891631873825468), (766, 0.005885469521255363), (1662, 0.005884975835941093), (4571, 0.005882003742798561), (1903, 0.00587904542935584), (4009, 0.005862659764716261), (2426, 0.005848880963351862), (3114, 0.00583408505185153), (958, 0.005831659830494056), (4342, 0.00583044334665052), (1316, 0.005826621926624003), (3329, 0.005824258535832051), (1538, 0.005823633235291752), (1715, 0.005820613927953226), (1567, 0.0058189075384393555), (2203, 0.005811312314512582), (1650, 0.005803585019470782), (583, 0.005795595369938304), (4057, 0.005778405086247009), (35, 0.005775471576051003), (3512, 0.0057728017245784625), (4106, 0.005771491450620978), (354, 0.005769416068178529), (3865, 0.005766982725335808), (1833, 0.005761027239585176), (597, 0.005757163312717992), (2929, 0.005755082965993571), (2236, 0.0057489115051976855), (2058, 0.005747602901868683), (2185, 0.005726741402301833), (3244, 0.005724354231545516), (3748, 0.005718506781513403), (2757, 0.005712434440802195), (4055, 0.005709881890033255), (3752, 0.00570415307029301), (2285, 0.005702612910060637), (664, 0.005690040202985428), (3178, 0.005680494336745022), (3598, 0.0056796080405203475), (1571, 0.005678779831707199), (1684, 0.005669726014826968), (327, 0.005668466612612186), (4726, 0.005668038943947007), (979, 0.005664638474401455), (2156, 0.005624653150110538), (2587, 0.0056232785948166115), (2074, 0.005602813215392191), (1194, 0.005602266607914659), (2820, 0.005582693937066609), (2439, 0.005554633501367361), (2098, 0.005553767730162444), (445, 0.005544071883572258), (4748, 0.005534679020681809), (277, 0.005534486375712339), (1553, 0.005533932211586956), (1863, 0.005527315793522371), (2942, 0.005525924968902339), (4555, 0.005518879612372002), (1312, 0.005509174291924884), (4607, 0.005498813231345183), (3509, 0.005465280618853414), (3821, 0.005464942097460321), (4158, 0.005456361780380973), (177, 0.005448648965456252), (970, 0.005445719195086416), (2291, 0.005444295044166106), (4385, 0.005440030959299068), (78, 0.005437292849805782), (2197, 0.0054327803081156275), (3957, 0.005431942809343795), (2113, 0.005422124156684695), (2678, 0.005418126338684702), (3215, 0.005416914201409746), (2789, 0.005407245678379728), (1037, 0.005404283228275696), (3713, 0.005385923175665726), (288, 0.00536746971180417), (3164, 0.005365153835580952), (2998, 0.005362931578660248), (2529, 0.005350835035256031), (2665, 0.005312998620380699), (1279, 0.0052980207274498405), (3523, 0.005288951415695796), (2299, 0.005287269970695056), (2490, 0.005286634222746573), (3940, 0.005262633901846299), (3051, 0.005252438508708184), (2764, 0.0052475778858459155), (2022, 0.005243561278167895), (2858, 0.0052316099778102814), (2989, 0.005231399201856841), (4082, 0.0052122880038305616), (1453, 0.005202069997031597), (477, 0.005194213935393333), (3040, 0.005193366299527854), (2379, 0.005190399827215199), (4652, 0.005185902552636079), (735, 0.005182716254873506), (3925, 0.005180373464120092), (2137, 0.00515391091810913), (4202, 0.005153617629967341), (3291, 0.005152960755426132), (2774, 0.005152924330795915), (3410, 0.0051523873217464815), (1144, 0.005149166738956304), (168, 0.005147173244346509), (2870, 0.0051286406108572505), (159, 0.005123031029905381), (2251, 0.0051217463082206), (4172, 0.005115504190547576), (2404, 0.005099905418031064), (3257, 0.005058686183856678), (3030, 0.005054719180070872), (2349, 0.005054077524670581), (3990, 0.005041614015794042), (4423, 0.005040813401423568), (2775, 0.005031405067291799), (2643, 0.005026331218215852), (2392, 0.005004405705706111), (3166, 0.005004201711442617), (1695, 0.005003160635681928), (3635, 0.0049985932543186486), (2883, 0.004984274298206195), (4222, 0.004967870672971284), (2731, 0.0049671866425113394), (2655, 0.004945234283688568), (1701, 0.004934773992474636), (2832, 0.004934080150368202), (4444, 0.004930571470757283), (627, 0.004917732701231066), (2889, 0.004911764714310889), (4373, 0.004894264048637469), (3262, 0.004878363202843685), (2407, 0.004875774904312874), (3052, 0.004866917029550859), (2901, 0.004847027386541518), (3205, 0.004846612201177581), (3479, 0.0048406680848178734), (4407, 0.0048078123097989285), (2255, 0.004795415102978825), (2257, 0.004793792978605426), (3322, 0.004790873207369701), (4704, 0.004790244319654829), (3922, 0.004785167814892817), (3892, 0.0047819760705267835), (155, 0.004779991852182319), (3762, 0.004777595143754847), (4546, 0.004776240549971796), (414, 0.004754826484392224), (4221, 0.004751213715726292), (3939, 0.004749894539511252), (2064, 0.004744147471854247), (2559, 0.004739976358798059), (2415, 0.004737248483950438), (2673, 0.004736117402260978), (336, 0.004725972307222274), (561, 0.0047222408633075886), (2425, 0.004716746305325597), (2350, 0.004706836944791029), (2423, 0.004703413286891871), (3219, 0.0046915609124718064), (2838, 0.0046786938182648615), (3076, 0.004677274952315983), (3282, 0.004669914885408211), (4230, 0.004667038252719964), (3015, 0.004659058497308976), (4710, 0.004655178580892146), (2199, 0.004655167956300719), (4484, 0.004645967401469229), (2286, 0.004644995148337064), (4458, 0.004639890284382242), (2075, 0.004633871848724636), (4107, 0.004626401281199965), (3396, 0.004620633133530212), (4660, 0.004613055347557164), (2448, 0.0045941360431398254), (4490, 0.004584936264413066), (4572, 0.004568686690954214), (2454, 0.004546612465581658), (2957, 0.0045390161727081844), (2879, 0.004533030644929191), (4030, 0.004531314119897723), (1711, 0.004526524103688451), (2778, 0.004523559047010118), (3832, 0.004513789598115161), (2834, 0.004512547092056732), (2966, 0.004509892215570728), (2266, 0.004506699748840517), (3638, 0.004506357901264755), (2438, 0.004504407333911674), (4521, 0.00450414867203835), (3074, 0.004503396958475101), (1264, 0.0044982659601181104), (3577, 0.004481790689247364), (3081, 0.0044786190093672), (3763, 0.004477697551800981), (4723, 0.004475780245039787), (3458, 0.004475704815182271), (3613, 0.004455845409494535), (2797, 0.0044506958067469194), (3363, 0.00444820703407583), (3357, 0.00444814340139456), (2488, 0.004444726821834225), (4717, 0.004444553313680141), (3140, 0.00443687500051978), (3616, 0.004413876771453429), (3620, 0.004405971721066405), (4163, 0.004404721820279987), (3521, 0.004402417062509571), (2890, 0.004401104966444361), (1208, 0.004400913434316747), (3302, 0.0043876560559350485), (4589, 0.004386424041226249), (3123, 0.004385359290930105), (3456, 0.004385240677897497), (3952, 0.004383811503756819), (2388, 0.004382433048306123), (4243, 0.004374602538634643), (4753, 0.004372356292934764), (2707, 0.0043662709514836855), (2696, 0.004361225438628877), (1049, 0.004356447658063171), (2188, 0.004355105079163058), (3359, 0.004352797571790106), (326, 0.0043504278760377515), (2772, 0.0043484811954409616), (2857, 0.004343691258267926), (2320, 0.004342199254537449), (2434, 0.004340713248669326), (1429, 0.004339271711321467), (3072, 0.004338200693743783), (2848, 0.0043331197386648965), (2872, 0.004332946737558492), (2459, 0.004331916539327297), (3296, 0.004327508029116643), (4244, 0.004322548144112022), (4632, 0.004320170152362868), (4477, 0.0042995299680719), (2570, 0.004298333093563202), (3308, 0.004298218625447027), (3754, 0.0042928475029081516), (3884, 0.004286641107043686), (2914, 0.004286042382231827), (4295, 0.004285542582027068), (2269, 0.004283155616352084), (3355, 0.004279969101716826), (1995, 0.004270720108146876), (2986, 0.004269756123007162), (2535, 0.00426762995268263), (3364, 0.004265878747830604), (2089, 0.004262519427542021), (3165, 0.0042622293474572385), (1547, 0.004254783979558577), (1947, 0.004253135784462335), (1748, 0.004251993257412723), (4412, 0.0042513731204805675), (1187, 0.004249928155506289), (3274, 0.004248239234046093), (3901, 0.004244803534405778), (3651, 0.004234218213867059), (4333, 0.004231935101199803), (3413, 0.004231171958595856), (2428, 0.004229550242122336), (4117, 0.004222342748935602), (4368, 0.0042212043472133216), (2660, 0.004206859060011213), (448, 0.004205474456195134), (2427, 0.004204702472636468), (3425, 0.004201832943287807), (3012, 0.004201603839629774), (3258, 0.004200650170642484), (4713, 0.004197574178030185), (2796, 0.004196014478524643), (2623, 0.004195584544071796), (3745, 0.004193983175099454), (2134, 0.004189420372124611), (4522, 0.004189267878473847), (925, 0.004183920476551497), (2625, 0.0041832882743921595), (419, 0.004182419823381859), (431, 0.0041812985205430435), (3866, 0.004181009474264358), (2437, 0.004179498857300421), (2881, 0.004170850291450152), (3506, 0.004161581798528693), (2478, 0.004161467587841342), (2924, 0.004161177535716825), (3590, 0.004160999391706194), (3062, 0.004158736855276982), (4092, 0.004155492939772884), (3680, 0.004154123409289908), (443, 0.004150109366358791), (4699, 0.004146961940182857), (614, 0.004145163426849213), (3044, 0.004143025408241912), (2916, 0.0041406420620527335), (2302, 0.004139015510344699), (4369, 0.004138964270049249), (813, 0.004138557351098635), (3148, 0.0041380971274562256), (3772, 0.004134949834593907), (2400, 0.004134097460427045), (1909, 0.004129241700285297), (4593, 0.004128594326806225), (985, 0.004127371494266154), (2475, 0.004123978110143416), (2702, 0.00412388102238918), (2108, 0.004119868250353875), (2840, 0.004119370278250421), (2854, 0.004118443103234074), (1968, 0.004117306017694862), (4575, 0.00411643949943099), (3639, 0.004116284887717712), (1498, 0.004115051815011806), (2974, 0.004112251600627494), (3640, 0.004111745145969915), (4494, 0.004109441903493621), (999, 0.004107030221168948), (4650, 0.0041066852560385425), (3804, 0.004106238147921827), (2411, 0.004103565056940289), (3234, 0.004103210260231247), (4507, 0.004099855162875007), (4051, 0.00409633308227192), (3116, 0.004095769453436282), (3196, 0.004092149265880068), (2705, 0.0040906005846596885), (2260, 0.0040884176228894245), (2176, 0.004087284878878558), (3960, 0.0040859911565856956), (596, 0.004084690099638017), (4516, 0.004083527092740585), (739, 0.004081352650157756), (3032, 0.0040813198373294045), (2748, 0.004081091919086261), (4706, 0.0040799742139174455), (576, 0.004076450812834327), (2223, 0.004075040018793369), (857, 0.004072730113966099), (1923, 0.004069233207595492), (274, 0.004069133618586822), (3183, 0.004067083392833606), (2288, 0.00406223559219543), (318, 0.004060942388514648), (436, 0.004060869829954962), (1325, 0.004059862976262125), (3037, 0.004058950205265697), (1109, 0.0040564044884282375), (4269, 0.004053954284233105), (3273, 0.0040498820862107324), (3013, 0.0040498229149443215), (2592, 0.004046254568709024), (3417, 0.004043215372542592), (2629, 0.004042046176472453), (998, 0.0040392025677890644), (1349, 0.004034825028289521), (2561, 0.004034820030903576), (688, 0.004034248698130149), (1474, 0.004034202124520658), (1489, 0.004030863136205016), (107, 0.004028999450967344), (3391, 0.004028926328446717), (2888, 0.004028761000890343), (1924, 0.0040287522085478015), (3813, 0.004028574444152375), (4101, 0.004028440520388692), (3601, 0.004028048989421649), (2664, 0.004027382687202361), (8, 0.004024902255574166), (3962, 0.004023757458155105), (876, 0.004020929078570965), (4187, 0.0040110824694452206), (3873, 0.004008702236903039), (3235, 0.004007327901865634), (4087, 0.004006888026298892), (3560, 0.004004515104251791), (729, 0.004003963965459868), (2391, 0.004002622148276159), (587, 0.003996929657814651), (4024, 0.0039965300723838445), (3780, 0.0039930202263630905), (4540, 0.003992749482800868), (2830, 0.003991469629009694), (4718, 0.003988227205834407), (4130, 0.0039874098571797655), (3893, 0.003984291686823994), (2390, 0.0039835438498973435), (2162, 0.003982059465336277), (4259, 0.003981623078157789), (4535, 0.003978434270092595), (2821, 0.003978117263198874), (1893, 0.003977121805814036), (4601, 0.00397685680704164), (4625, 0.003973996138885627), (4448, 0.003971594837903683), (1896, 0.003971474884081003), (41, 0.003970717908687738), (4160, 0.00396981835810772), (2755, 0.003969706413381803), (4263, 0.0039681827966933465), (481, 0.003967203677638982), (4734, 0.003966245279495114), (12, 0.003963793261534139), (4133, 0.00396265368273116), (1454, 0.0039624928601572395), (3749, 0.0039585027114267006), (4401, 0.0039554194647596075), (4528, 0.003953235759516799), (4046, 0.003948735720670657), (4138, 0.003948471924280158), (1905, 0.0039460876338670734), (2348, 0.0039455216603346095), (3187, 0.003945006633759202), (4098, 0.003943439270613996), (3618, 0.003942563717041695), (2943, 0.003941349477364912), (4079, 0.00393867513348882), (3920, 0.003935753998502734), (4657, 0.003935225342481629), (4113, 0.0039343650817526025), (2159, 0.00393318169473858), (2776, 0.0039326699364601245), (2949, 0.00392950874659389), (3527, 0.003929399034629461), (74, 0.0039264580985121115), (3704, 0.00392327202618111), (888, 0.003923094318604884), (350, 0.003920390174834662), (673, 0.003919804256460304), (1518, 0.003918255074927812), (3097, 0.003916498229863329), (3902, 0.003915411766121736), (2531, 0.003909139293615629), (3493, 0.003908931399109332), (4169, 0.003908660525393756), (1687, 0.0039086314103195996), (4419, 0.0039073076340762165), (1188, 0.003906679433710426), (1537, 0.0039061721870033922), (826, 0.0039049654905162546), (3198, 0.003902890601372717), (2361, 0.003900472291299758), (192, 0.003898384246831764), (4116, 0.003894280396224913), (4038, 0.003894275762524244), (612, 0.0038919012695828145), (3771, 0.003891425169750277), (2394, 0.0038911179241856103), (991, 0.003885810376854865), (716, 0.003884349033158063), (872, 0.003882645021591184), (4014, 0.003881375129436851), (4446, 0.003881186919354526), (4357, 0.0038800863510786363), (3349, 0.003878191404478602), (4330, 0.0038761459996060565), (2926, 0.0038760762353839064), (178, 0.0038758400220328592), (1643, 0.003874427660755701), (4111, 0.0038740731892776734), (1822, 0.0038738180370437992), (3654, 0.003872822661020854), (2104, 0.0038709384019225), (1907, 0.003870785779740309), (728, 0.0038699331608586453), (1140, 0.0038682610204555747), (2999, 0.0038671535589351515), (3406, 0.003867124440163828), (4225, 0.003865426767787719), (1007, 0.0038645590900610307), (3314, 0.0038640939423641527), (3496, 0.003863349016941559), (1960, 0.003862212029855161), (1513, 0.003861747178307836), (1463, 0.0038612001283308845), (3449, 0.003861146364567196), (3915, 0.003859702746680414), (2088, 0.003856441559461216), (4123, 0.0038547775835808306), (930, 0.0038535637901780753), (4470, 0.003852355264917461), (623, 0.003852012677191032), (783, 0.003848127950300587), (2661, 0.003847987220411894), (1364, 0.0038478083922036917), (493, 0.00384458719482825), (4420, 0.003843050237365091), (4517, 0.003841269758822218), (3112, 0.0038388616401502955), (1229, 0.003837403574787686), (3035, 0.0038370826856652376), (3501, 0.0038363042038154094), (2477, 0.003835851818649731), (4286, 0.0038357996541707588), (4501, 0.0038317395198217245), (1866, 0.003830342983425746), (564, 0.003830177217853021), (2714, 0.003828177765745093), (2405, 0.0038280573042679456), (1570, 0.003826685543321678), (1225, 0.00382591030662902), (1918, 0.0038259031011394144), (2105, 0.00382583717789848), (3388, 0.003825775944323494), (2289, 0.0038243492233980838), (2609, 0.003823605943377475), (11, 0.003820801591506587), (1703, 0.0038189325563478815), (2911, 0.0038178676258134457), (1071, 0.00381710360042676), (4422, 0.00381506012364307), (1946, 0.0038150434190271807), (456, 0.0038143876282678876), (1324, 0.003814078270508811), (4756, 0.0038108656704572324), (3516, 0.0038096696618702503), (4489, 0.0038060816287736506), (3326, 0.0038052168970012495), (1916, 0.003804620886395893), (4520, 0.003804472134471085), (4643, 0.0038043322042919975), (34, 0.003803710666608712), (3882, 0.003802378355705582), (2083, 0.0037980635949824908), (3184, 0.0037964303981170883), (3666, 0.003795199496198151), (3353, 0.003791877612128075), (206, 0.0037914316417872844), (792, 0.00379083198737289), (3227, 0.00378829661990571), (2554, 0.003786342807223093), (4054, 0.0037846369527435994), (4430, 0.003784343077487173), (1851, 0.0037840309828365702), (4629, 0.003783971573394346), (606, 0.0037835327468802144), (216, 0.0037791843202362035), (580, 0.003778224733777734), (4033, 0.003776219694586006), (2393, 0.0037757391598972176), (4624, 0.0037754848152119665), (1350, 0.0037745910208878174), (255, 0.0037738764163026514), (4566, 0.003772743830485053), (2894, 0.003771728818972209), (4287, 0.0037716237484724715), (3526, 0.00376960980206492), (2319, 0.003768236987499603), (3241, 0.003768070393690107), (871, 0.003767601244733049), (4563, 0.0037661521491421466), (2344, 0.003763661342641192), (3182, 0.003762047673865215), (2904, 0.003761595932858598), (743, 0.0037605963245735136), (4334, 0.0037597345030383777), (4056, 0.0037596802451641655), (4178, 0.0037590469367046204), (865, 0.0037568548753283623), (2878, 0.003756554685304859), (1902, 0.0037561958836323907), (3845, 0.0037555024113132287), (652, 0.0037546878087736314), (3233, 0.003753353149251188), (1083, 0.003752038559898607), (2230, 0.003751559690159027), (3624, 0.0037512245749220657), (2492, 0.003748942240365011), (2048, 0.003747877209481558), (923, 0.00374727358476058), (2466, 0.0037447486548406), (4284, 0.0037439503104130154), (3623, 0.0037420326861548367), (4693, 0.0037417191205570003), (2386, 0.0037393646872279536), (1400, 0.0037383438820175513), (2652, 0.0037381660553075366), (4249, 0.003735556971208958), (3551, 0.0037315935115939487), (636, 0.0037288295810149054), (1131, 0.003727459389328184), (588, 0.0037248104976820274), (3330, 0.003722965772327228), (3075, 0.0037185707592268533), (504, 0.0037168166426466303), (3564, 0.00371658975905243), (2946, 0.003716365646045961), (3827, 0.0037158091326643804), (3542, 0.0037141286139203778), (1410, 0.003712338357794752), (644, 0.003710374216220982), (3303, 0.0037102645560411944), (198, 0.003710047529209943), (3727, 0.003707730320843922), (169, 0.003706119697851928), (660, 0.003705218286950731), (2067, 0.0037035601401309067), (1176, 0.003702991722062001), (3125, 0.003701853836649074), (1931, 0.0036992255476857566), (579, 0.0036968023003550133), (3653, 0.0036964375771250564), (2091, 0.003696402269304214), (2746, 0.003695499655402792), (3673, 0.003695287922978462), (3799, 0.003694156263559712), (3214, 0.0036928286662753413), (3917, 0.003689304529505386), (23, 0.003688401027502917), (3707, 0.0036880792570706984), (3809, 0.0036865297971638553), (1122, 0.003686312501640052), (1722, 0.003684516929234892), (71, 0.0036832305231296954), (509, 0.003682235319271297), (1717, 0.003680926362970618), (1983, 0.003678840146657714), (3571, 0.003676555560079233), (2169, 0.0036756961225023147), (4135, 0.003674780089234459), (238, 0.0036747260945350748), (3888, 0.003673641072687613), (980, 0.003673401932733429), (2073, 0.003671466736901041), (3477, 0.003669820132794907), (969, 0.003663732906241754), (2606, 0.003662543331786901), (1740, 0.0036614866022258645), (3445, 0.0036589328808580884), (1768, 0.003658930200029582), (1653, 0.003658335896985362), (1138, 0.003653869913182453), (4573, 0.003653458578122077), (1163, 0.003653181200197857), (2569, 0.003648834720406961), (2612, 0.0036487863477983776), (2226, 0.003648638369140632), (1706, 0.0036439459119918644), (894, 0.003643353817588267), (750, 0.00364297940750424), (696, 0.0036413921731777875), (3807, 0.003641105521977774), (3739, 0.0036384202950829722), (1891, 0.003637703741969926), (1191, 0.0036370807213998648), (2397, 0.0036363296705358506), (2945, 0.0036346923814579825), (1476, 0.003633094611760122), (4266, 0.003632963960990472), (1488, 0.003631254288575129), (4530, 0.0036289779486171968), (1533, 0.003627653195411649), (1472, 0.0036269398506729475), (1335, 0.003626784203185147), (4362, 0.0036259773269324666), (3436, 0.0036251188145153546), (490, 0.0036245549302632014), (1378, 0.0036238016421968585), (3890, 0.0036220143932007925), (1422, 0.0036198586039280947), (698, 0.003619313307600158), (769, 0.0036190152835016156), (1483, 0.0036178273737238406), (2965, 0.0036174412849297954), (1102, 0.003617195917808577), (3641, 0.003614130910784616), (1421, 0.0036135781900568644), (2195, 0.0036131580853368843), (4394, 0.0036125967751689616), (2061, 0.0036110499461446733), (2972, 0.003610271711870684), (3876, 0.0036101586839149473), (1223, 0.003609024809491738), (4020, 0.003608720229424442), (1286, 0.0036076478395227715), (693, 0.0036066662589230064), (4487, 0.003605430177878461), (3170, 0.0036049505147947836), (2313, 0.0036047568104128538), (1170, 0.0035986049966292826), (3900, 0.003598503481695439), (1598, 0.0035965945135806913), (2802, 0.0035893975089916364), (400, 0.0035880045191178877), (1634, 0.0035875996727769456), (959, 0.0035825408688940573), (2068, 0.00357761660276233), (2402, 0.003575350322005674), (1666, 0.0035751292394404686), (1448, 0.003572882421155847), (3557, 0.0035707970450782837), (1438, 0.00357053411697365), (3268, 0.003570496873557066), (2430, 0.003568996845998701), (3435, 0.0035676987215066316), (3122, 0.003567490504066013), (3696, 0.003567177857723064), (1179, 0.003566013064897563), (749, 0.00356588168369434), (755, 0.003565598257264353), (1313, 0.0035653566912692606), (1247, 0.003563449407485466), (1645, 0.0035623058221380443), (2779, 0.0035609375232965564), (348, 0.0035583835740651782), (2422, 0.003556892058900133), (475, 0.0035561762660254893), (727, 0.0035546141238383786), (1408, 0.0035535171818924897), (4036, 0.003552410403811517), (880, 0.0035516492028097057), (1969, 0.0035512442317371493), (2461, 0.0035472167060579558), (4309, 0.003546588632834495), (3379, 0.0035464567399480576), (3898, 0.0035460496618405757), (3402, 0.0035446301193974472), (2069, 0.003544224650394747), (3195, 0.003544222407524918), (3500, 0.0035438410810015464), (522, 0.0035436036120966127), (114, 0.003542897726364996), (1558, 0.003541427579141127), (1338, 0.0035379440014923717), (3220, 0.003536018101830114), (4670, 0.0035357886098069955), (349, 0.003535440937801938), (1882, 0.0035307853535350864), (2029, 0.0035296147676027127), (1161, 0.003529423742939037), (4085, 0.003529404029424776), (1620, 0.0035281315243241426), (3487, 0.0035271152597464795), (1026, 0.003524802902344887), (2131, 0.0035234497820211836), (2117, 0.0035206786772474016), (1123, 0.0035187023388429405), (4356, 0.003517738337020871), (4183, 0.0035171235397375746), (1084, 0.003517036708694472), (2634, 0.003516721914841632), (2482, 0.003515758877067737), (1002, 0.0035152950244470584), (852, 0.0035146627054952703), (3819, 0.0035133557832311346), (3765, 0.0035119185585808), (1060, 0.0035110393103203155), (2642, 0.0035107814251462695), (2907, 0.0035102223814139897), (1597, 0.003509141581863787), (3646, 0.003509047198936428), (3660, 0.0035077112912717083), (1628, 0.0035069455610018956), (3298, 0.0035060155383473584), (3014, 0.0035052834070382075), (2496, 0.003504255984744478), (215, 0.003502160137434286), (1044, 0.0035021158687600596), (1001, 0.0034978866099250904), (1819, 0.0034950922204191113), (2892, 0.0034944918808593934), (373, 0.0034922021999336116), (854, 0.0034907432967080584), (1027, 0.003490550813655905), (3706, 0.003489303754011063), (127, 0.0034884607094024275), (798, 0.0034882844272049896), (1813, 0.003487686203464874), (3503, 0.0034868080676453772), (4069, 0.003485065506458646), (4472, 0.0034816043946444596), (3028, 0.0034772999342479348), (1582, 0.003476508882098478), (3300, 0.003475565454595951), (1481, 0.0034746408179706072), (4536, 0.0034739934673315635), (2800, 0.003472272388657065), (655, 0.0034693789536789994), (3050, 0.00346907915291591), (4282, 0.003460628942617078), (598, 0.0034588820805576434), (1884, 0.003458561935987966), (4638, 0.0034582475340230873), (221, 0.0034572121495910404), (1892, 0.003455859060575613), (1375, 0.0034547682376586896), (488, 0.0034522259982635883), (372, 0.0034515618546378363), (3734, 0.0034449338213008046), (2004, 0.0034448871905813543), (1478, 0.0034447398416050656), (1760, 0.003443209691536033), (1034, 0.0034427914086170167), (907, 0.003440101274856753), (1177, 0.003439904621792962), (2862, 0.0034396574158863983), (1744, 0.003434493917889964), (2201, 0.0034335984779997612), (4591, 0.003432995066880604), (96, 0.0034298397493422593), (111, 0.0034282723233091837), (975, 0.0034281869557652553), (2453, 0.003425060584759482), (886, 0.0034249931051393164), (1667, 0.0034247303282723632), (388, 0.0034218602296128145), (3278, 0.003421241558922301), (3194, 0.0034197033326278763), (4523, 0.0034194811544737214), (2367, 0.0034190408820254214), (325, 0.0034150370118558163), (2242, 0.003413801784207819), (2899, 0.0034135814437626596), (1041, 0.003412780220971182), (1372, 0.0034087502893124775), (4011, 0.003408695167037237), (2741, 0.0034055349640374146), (2528, 0.003404015530746344), (2556, 0.0034025933315518044), (18, 0.003402162480166839), (2674, 0.0034008308525555306), (471, 0.0033988055785779707), (3147, 0.0033987373884516708), (2593, 0.003398427862261313), (3342, 0.0033980877772165825), (3811, 0.0033973102524625415), (3614, 0.003393524242017029), (31, 0.0033929026670746496), (2743, 0.0033882022578751417), (1357, 0.0033816192049968123), (1273, 0.0033789941280808916), (1693, 0.0033745475642321084), (1827, 0.0033721315007236193), (3460, 0.0033697161415994622), (944, 0.0033682186995821497), (3027, 0.0033657672906411817), (3563, 0.00336427158936343), (4345, 0.0033609080560115414), (589, 0.0033601166511714733), (2399, 0.003360010365670263), (410, 0.003358460617516455), (355, 0.0033566320582935003), (659, 0.0033562369808203493), (200, 0.003356001184889027), (3071, 0.0033553092296322246), (1462, 0.0033549249465894162), (1543, 0.003354850505857163), (558, 0.003354019879167552), (1065, 0.003352842627565415), (3705, 0.0033524250379604126), (1565, 0.0033509625236019516), (1107, 0.003350230952915409), (359, 0.0033486839922838027), (744, 0.00334683235059458), (416, 0.003341552368301847), (910, 0.0033394887860486496), (2845, 0.0033394731664702325), (4479, 0.0033369498430921144), (3474, 0.003335926818970873), (3120, 0.0033351652495787988), (1503, 0.003335078510942943), (121, 0.0033307596596505746), (1796, 0.003329521681014378), (1782, 0.003327008529611779), (4154, 0.003326286976639701), (2031, 0.0033236615615170684), (2457, 0.0033234487078314646), (594, 0.0033229103820772246), (3311, 0.0033223970151278486), (1079, 0.0033218957170688063), (92, 0.0033208353852619927), (3742, 0.0033202915672424075), (3755, 0.003320031754881826), (1605, 0.0033200014177758273), (608, 0.0033165010155500403), (3304, 0.003316040294744324), (2591, 0.003313192020137138), (703, 0.003313125977163331), (457, 0.0033124136818181438), (804, 0.003311187920159797), (951, 0.0033062099980175233), (1219, 0.0033053241742141653), (136, 0.0033043939811667556), (3953, 0.0033031085916912493), (722, 0.0033015059929890483), (3318, 0.0033000862013781627), (1830, 0.0032987990167642604), (563, 0.0032955870095134642), (4074, 0.0032955272394083693), (4712, 0.0032923605521481677), (1080, 0.003289061064762958), (495, 0.003288630873576574), (3380, 0.003288326779174867), (1869, 0.0032857182426795735), (4143, 0.003283688256962025), (3956, 0.003283195414240378), (184, 0.0032820767132581323), (604, 0.003280557523484059), (4350, 0.003280205078363773), (2338, 0.003278400303066851), (1964, 0.0032761001206858425), (4066, 0.0032728608199383757), (981, 0.0032716205467046727), (1318, 0.003270560355697796), (2747, 0.0032689356151032302), (1719, 0.00326884615006483), (2520, 0.0032668684490305896), (2240, 0.0032631838987335856), (2611, 0.0032591572279190655), (1209, 0.0032574938099353126), (815, 0.003255797787314373), (856, 0.003250992641715238), (357, 0.0032471039334836522), (3327, 0.0032467237433163173), (3669, 0.0032417891807398308), (3910, 0.003237082689093963), (3393, 0.0032356721178910365), (103, 0.0032352929132663448), (1352, 0.0032297910136505465), (132, 0.0032296539107920788), (4429, 0.0032295405500584575), (851, 0.0032290545106255833), (4432, 0.0032284502170120584), (480, 0.003227351144052176), (1414, 0.0032225570030628274), (2580, 0.0032222812076661547), (1423, 0.003222083971535218), (1199, 0.003222002477543732), (605, 0.0032188131821064003), (97, 0.0032182410026265177), (2724, 0.0032155971417653587), (286, 0.0032154238056360126), (2527, 0.0032149010258714743), (4247, 0.003214141690253125), (1394, 0.0032138434739945967), (1608, 0.0032115539638694316), (1217, 0.0032016554079452694), (3569, 0.0032012195773470165), (712, 0.0031968792396109254), (2502, 0.003190814385031898), (2976, 0.003186372932343545), (1251, 0.0031840906688658695), (1616, 0.003180385457538653), (861, 0.00317961234847539), (4411, 0.003173867509049872), (4636, 0.003168135452152926), (4473, 0.0031638341432143314), (1370, 0.0031627185311344152), (1627, 0.00316121178413429), (2509, 0.0031609964324949857), (2355, 0.0031602641877573365), (1828, 0.0031591878246459548), (642, 0.003155592781740296), (3200, 0.0031513312722667884), (3331, 0.003151275194374879), (1340, 0.0031511169025223084), (267, 0.003148290394687791), (190, 0.0031473755120183717), (1943, 0.0031447476357208287), (1088, 0.0031447358538127432), (2761, 0.00314446827020073), (4733, 0.0031392280218477116), (2034, 0.003135313176975553), (3657, 0.003133739941963689), (2287, 0.0031322454663759752), (165, 0.003130209799145014), (16, 0.003124461939679868), (3347, 0.0031196660782638044), (3928, 0.003119337035009423), (4626, 0.0031183287618134605), (707, 0.003116334287315463), (617, 0.003115493500860941), (2132, 0.0031129265116002173), (195, 0.0031039282753545622), (626, 0.0031029176929288594), (1078, 0.0030993597058398084), (2127, 0.00309278607342593), (3855, 0.0030896082445799984), (1040, 0.003088266634974712), (611, 0.003079879335439679), (3534, 0.003071844344286791), (2771, 0.0030713571068037766), (194, 0.003062561345216124), (2039, 0.0030599537398468177), (3024, 0.0030591448265569403), (1415, 0.00305770172669502), (1356, 0.0030548532031879553), (4311, 0.0030505917846194866), (3056, 0.003050405838442886), (2359, 0.003047870002830093), (2441, 0.003045740577482299), (3575, 0.003040159270275345), (2758, 0.0030333775324339774), (1305, 0.0030308152628979695), (1427, 0.003030275944379765), (2526, 0.003019658164027966), (3254, 0.003017600791941263), (2697, 0.0030102412418100436), (3301, 0.002994848579413299), (1624, 0.0029800217948103497), (4674, 0.002964972250098014), (1989, 0.0029599114602382056), (2010, 0.002951642993156266), (453, 0.0029486112224929905), (953, 0.0029457247903105855), (1303, 0.0029393568573177656), (2766, 0.002913805628316726), (3199, 0.00290555647983142), (1677, 0.0028832880064574577), (256, 0.0028775889357107506), (3626, 0.0028516641371867137), (562, 0.002851513369177817), (571, 0.0028496566357053966), (607, 0.0028373312181902617), (228, 0.002814970442694523), (351, 0.0027962182365576164), (3546, 0.002736590575230364), (831, 0.0026989125396759163), (4171, 0.00263867162876818), (3365, 0.0026362983057932245), (4752, 0.002624017327019403), (129, 0.002577092667878157), (202, 0.002415011219205911), (2534, 0.0016543851149496322), (1, 0.0), (2, 0.0), (4, 0.0), (6, 0.0), (10, 0.0), (14, 0.0), (17, 0.0), (20, 0.0), (24, 0.0), (26, 0.0), (27, 0.0), (28, 0.0), (30, 0.0), (36, 0.0), (37, 0.0), (38, 0.0), (39, 0.0), (42, 0.0), (47, 0.0), (49, 0.0), (50, 0.0), (53, 0.0), (54, 0.0), (55, 0.0), (58, 0.0), (59, 0.0), (64, 0.0), (66, 0.0), (69, 0.0), (70, 0.0), (72, 0.0), (73, 0.0), (76, 0.0), (77, 0.0), (80, 0.0), (81, 0.0), (90, 0.0), (91, 0.0), (93, 0.0), (94, 0.0), (95, 0.0), (98, 0.0), (99, 0.0), (100, 0.0), (101, 0.0), (102, 0.0), (115, 0.0), (117, 0.0), (118, 0.0), (128, 0.0), (133, 0.0), (134, 0.0), (135, 0.0), (139, 0.0), (140, 0.0), (141, 0.0), (143, 0.0), (146, 0.0), (150, 0.0), (151, 0.0), (152, 0.0), (153, 0.0), (154, 0.0), (157, 0.0), (158, 0.0), (163, 0.0), (167, 0.0), (171, 0.0), (186, 0.0), (187, 0.0), (188, 0.0), (189, 0.0), (191, 0.0), (196, 0.0), (205, 0.0), (211, 0.0), (214, 0.0), (217, 0.0), (219, 0.0), (220, 0.0), (223, 0.0), (225, 0.0), (226, 0.0), (229, 0.0), (233, 0.0), (234, 0.0), (235, 0.0), (237, 0.0), (239, 0.0), (241, 0.0), (245, 0.0), (246, 0.0), (247, 0.0), (249, 0.0), (253, 0.0), (257, 0.0), (258, 0.0), (259, 0.0), (260, 0.0), (262, 0.0), (264, 0.0), (265, 0.0), (268, 0.0), (272, 0.0), (275, 0.0), (278, 0.0), (289, 0.0), (290, 0.0), (291, 0.0), (293, 0.0), (294, 0.0), (295, 0.0), (297, 0.0), (298, 0.0), (299, 0.0), (302, 0.0), (303, 0.0), (304, 0.0), (305, 0.0), (306, 0.0), (308, 0.0), (310, 0.0), (311, 0.0), (312, 0.0), (314, 0.0), (315, 0.0), (316, 0.0), (319, 0.0), (320, 0.0), (323, 0.0), (324, 0.0), (331, 0.0), (335, 0.0), (337, 0.0), (338, 0.0), (339, 0.0), (344, 0.0), (347, 0.0), (352, 0.0), (361, 0.0), (362, 0.0), (365, 0.0), (366, 0.0), (367, 0.0), (375, 0.0), (376, 0.0), (377, 0.0), (378, 0.0), (379, 0.0), (380, 0.0), (382, 0.0), (389, 0.0), (390, 0.0), (391, 0.0), (392, 0.0), (393, 0.0), (394, 0.0), (395, 0.0), (397, 0.0), (399, 0.0), (401, 0.0), (404, 0.0), (405, 0.0), (411, 0.0), (415, 0.0), (417, 0.0), (420, 0.0), (422, 0.0), (423, 0.0), (425, 0.0), (426, 0.0), (427, 0.0), (432, 0.0), (439, 0.0), (440, 0.0), (444, 0.0), (451, 0.0), (454, 0.0), (460, 0.0), (462, 0.0), (466, 0.0), (467, 0.0), (469, 0.0), (473, 0.0), (474, 0.0), (476, 0.0), (478, 0.0), (484, 0.0), (486, 0.0), (487, 0.0), (489, 0.0), (491, 0.0), (492, 0.0), (497, 0.0), (498, 0.0), (499, 0.0), (503, 0.0), (505, 0.0), (506, 0.0), (507, 0.0), (508, 0.0), (512, 0.0), (513, 0.0), (514, 0.0), (516, 0.0), (517, 0.0), (518, 0.0), (520, 0.0), (524, 0.0), (525, 0.0), (526, 0.0), (528, 0.0), (529, 0.0), (531, 0.0), (532, 0.0), (535, 0.0), (536, 0.0), (539, 0.0), (541, 0.0), (546, 0.0), (548, 0.0), (549, 0.0), (550, 0.0), (552, 0.0), (554, 0.0), (556, 0.0), (557, 0.0), (559, 0.0), (560, 0.0), (565, 0.0), (567, 0.0), (569, 0.0), (570, 0.0), (572, 0.0), (573, 0.0), (574, 0.0), (575, 0.0), (577, 0.0), (581, 0.0), (585, 0.0), (591, 0.0), (592, 0.0), (595, 0.0), (599, 0.0), (601, 0.0), (602, 0.0), (603, 0.0), (610, 0.0), (619, 0.0), (621, 0.0), (624, 0.0), (625, 0.0), (630, 0.0), (633, 0.0), (634, 0.0), (639, 0.0), (640, 0.0), (645, 0.0), (646, 0.0), (647, 0.0), (649, 0.0), (650, 0.0), (656, 0.0), (658, 0.0), (661, 0.0), (662, 0.0), (663, 0.0), (665, 0.0), (666, 0.0), (674, 0.0), (678, 0.0), (679, 0.0), (680, 0.0), (681, 0.0), (685, 0.0), (686, 0.0), (687, 0.0), (690, 0.0), (699, 0.0), (700, 0.0), (702, 0.0), (704, 0.0), (708, 0.0), (709, 0.0), (711, 0.0), (713, 0.0), (714, 0.0), (717, 0.0), (718, 0.0), (720, 0.0), (723, 0.0), (724, 0.0), (725, 0.0), (726, 0.0), (730, 0.0), (731, 0.0), (736, 0.0), (738, 0.0), (740, 0.0), (741, 0.0), (745, 0.0), (746, 0.0), (747, 0.0), (751, 0.0), (754, 0.0), (756, 0.0), (759, 0.0), (764, 0.0), (765, 0.0), (767, 0.0), (770, 0.0), (771, 0.0), (772, 0.0), (773, 0.0), (777, 0.0), (780, 0.0), (781, 0.0), (784, 0.0), (785, 0.0), (786, 0.0), (789, 0.0), (791, 0.0), (793, 0.0), (797, 0.0), (802, 0.0), (803, 0.0), (805, 0.0), (807, 0.0), (810, 0.0), (811, 0.0), (819, 0.0), (820, 0.0), (822, 0.0), (823, 0.0), (825, 0.0), (837, 0.0), (839, 0.0), (840, 0.0), (841, 0.0), (845, 0.0), (846, 0.0), (848, 0.0), (849, 0.0), (855, 0.0), (859, 0.0), (862, 0.0), (863, 0.0), (868, 0.0), (875, 0.0), (881, 0.0), (882, 0.0), (883, 0.0), (884, 0.0), (887, 0.0), (889, 0.0), (890, 0.0), (891, 0.0), (892, 0.0), (893, 0.0), (898, 0.0), (901, 0.0), (902, 0.0), (909, 0.0), (912, 0.0), (913, 0.0), (914, 0.0), (919, 0.0), (920, 0.0), (922, 0.0), (926, 0.0), (927, 0.0), (928, 0.0), (932, 0.0), (933, 0.0), (938, 0.0), (941, 0.0), (943, 0.0), (945, 0.0), (946, 0.0), (950, 0.0), (954, 0.0), (955, 0.0), (956, 0.0), (960, 0.0), (961, 0.0), (964, 0.0), (965, 0.0), (971, 0.0), (972, 0.0), (973, 0.0), (974, 0.0), (977, 0.0), (978, 0.0), (982, 0.0), (983, 0.0), (984, 0.0), (987, 0.0), (990, 0.0), (992, 0.0), (993, 0.0), (995, 0.0), (996, 0.0), (997, 0.0), (1004, 0.0), (1008, 0.0), (1010, 0.0), (1011, 0.0), (1013, 0.0), (1016, 0.0), (1022, 0.0), (1025, 0.0), (1028, 0.0), (1029, 0.0), (1031, 0.0), (1032, 0.0), (1036, 0.0), (1038, 0.0), (1039, 0.0), (1042, 0.0), (1047, 0.0), (1051, 0.0), (1054, 0.0), (1055, 0.0), (1056, 0.0), (1057, 0.0), (1062, 0.0), (1066, 0.0), (1067, 0.0), (1072, 0.0), (1073, 0.0), (1076, 0.0), (1081, 0.0), (1082, 0.0), (1086, 0.0), (1089, 0.0), (1091, 0.0), (1092, 0.0), (1093, 0.0), (1097, 0.0), (1098, 0.0), (1100, 0.0), (1101, 0.0), (1103, 0.0), (1104, 0.0), (1105, 0.0), (1106, 0.0), (1108, 0.0), (1110, 0.0), (1113, 0.0), (1117, 0.0), (1120, 0.0), (1121, 0.0), (1126, 0.0), (1127, 0.0), (1130, 0.0), (1133, 0.0), (1135, 0.0), (1139, 0.0), (1142, 0.0), (1143, 0.0), (1145, 0.0), (1147, 0.0), (1149, 0.0), (1150, 0.0), (1151, 0.0), (1153, 0.0), (1154, 0.0), (1155, 0.0), (1156, 0.0), (1158, 0.0), (1159, 0.0), (1164, 0.0), (1165, 0.0), (1166, 0.0), (1167, 0.0), (1168, 0.0), (1169, 0.0), (1171, 0.0), (1174, 0.0), (1178, 0.0), (1180, 0.0), (1181, 0.0), (1189, 0.0), (1190, 0.0), (1193, 0.0), (1196, 0.0), (1197, 0.0), (1198, 0.0), (1200, 0.0), (1201, 0.0), (1204, 0.0), (1205, 0.0), (1207, 0.0), (1210, 0.0), (1211, 0.0), (1212, 0.0), (1213, 0.0), (1214, 0.0), (1218, 0.0), (1221, 0.0), (1222, 0.0), (1227, 0.0), (1228, 0.0), (1233, 0.0), (1235, 0.0), (1240, 0.0), (1242, 0.0), (1244, 0.0), (1246, 0.0), (1253, 0.0), (1256, 0.0), (1258, 0.0), (1259, 0.0), (1260, 0.0), (1263, 0.0), (1265, 0.0), (1268, 0.0), (1269, 0.0), (1271, 0.0), (1277, 0.0), (1280, 0.0), (1281, 0.0), (1282, 0.0), (1284, 0.0), (1285, 0.0), (1287, 0.0), (1288, 0.0), (1289, 0.0), (1291, 0.0), (1294, 0.0), (1295, 0.0), (1296, 0.0), (1297, 0.0), (1298, 0.0), (1299, 0.0), (1301, 0.0), (1304, 0.0), (1309, 0.0), (1315, 0.0), (1319, 0.0), (1321, 0.0), (1322, 0.0), (1323, 0.0), (1326, 0.0), (1328, 0.0), (1330, 0.0), (1332, 0.0), (1333, 0.0), (1336, 0.0), (1344, 0.0), (1346, 0.0), (1347, 0.0), (1353, 0.0), (1354, 0.0), (1355, 0.0), (1362, 0.0), (1363, 0.0), (1366, 0.0), (1368, 0.0), (1373, 0.0), (1380, 0.0), (1381, 0.0), (1390, 0.0), (1391, 0.0), (1392, 0.0), (1395, 0.0), (1399, 0.0), (1402, 0.0), (1404, 0.0), (1409, 0.0), (1411, 0.0), (1416, 0.0), (1424, 0.0), (1426, 0.0), (1428, 0.0), (1430, 0.0), (1431, 0.0), (1433, 0.0), (1434, 0.0), (1435, 0.0), (1437, 0.0), (1439, 0.0), (1441, 0.0), (1444, 0.0), (1447, 0.0), (1449, 0.0), (1450, 0.0), (1451, 0.0), (1452, 0.0), (1456, 0.0), (1457, 0.0), (1458, 0.0), (1459, 0.0), (1460, 0.0), (1466, 0.0), (1467, 0.0), (1468, 0.0), (1469, 0.0), (1470, 0.0), (1473, 0.0), (1479, 0.0), (1480, 0.0), (1484, 0.0), (1485, 0.0), (1487, 0.0), (1490, 0.0), (1491, 0.0), (1495, 0.0), (1496, 0.0), (1497, 0.0), (1499, 0.0), (1502, 0.0), (1504, 0.0), (1507, 0.0), (1508, 0.0), (1511, 0.0), (1516, 0.0), (1517, 0.0), (1520, 0.0), (1521, 0.0), (1522, 0.0), (1524, 0.0), (1525, 0.0), (1528, 0.0), (1529, 0.0), (1530, 0.0), (1531, 0.0), (1532, 0.0), (1534, 0.0), (1535, 0.0), (1536, 0.0), (1540, 0.0), (1541, 0.0), (1545, 0.0), (1546, 0.0), (1548, 0.0), (1549, 0.0), (1550, 0.0), (1554, 0.0), (1555, 0.0), (1556, 0.0), (1557, 0.0), (1559, 0.0), (1560, 0.0), (1561, 0.0), (1562, 0.0), (1563, 0.0), (1564, 0.0), (1566, 0.0), (1569, 0.0), (1573, 0.0), (1574, 0.0), (1575, 0.0), (1576, 0.0), (1577, 0.0), (1578, 0.0), (1580, 0.0), (1581, 0.0), (1584, 0.0), (1586, 0.0), (1587, 0.0), (1588, 0.0), (1589, 0.0), (1590, 0.0), (1592, 0.0), (1593, 0.0), (1594, 0.0), (1596, 0.0), (1599, 0.0), (1600, 0.0), (1601, 0.0), (1602, 0.0), (1603, 0.0), (1604, 0.0), (1606, 0.0), (1607, 0.0), (1610, 0.0), (1611, 0.0), (1613, 0.0), (1614, 0.0), (1615, 0.0), (1617, 0.0), (1618, 0.0), (1622, 0.0), (1623, 0.0), (1625, 0.0), (1626, 0.0), (1631, 0.0), (1632, 0.0), (1633, 0.0), (1635, 0.0), (1636, 0.0), (1637, 0.0), (1638, 0.0), (1639, 0.0), (1640, 0.0), (1641, 0.0), (1642, 0.0), (1646, 0.0), (1649, 0.0), (1651, 0.0), (1656, 0.0), (1657, 0.0), (1659, 0.0), (1660, 0.0), (1661, 0.0), (1663, 0.0), (1668, 0.0), (1669, 0.0), (1670, 0.0), (1672, 0.0), (1673, 0.0), (1679, 0.0), (1681, 0.0), (1683, 0.0), (1686, 0.0), (1689, 0.0), (1691, 0.0), (1697, 0.0), (1698, 0.0), (1699, 0.0), (1700, 0.0), (1704, 0.0), (1709, 0.0), (1724, 0.0), (1725, 0.0), (1726, 0.0), (1728, 0.0), (1729, 0.0), (1731, 0.0), (1732, 0.0), (1733, 0.0), (1734, 0.0), (1738, 0.0), (1742, 0.0), (1745, 0.0), (1751, 0.0), (1753, 0.0), (1755, 0.0), (1756, 0.0), (1758, 0.0), (1765, 0.0), (1766, 0.0), (1767, 0.0), (1769, 0.0), (1771, 0.0), (1772, 0.0), (1775, 0.0), (1777, 0.0), (1778, 0.0), (1780, 0.0), (1781, 0.0), (1783, 0.0), (1784, 0.0), (1785, 0.0), (1786, 0.0), (1789, 0.0), (1791, 0.0), (1792, 0.0), (1794, 0.0), (1800, 0.0), (1801, 0.0), (1803, 0.0), (1804, 0.0), (1805, 0.0), (1808, 0.0), (1810, 0.0), (1811, 0.0), (1814, 0.0), (1820, 0.0), (1823, 0.0), (1824, 0.0), (1825, 0.0), (1826, 0.0), (1829, 0.0), (1831, 0.0), (1834, 0.0), (1835, 0.0), (1836, 0.0), (1839, 0.0), (1840, 0.0), (1842, 0.0), (1844, 0.0), (1846, 0.0), (1848, 0.0), (1855, 0.0), (1856, 0.0), (1857, 0.0), (1859, 0.0), (1862, 0.0), (1877, 0.0), (1879, 0.0), (1881, 0.0), (1883, 0.0), (1887, 0.0), (1888, 0.0), (1889, 0.0), (1890, 0.0), (1894, 0.0), (1898, 0.0), (1899, 0.0), (1900, 0.0), (1901, 0.0), (1904, 0.0), (1910, 0.0), (1912, 0.0), (1914, 0.0), (1915, 0.0), (1917, 0.0), (1921, 0.0), (1925, 0.0), (1926, 0.0), (1928, 0.0), (1929, 0.0), (1930, 0.0), (1932, 0.0), (1933, 0.0), (1938, 0.0), (1939, 0.0), (1940, 0.0), (1941, 0.0), (1944, 0.0), (1952, 0.0), (1953, 0.0), (1954, 0.0), (1955, 0.0), (1956, 0.0), (1958, 0.0), (1959, 0.0), (1961, 0.0), (1962, 0.0), (1963, 0.0), (1965, 0.0), (1966, 0.0), (1972, 0.0), (1973, 0.0), (1974, 0.0), (1975, 0.0), (1978, 0.0), (1979, 0.0), (1980, 0.0), (1981, 0.0), (1984, 0.0), (1987, 0.0), (1991, 0.0), (1993, 0.0), (1998, 0.0), (2001, 0.0), (2002, 0.0), (2003, 0.0), (2006, 0.0), (2007, 0.0), (2009, 0.0), (2015, 0.0), (2017, 0.0), (2019, 0.0), (2021, 0.0), (2025, 0.0), (2028, 0.0), (2030, 0.0), (2032, 0.0), (2033, 0.0), (2036, 0.0), (2038, 0.0), (2041, 0.0), (2042, 0.0), (2043, 0.0), (2044, 0.0), (2046, 0.0), (2047, 0.0), (2050, 0.0), (2054, 0.0), (2057, 0.0), (2059, 0.0), (2060, 0.0), (2063, 0.0), (2066, 0.0), (2071, 0.0), (2072, 0.0), (2077, 0.0), (2078, 0.0), (2079, 0.0), (2081, 0.0), (2084, 0.0), (2085, 0.0), (2086, 0.0), (2090, 0.0), (2092, 0.0), (2099, 0.0), (2106, 0.0), (2107, 0.0), (2111, 0.0), (2115, 0.0), (2118, 0.0), (2120, 0.0), (2124, 0.0), (2125, 0.0), (2128, 0.0), (2129, 0.0), (2130, 0.0), (2135, 0.0), (2136, 0.0), (2138, 0.0), (2139, 0.0), (2140, 0.0), (2141, 0.0), (2142, 0.0), (2146, 0.0), (2147, 0.0), (2148, 0.0), (2150, 0.0), (2151, 0.0), (2152, 0.0), (2153, 0.0), (2158, 0.0), (2163, 0.0), (2164, 0.0), (2165, 0.0), (2166, 0.0), (2168, 0.0), (2170, 0.0), (2171, 0.0), (2172, 0.0), (2173, 0.0), (2178, 0.0), (2179, 0.0), (2180, 0.0), (2181, 0.0), (2182, 0.0), (2183, 0.0), (2184, 0.0), (2186, 0.0), (2187, 0.0), (2189, 0.0), (2190, 0.0), (2192, 0.0), (2194, 0.0), (2200, 0.0), (2204, 0.0), (2208, 0.0), (2213, 0.0), (2215, 0.0), (2217, 0.0), (2218, 0.0), (2219, 0.0), (2220, 0.0), (2222, 0.0), (2225, 0.0), (2227, 0.0), (2228, 0.0), (2231, 0.0), (2232, 0.0), (2233, 0.0), (2234, 0.0), (2238, 0.0), (2241, 0.0), (2243, 0.0), (2245, 0.0), (2246, 0.0), (2247, 0.0), (2249, 0.0), (2252, 0.0), (2253, 0.0), (2256, 0.0), (2259, 0.0), (2261, 0.0), (2262, 0.0), (2263, 0.0), (2267, 0.0), (2268, 0.0), (2270, 0.0), (2271, 0.0), (2272, 0.0), (2273, 0.0), (2274, 0.0), (2278, 0.0), (2281, 0.0), (2282, 0.0), (2283, 0.0), (2292, 0.0), (2293, 0.0), (2296, 0.0), (2297, 0.0), (2300, 0.0), (2304, 0.0), (2305, 0.0), (2307, 0.0), (2308, 0.0), (2310, 0.0), (2311, 0.0), (2312, 0.0), (2314, 0.0), (2315, 0.0), (2317, 0.0), (2322, 0.0), (2323, 0.0), (2324, 0.0), (2325, 0.0), (2326, 0.0), (2327, 0.0), (2328, 0.0), (2329, 0.0), (2330, 0.0), (2331, 0.0), (2332, 0.0), (2333, 0.0), (2336, 0.0), (2337, 0.0), (2340, 0.0), (2341, 0.0), (2342, 0.0), (2343, 0.0), (2345, 0.0), (2351, 0.0), (2352, 0.0), (2354, 0.0), (2356, 0.0), (2357, 0.0), (2360, 0.0), (2364, 0.0), (2369, 0.0), (2370, 0.0), (2372, 0.0), (2373, 0.0), (2377, 0.0), (2378, 0.0), (2380, 0.0), (2381, 0.0), (2382, 0.0), (2384, 0.0), (2385, 0.0), (2387, 0.0), (2389, 0.0), (2395, 0.0), (2396, 0.0), (2398, 0.0), (2401, 0.0), (2408, 0.0), (2409, 0.0), (2410, 0.0), (2414, 0.0), (2416, 0.0), (2419, 0.0), (2420, 0.0), (2424, 0.0), (2429, 0.0), (2431, 0.0), (2432, 0.0), (2433, 0.0), (2435, 0.0), (2442, 0.0), (2445, 0.0), (2446, 0.0), (2450, 0.0), (2451, 0.0), (2452, 0.0), (2455, 0.0), (2456, 0.0), (2458, 0.0), (2462, 0.0), (2465, 0.0), (2470, 0.0), (2471, 0.0), (2472, 0.0), (2476, 0.0), (2479, 0.0), (2483, 0.0), (2485, 0.0), (2491, 0.0), (2493, 0.0), (2495, 0.0), (2497, 0.0), (2498, 0.0), (2499, 0.0), (2500, 0.0), (2504, 0.0), (2506, 0.0), (2507, 0.0), (2508, 0.0), (2511, 0.0), (2514, 0.0), (2515, 0.0), (2516, 0.0), (2518, 0.0), (2519, 0.0), (2521, 0.0), (2523, 0.0), (2525, 0.0), (2532, 0.0), (2533, 0.0), (2536, 0.0), (2537, 0.0), (2539, 0.0), (2541, 0.0), (2542, 0.0), (2543, 0.0), (2544, 0.0), (2547, 0.0), (2548, 0.0), (2549, 0.0), (2551, 0.0), (2552, 0.0), (2557, 0.0), (2562, 0.0), (2564, 0.0), (2566, 0.0), (2567, 0.0), (2571, 0.0), (2573, 0.0), (2574, 0.0), (2575, 0.0), (2576, 0.0), (2577, 0.0), (2578, 0.0), (2583, 0.0), (2584, 0.0), (2585, 0.0), (2586, 0.0), (2588, 0.0), (2589, 0.0), (2590, 0.0), (2594, 0.0), (2595, 0.0), (2596, 0.0), (2597, 0.0), (2599, 0.0), (2600, 0.0), (2604, 0.0), (2605, 0.0), (2608, 0.0), (2610, 0.0), (2613, 0.0), (2615, 0.0), (2616, 0.0), (2619, 0.0), (2620, 0.0), (2624, 0.0), (2626, 0.0), (2627, 0.0), (2628, 0.0), (2631, 0.0), (2635, 0.0), (2636, 0.0), (2637, 0.0), (2641, 0.0), (2648, 0.0), (2651, 0.0), (2656, 0.0), (2657, 0.0), (2658, 0.0), (2659, 0.0), (2662, 0.0), (2663, 0.0), (2666, 0.0), (2667, 0.0), (2669, 0.0), (2670, 0.0), (2671, 0.0), (2672, 0.0), (2675, 0.0), (2676, 0.0), (2677, 0.0), (2679, 0.0), (2681, 0.0), (2682, 0.0), (2683, 0.0), (2684, 0.0), (2685, 0.0), (2686, 0.0), (2690, 0.0), (2693, 0.0), (2699, 0.0), (2700, 0.0), (2701, 0.0), (2703, 0.0), (2704, 0.0), (2709, 0.0), (2711, 0.0), (2713, 0.0), (2715, 0.0), (2717, 0.0), (2719, 0.0), (2720, 0.0), (2721, 0.0), (2722, 0.0), (2725, 0.0), (2728, 0.0), (2729, 0.0), (2730, 0.0), (2733, 0.0), (2734, 0.0), (2735, 0.0), (2737, 0.0), (2738, 0.0), (2749, 0.0), (2750, 0.0), (2753, 0.0), (2754, 0.0), (2756, 0.0), (2763, 0.0), (2765, 0.0), (2770, 0.0), (2773, 0.0), (2781, 0.0), (2783, 0.0), (2785, 0.0), (2786, 0.0), (2787, 0.0), (2788, 0.0), (2790, 0.0), (2792, 0.0), (2793, 0.0), (2794, 0.0), (2799, 0.0), (2801, 0.0), (2804, 0.0), (2806, 0.0), (2810, 0.0), (2811, 0.0), (2813, 0.0), (2814, 0.0), (2815, 0.0), (2817, 0.0), (2818, 0.0), (2819, 0.0), (2822, 0.0), (2824, 0.0), (2825, 0.0), (2826, 0.0), (2827, 0.0), (2828, 0.0), (2829, 0.0), (2833, 0.0), (2835, 0.0), (2836, 0.0), (2837, 0.0), (2839, 0.0), (2842, 0.0), (2846, 0.0), (2847, 0.0), (2850, 0.0), (2851, 0.0), (2852, 0.0), (2853, 0.0), (2855, 0.0), (2856, 0.0), (2860, 0.0), (2861, 0.0), (2863, 0.0), (2864, 0.0), (2865, 0.0), (2866, 0.0), (2875, 0.0), (2877, 0.0), (2880, 0.0), (2882, 0.0), (2884, 0.0), (2891, 0.0), (2895, 0.0), (2896, 0.0), (2898, 0.0), (2900, 0.0), (2902, 0.0), (2905, 0.0), (2906, 0.0), (2909, 0.0), (2912, 0.0), (2921, 0.0), (2922, 0.0), (2923, 0.0), (2927, 0.0), (2928, 0.0), (2930, 0.0), (2937, 0.0), (2938, 0.0), (2940, 0.0), (2941, 0.0), (2947, 0.0), (2948, 0.0), (2950, 0.0), (2951, 0.0), (2952, 0.0), (2953, 0.0), (2954, 0.0), (2955, 0.0), (2956, 0.0), (2958, 0.0), (2959, 0.0), (2960, 0.0), (2962, 0.0), (2963, 0.0), (2967, 0.0), (2968, 0.0), (2970, 0.0), (2973, 0.0), (2979, 0.0), (2982, 0.0), (2983, 0.0), (2984, 0.0), (2987, 0.0), (2990, 0.0), (2991, 0.0), (2993, 0.0), (2994, 0.0), (2997, 0.0), (3001, 0.0), (3002, 0.0), (3003, 0.0), (3005, 0.0), (3006, 0.0), (3007, 0.0), (3009, 0.0), (3011, 0.0), (3016, 0.0), (3020, 0.0), (3021, 0.0), (3022, 0.0), (3025, 0.0), (3026, 0.0), (3029, 0.0), (3031, 0.0), (3034, 0.0), (3038, 0.0), (3041, 0.0), (3042, 0.0), (3047, 0.0), (3048, 0.0), (3049, 0.0), (3054, 0.0), (3055, 0.0), (3057, 0.0), (3058, 0.0), (3059, 0.0), (3060, 0.0), (3061, 0.0), (3063, 0.0), (3064, 0.0), (3068, 0.0), (3069, 0.0), (3073, 0.0), (3077, 0.0), (3078, 0.0), (3079, 0.0), (3080, 0.0), (3082, 0.0), (3084, 0.0), (3087, 0.0), (3088, 0.0), (3089, 0.0), (3090, 0.0), (3092, 0.0), (3093, 0.0), (3100, 0.0), (3101, 0.0), (3103, 0.0), (3104, 0.0), (3105, 0.0), (3106, 0.0), (3107, 0.0), (3109, 0.0), (3113, 0.0), (3115, 0.0), (3117, 0.0), (3121, 0.0), (3124, 0.0), (3126, 0.0), (3128, 0.0), (3130, 0.0), (3131, 0.0), (3132, 0.0), (3133, 0.0), (3134, 0.0), (3135, 0.0), (3136, 0.0), (3138, 0.0), (3139, 0.0), (3141, 0.0), (3143, 0.0), (3145, 0.0), (3149, 0.0), (3150, 0.0), (3158, 0.0), (3159, 0.0), (3160, 0.0), (3161, 0.0), (3162, 0.0), (3163, 0.0), (3168, 0.0), (3169, 0.0), (3172, 0.0), (3173, 0.0), (3174, 0.0), (3175, 0.0), (3176, 0.0), (3177, 0.0), (3179, 0.0), (3180, 0.0), (3181, 0.0), (3185, 0.0), (3186, 0.0), (3188, 0.0), (3189, 0.0), (3190, 0.0), (3191, 0.0), (3193, 0.0), (3197, 0.0), (3201, 0.0), (3202, 0.0), (3204, 0.0), (3206, 0.0), (3207, 0.0), (3208, 0.0), (3211, 0.0), (3212, 0.0), (3216, 0.0), (3217, 0.0), (3221, 0.0), (3223, 0.0), (3224, 0.0), (3225, 0.0), (3229, 0.0), (3230, 0.0), (3231, 0.0), (3236, 0.0), (3238, 0.0), (3239, 0.0), (3242, 0.0), (3243, 0.0), (3247, 0.0), (3250, 0.0), (3251, 0.0), (3252, 0.0), (3261, 0.0), (3263, 0.0), (3266, 0.0), (3269, 0.0), (3270, 0.0), (3271, 0.0), (3272, 0.0), (3277, 0.0), (3281, 0.0), (3283, 0.0), (3286, 0.0), (3287, 0.0), (3289, 0.0), (3290, 0.0), (3292, 0.0), (3305, 0.0), (3307, 0.0), (3310, 0.0), (3320, 0.0), (3321, 0.0), (3323, 0.0), (3324, 0.0), (3332, 0.0), (3333, 0.0), (3335, 0.0), (3336, 0.0), (3337, 0.0), (3338, 0.0), (3339, 0.0), (3340, 0.0), (3341, 0.0), (3343, 0.0), (3348, 0.0), (3350, 0.0), (3354, 0.0), (3358, 0.0), (3361, 0.0), (3366, 0.0), (3367, 0.0), (3368, 0.0), (3369, 0.0), (3371, 0.0), (3372, 0.0), (3378, 0.0), (3381, 0.0), (3383, 0.0), (3390, 0.0), (3392, 0.0), (3394, 0.0), (3397, 0.0), (3398, 0.0), (3400, 0.0), (3401, 0.0), (3404, 0.0), (3405, 0.0), (3411, 0.0), (3412, 0.0), (3414, 0.0), (3415, 0.0), (3419, 0.0), (3422, 0.0), (3424, 0.0), (3429, 0.0), (3431, 0.0), (3432, 0.0), (3434, 0.0), (3438, 0.0), (3439, 0.0), (3440, 0.0), (3441, 0.0), (3442, 0.0), (3443, 0.0), (3444, 0.0), (3448, 0.0), (3451, 0.0), (3452, 0.0), (3454, 0.0), (3455, 0.0), (3459, 0.0), (3461, 0.0), (3464, 0.0), (3467, 0.0), (3468, 0.0), (3472, 0.0), (3473, 0.0), (3475, 0.0), (3476, 0.0), (3478, 0.0), (3481, 0.0), (3482, 0.0), (3484, 0.0), (3485, 0.0), (3489, 0.0), (3490, 0.0), (3491, 0.0), (3494, 0.0), (3495, 0.0), (3497, 0.0), (3499, 0.0), (3502, 0.0), (3505, 0.0), (3507, 0.0), (3510, 0.0), (3513, 0.0), (3514, 0.0), (3517, 0.0), (3519, 0.0), (3520, 0.0), (3522, 0.0), (3525, 0.0), (3529, 0.0), (3530, 0.0), (3531, 0.0), (3532, 0.0), (3533, 0.0), (3537, 0.0), (3538, 0.0), (3539, 0.0), (3540, 0.0), (3543, 0.0), (3544, 0.0), (3545, 0.0), (3547, 0.0), (3548, 0.0), (3549, 0.0), (3550, 0.0), (3554, 0.0), (3555, 0.0), (3561, 0.0), (3562, 0.0), (3565, 0.0), (3567, 0.0), (3568, 0.0), (3570, 0.0), (3573, 0.0), (3576, 0.0), (3578, 0.0), (3581, 0.0), (3583, 0.0), (3584, 0.0), (3585, 0.0), (3587, 0.0), (3588, 0.0), (3589, 0.0), (3591, 0.0), (3592, 0.0), (3593, 0.0), (3595, 0.0), (3600, 0.0), (3602, 0.0), (3603, 0.0), (3604, 0.0), (3605, 0.0), (3606, 0.0), (3607, 0.0), (3608, 0.0), (3609, 0.0), (3610, 0.0), (3611, 0.0), (3615, 0.0), (3617, 0.0), (3619, 0.0), (3621, 0.0), (3622, 0.0), (3625, 0.0), (3627, 0.0), (3628, 0.0), (3629, 0.0), (3631, 0.0), (3633, 0.0), (3636, 0.0), (3644, 0.0), (3647, 0.0), (3649, 0.0), (3650, 0.0), (3658, 0.0), (3662, 0.0), (3663, 0.0), (3664, 0.0), (3668, 0.0), (3671, 0.0), (3672, 0.0), (3674, 0.0), (3676, 0.0), (3677, 0.0), (3678, 0.0), (3679, 0.0), (3681, 0.0), (3682, 0.0), (3683, 0.0), (3685, 0.0), (3686, 0.0), (3687, 0.0), (3688, 0.0), (3690, 0.0), (3691, 0.0), (3693, 0.0), (3695, 0.0), (3697, 0.0), (3698, 0.0), (3700, 0.0), (3701, 0.0), (3702, 0.0), (3703, 0.0), (3709, 0.0), (3710, 0.0), (3712, 0.0), (3714, 0.0), (3715, 0.0), (3716, 0.0), (3717, 0.0), (3718, 0.0), (3719, 0.0), (3721, 0.0), (3722, 0.0), (3723, 0.0), (3724, 0.0), (3725, 0.0), (3726, 0.0), (3729, 0.0), (3730, 0.0), (3732, 0.0), (3735, 0.0), (3736, 0.0), (3737, 0.0), (3738, 0.0), (3740, 0.0), (3743, 0.0), (3744, 0.0), (3746, 0.0), (3757, 0.0), (3758, 0.0), (3759, 0.0), (3760, 0.0), (3761, 0.0), (3764, 0.0), (3768, 0.0), (3769, 0.0), (3770, 0.0), (3773, 0.0), (3774, 0.0), (3775, 0.0), (3776, 0.0), (3781, 0.0), (3782, 0.0), (3783, 0.0), (3785, 0.0), (3786, 0.0), (3787, 0.0), (3788, 0.0), (3789, 0.0), (3790, 0.0), (3791, 0.0), (3792, 0.0), (3795, 0.0), (3796, 0.0), (3798, 0.0), (3800, 0.0), (3802, 0.0), (3803, 0.0), (3805, 0.0), (3806, 0.0), (3808, 0.0), (3812, 0.0), (3814, 0.0), (3815, 0.0), (3816, 0.0), (3817, 0.0), (3818, 0.0), (3820, 0.0), (3823, 0.0), (3824, 0.0), (3830, 0.0), (3831, 0.0), (3833, 0.0), (3834, 0.0), (3836, 0.0), (3837, 0.0), (3838, 0.0), (3840, 0.0), (3841, 0.0), (3843, 0.0), (3844, 0.0), (3846, 0.0), (3847, 0.0), (3848, 0.0), (3849, 0.0), (3851, 0.0), (3856, 0.0), (3858, 0.0), (3859, 0.0), (3863, 0.0), (3869, 0.0), (3870, 0.0), (3872, 0.0), (3874, 0.0), (3877, 0.0), (3878, 0.0), (3879, 0.0), (3881, 0.0), (3885, 0.0), (3886, 0.0), (3887, 0.0), (3889, 0.0), (3891, 0.0), (3894, 0.0), (3896, 0.0), (3897, 0.0), (3899, 0.0), (3905, 0.0), (3906, 0.0), (3907, 0.0), (3908, 0.0), (3911, 0.0), (3912, 0.0), (3914, 0.0), (3916, 0.0), (3918, 0.0), (3921, 0.0), (3929, 0.0), (3930, 0.0), (3931, 0.0), (3933, 0.0), (3935, 0.0), (3936, 0.0), (3937, 0.0), (3938, 0.0), (3942, 0.0), (3943, 0.0), (3944, 0.0), (3948, 0.0), (3950, 0.0), (3963, 0.0), (3964, 0.0), (3965, 0.0), (3966, 0.0), (3967, 0.0), (3968, 0.0), (3969, 0.0), (3970, 0.0), (3971, 0.0), (3972, 0.0), (3975, 0.0), (3977, 0.0), (3979, 0.0), (3980, 0.0), (3981, 0.0), (3982, 0.0), (3985, 0.0), (3986, 0.0), (3987, 0.0), (3988, 0.0), (3989, 0.0), (3991, 0.0), (3994, 0.0), (3995, 0.0), (3996, 0.0), (3997, 0.0), (4002, 0.0), (4003, 0.0), (4006, 0.0), (4010, 0.0), (4013, 0.0), (4015, 0.0), (4017, 0.0), (4018, 0.0), (4019, 0.0), (4021, 0.0), (4022, 0.0), (4026, 0.0), (4027, 0.0), (4029, 0.0), (4031, 0.0), (4034, 0.0), (4037, 0.0), (4039, 0.0), (4040, 0.0), (4041, 0.0), (4042, 0.0), (4043, 0.0), (4044, 0.0), (4045, 0.0), (4047, 0.0), (4049, 0.0), (4058, 0.0), (4059, 0.0), (4063, 0.0), (4065, 0.0), (4067, 0.0), (4070, 0.0), (4071, 0.0), (4072, 0.0), (4073, 0.0), (4075, 0.0), (4076, 0.0), (4078, 0.0), (4080, 0.0), (4083, 0.0), (4084, 0.0), (4086, 0.0), (4089, 0.0), (4090, 0.0), (4091, 0.0), (4093, 0.0), (4094, 0.0), (4097, 0.0), (4100, 0.0), (4102, 0.0), (4103, 0.0), (4105, 0.0), (4108, 0.0), (4109, 0.0), (4112, 0.0), (4114, 0.0), (4115, 0.0), (4119, 0.0), (4120, 0.0), (4125, 0.0), (4126, 0.0), (4127, 0.0), (4129, 0.0), (4131, 0.0), (4132, 0.0), (4136, 0.0), (4139, 0.0), (4140, 0.0), (4142, 0.0), (4144, 0.0), (4145, 0.0), (4146, 0.0), (4147, 0.0), (4148, 0.0), (4150, 0.0), (4153, 0.0), (4155, 0.0), (4157, 0.0), (4159, 0.0), (4161, 0.0), (4162, 0.0), (4166, 0.0), (4167, 0.0), (4168, 0.0), (4170, 0.0), (4173, 0.0), (4174, 0.0), (4175, 0.0), (4179, 0.0), (4180, 0.0), (4181, 0.0), (4185, 0.0), (4186, 0.0), (4188, 0.0), (4190, 0.0), (4191, 0.0), (4193, 0.0), (4194, 0.0), (4197, 0.0), (4198, 0.0), (4199, 0.0), (4200, 0.0), (4201, 0.0), (4204, 0.0), (4206, 0.0), (4207, 0.0), (4208, 0.0), (4209, 0.0), (4211, 0.0), (4212, 0.0), (4213, 0.0), (4214, 0.0), (4215, 0.0), (4218, 0.0), (4219, 0.0), (4220, 0.0), (4223, 0.0), (4224, 0.0), (4228, 0.0), (4229, 0.0), (4234, 0.0), (4237, 0.0), (4238, 0.0), (4239, 0.0), (4240, 0.0), (4241, 0.0), (4245, 0.0), (4248, 0.0), (4250, 0.0), (4251, 0.0), (4252, 0.0), (4253, 0.0), (4254, 0.0), (4256, 0.0), (4258, 0.0), (4260, 0.0), (4262, 0.0), (4264, 0.0), (4265, 0.0), (4267, 0.0), (4270, 0.0), (4271, 0.0), (4273, 0.0), (4274, 0.0), (4275, 0.0), (4276, 0.0), (4277, 0.0), (4278, 0.0), (4279, 0.0), (4280, 0.0), (4285, 0.0), (4289, 0.0), (4290, 0.0), (4291, 0.0), (4292, 0.0), (4294, 0.0), (4296, 0.0), (4297, 0.0), (4298, 0.0), (4299, 0.0), (4300, 0.0), (4301, 0.0), (4302, 0.0), (4304, 0.0), (4305, 0.0), (4306, 0.0), (4307, 0.0), (4308, 0.0), (4310, 0.0), (4312, 0.0), (4313, 0.0), (4315, 0.0), (4316, 0.0), (4317, 0.0), (4318, 0.0), (4319, 0.0), (4320, 0.0), (4322, 0.0), (4323, 0.0), (4324, 0.0), (4326, 0.0), (4327, 0.0), (4328, 0.0), (4329, 0.0), (4331, 0.0), (4332, 0.0), (4338, 0.0), (4339, 0.0), (4340, 0.0), (4341, 0.0), (4343, 0.0), (4346, 0.0), (4347, 0.0), (4348, 0.0), (4352, 0.0), (4353, 0.0), (4354, 0.0), (4355, 0.0), (4358, 0.0), (4359, 0.0), (4360, 0.0), (4361, 0.0), (4363, 0.0), (4364, 0.0), (4365, 0.0), (4370, 0.0), (4372, 0.0), (4376, 0.0), (4377, 0.0), (4381, 0.0), (4383, 0.0), (4384, 0.0), (4386, 0.0), (4390, 0.0), (4391, 0.0), (4392, 0.0), (4393, 0.0), (4397, 0.0), (4400, 0.0), (4404, 0.0), (4405, 0.0), (4406, 0.0), (4408, 0.0), (4409, 0.0), (4410, 0.0), (4413, 0.0), (4414, 0.0), (4415, 0.0), (4416, 0.0), (4417, 0.0), (4418, 0.0), (4421, 0.0), (4424, 0.0), (4425, 0.0), (4426, 0.0), (4427, 0.0), (4428, 0.0), (4431, 0.0), (4433, 0.0), (4434, 0.0), (4437, 0.0), (4438, 0.0), (4439, 0.0), (4441, 0.0), (4445, 0.0), (4447, 0.0), (4449, 0.0), (4451, 0.0), (4453, 0.0), (4454, 0.0), (4455, 0.0), (4457, 0.0), (4460, 0.0), (4461, 0.0), (4462, 0.0), (4463, 0.0), (4464, 0.0), (4468, 0.0), (4471, 0.0), (4476, 0.0), (4478, 0.0), (4480, 0.0), (4483, 0.0), (4485, 0.0), (4491, 0.0), (4493, 0.0), (4495, 0.0), (4496, 0.0), (4497, 0.0), (4498, 0.0), (4499, 0.0), (4500, 0.0), (4505, 0.0), (4506, 0.0), (4508, 0.0), (4509, 0.0), (4513, 0.0), (4514, 0.0), (4515, 0.0), (4518, 0.0), (4519, 0.0), (4525, 0.0), (4526, 0.0), (4527, 0.0), (4529, 0.0), (4532, 0.0), (4537, 0.0), (4538, 0.0), (4539, 0.0), (4541, 0.0), (4542, 0.0), (4543, 0.0), (4544, 0.0), (4545, 0.0), (4547, 0.0), (4549, 0.0), (4550, 0.0), (4552, 0.0), (4556, 0.0), (4558, 0.0), (4559, 0.0), (4560, 0.0), (4561, 0.0), (4562, 0.0), (4565, 0.0), (4567, 0.0), (4568, 0.0), (4569, 0.0), (4570, 0.0), (4574, 0.0), (4577, 0.0), (4578, 0.0), (4579, 0.0), (4580, 0.0), (4582, 0.0), (4584, 0.0), (4585, 0.0), (4586, 0.0), (4587, 0.0), (4592, 0.0), (4595, 0.0), (4597, 0.0), (4598, 0.0), (4599, 0.0), (4600, 0.0), (4604, 0.0), (4606, 0.0), (4609, 0.0), (4611, 0.0), (4612, 0.0), (4613, 0.0), (4615, 0.0), (4616, 0.0), (4618, 0.0), (4620, 0.0), (4621, 0.0), (4622, 0.0), (4628, 0.0), (4630, 0.0), (4631, 0.0), (4633, 0.0), (4634, 0.0), (4635, 0.0), (4639, 0.0), (4642, 0.0), (4644, 0.0), (4645, 0.0), (4646, 0.0), (4647, 0.0), (4648, 0.0), (4651, 0.0), (4653, 0.0), (4654, 0.0), (4655, 0.0), (4659, 0.0), (4661, 0.0), (4662, 0.0), (4663, 0.0), (4664, 0.0), (4665, 0.0), (4666, 0.0), (4667, 0.0), (4671, 0.0), (4672, 0.0), (4675, 0.0), (4676, 0.0), (4677, 0.0), (4678, 0.0), (4680, 0.0), (4681, 0.0), (4683, 0.0), (4686, 0.0), (4687, 0.0), (4688, 0.0), (4689, 0.0), (4690, 0.0), (4691, 0.0), (4692, 0.0), (4694, 0.0), (4696, 0.0), (4697, 0.0), (4698, 0.0), (4700, 0.0), (4702, 0.0), (4705, 0.0), (4708, 0.0), (4711, 0.0), (4714, 0.0), (4715, 0.0), (4716, 0.0), (4720, 0.0), (4725, 0.0), (4728, 0.0), (4729, 0.0), (4730, 0.0), (4732, 0.0), (4736, 0.0), (4737, 0.0), (4740, 0.0), (4741, 0.0), (4742, 0.0), (4743, 0.0), (4744, 0.0), (4745, 0.0), (4746, 0.0), (4749, 0.0), (4750, 0.0), (4751, 0.0), (4754, 0.0), (4755, 0.0), (4757, 0.0), (4758, 0.0), (4759, 0.0)]\n"
          ]
        }
      ]
    },
    {
      "cell_type": "code",
      "source": [
        "print('top 30 movies suggested for you: \\n')\n",
        "\n",
        "i = 1\n",
        "for movie in Sorted_Similar_Movies:\n",
        "  index = movie[0]\n",
        "  title_from_index = df[df.index==index]['Movie_Title'].values[0]\n",
        "  if(i<31):\n",
        "    print(i, '.',title_from_index)\n",
        "    i+=1"
      ],
      "metadata": {
        "colab": {
          "base_uri": "https://localhost:8080/"
        },
        "id": "_Qvu_2ICJW0F",
        "outputId": "47532065-fd22-4f77-bbd1-20df13dfc24d"
      },
      "execution_count": null,
      "outputs": [
        {
          "output_type": "stream",
          "name": "stdout",
          "text": [
            "top 30 movies suggested for you: \n",
            "\n",
            "1 . Niagara\n",
            "2 . My Week with Marilyn\n",
            "3 . The Boy Next Door\n",
            "4 . Some Like It Hot\n",
            "5 . The Juror\n",
            "6 . The Kentucky Fried Movie\n",
            "7 . Enough\n",
            "8 . Eye for an Eye\n",
            "9 . Superman III\n",
            "10 . Duel in the Sun\n",
            "11 . The Misfits\n",
            "12 . Camping Sauvage\n",
            "13 . Tora! Tora! Tora!\n",
            "14 . All That Jazz\n",
            "15 . Beyond the Black Rainbow\n",
            "16 . Brokeback Mountain\n",
            "17 . Master and Commander: The Far Side of the World\n",
            "18 . To Kill a Mockingbird\n",
            "19 . Harry Brown\n",
            "20 . The Dark Knight Rises\n",
            "21 . Running with Scissors\n",
            "22 . Edge of Darkness\n",
            "23 . Man on Wire\n",
            "24 . Broken Vessels\n",
            "25 . Mad Max 2: The Road Warrior\n",
            "26 . Intolerable Cruelty\n",
            "27 . The Curse of Downers Grove\n",
            "28 . Source Code\n",
            "29 . The Great Gatsby\n",
            "30 . Song One\n"
          ]
        }
      ]
    },
    {
      "cell_type": "markdown",
      "source": [
        "Top 10 Most Recommendation System"
      ],
      "metadata": {
        "id": "3CJe8gb2KS95"
      }
    },
    {
      "cell_type": "code",
      "source": [
        "Movie_Name = input('enter your favourite movie name:')\n",
        "\n",
        "list_of_all_titles = df['Movie_Title'].tolist()\n",
        "\n",
        "Find_Close_Match = difflib.get_close_matches(Movie_Name,list_of_all_titles)\n",
        "\n",
        "Close_match = Find_Close_Match[0]\n",
        "\n",
        "Index_of_Movie = df[df.Movie_Title == Close_match]['Movie_ID'].values[0]\n",
        "\n",
        "Recommendation_Score = list(enumerate(Similarity_Score[Index_of_Movie]))\n",
        "\n",
        "sorted_similar_movies  = sorted(Recommendation_Score, key = lambda x:x[1], reverse = True)\n",
        "\n",
        "print('top 10 Movies suggested for you  : \\n')\n",
        "\n",
        "i = 1\n",
        "\n",
        "for movie in Sorted_Similar_Movies:\n",
        "  index = movie[0]\n",
        "  title_from_index = df[df.Movie_ID==index]['Movie_Title'].values\n",
        "  if(i<11):\n",
        "    print(i, '.',title_from_index)\n",
        "    i+=1"
      ],
      "metadata": {
        "colab": {
          "base_uri": "https://localhost:8080/"
        },
        "id": "CIP7nnReKXMZ",
        "outputId": "fe029930-a507-4368-dd2d-ded3269d3933"
      },
      "execution_count": null,
      "outputs": [
        {
          "output_type": "stream",
          "name": "stdout",
          "text": [
            "enter your favourite movie name:avtaar\n",
            "top 10 Movies suggested for you  : \n",
            "\n",
            "1 . ['Avatar']\n",
            "2 . ['Act of Valor']\n",
            "3 . ['Heaven is for Real']\n",
            "4 . ['The Godfather']\n",
            "5 . ['Elizabethtown']\n",
            "6 . ['New Nightmare']\n",
            "7 . ['Gerry']\n",
            "8 . ['Bright Lights, Big City']\n",
            "9 . ['A Prairie Home Companion']\n",
            "10 . ['Cradle Will Rock']\n"
          ]
        }
      ]
    },
    {
      "cell_type": "code",
      "source": [],
      "metadata": {
        "id": "G6_YKYcSORNm"
      },
      "execution_count": null,
      "outputs": []
    }
  ]
}